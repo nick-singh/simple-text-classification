{
 "cells": [
  {
   "cell_type": "code",
   "execution_count": 72,
   "metadata": {},
   "outputs": [],
   "source": [
    "import pandas as pd\n",
    "import numpy as np\n",
    "import matplotlib.pyplot as plt\n",
    "import seaborn as sns\n",
    "from sklearn.feature_extraction.text import CountVectorizer\n",
    "from sklearn.feature_extraction.text import TfidfVectorizer\n",
    "from sklearn.linear_model import LogisticRegression\n",
    "from sklearn.model_selection import train_test_split\n",
    "\n",
    "\n",
    "from sklearn.decomposition import NMF, LatentDirichletAllocation, TruncatedSVD\n",
    "from string import punctuation\n",
    "from sklearn import svm\n",
    "from sklearn.utils import shuffle\n",
    "from nltk.corpus import stopwords\n",
    "from nltk.stem import WordNetLemmatizer\n",
    "import nltk\n",
    "from nltk import ngrams\n",
    "from itertools import chain\n",
    "\n",
    "from sklearn.metrics import recall_score, f1_score"
   ]
  },
  {
   "cell_type": "code",
   "execution_count": 28,
   "metadata": {},
   "outputs": [],
   "source": [
    "df = pd.read_csv('Reviews.csv')"
   ]
  },
  {
   "cell_type": "code",
   "execution_count": 29,
   "metadata": {},
   "outputs": [
    {
     "data": {
      "text/plain": [
       "(568454, 10)"
      ]
     },
     "execution_count": 29,
     "metadata": {},
     "output_type": "execute_result"
    }
   ],
   "source": [
    "df.shape"
   ]
  },
  {
   "cell_type": "code",
   "execution_count": 30,
   "metadata": {},
   "outputs": [
    {
     "data": {
      "text/html": [
       "<div>\n",
       "<style>\n",
       "    .dataframe thead tr:only-child th {\n",
       "        text-align: right;\n",
       "    }\n",
       "\n",
       "    .dataframe thead th {\n",
       "        text-align: left;\n",
       "    }\n",
       "\n",
       "    .dataframe tbody tr th {\n",
       "        vertical-align: top;\n",
       "    }\n",
       "</style>\n",
       "<table border=\"1\" class=\"dataframe\">\n",
       "  <thead>\n",
       "    <tr style=\"text-align: right;\">\n",
       "      <th></th>\n",
       "      <th>Id</th>\n",
       "      <th>ProductId</th>\n",
       "      <th>UserId</th>\n",
       "      <th>ProfileName</th>\n",
       "      <th>HelpfulnessNumerator</th>\n",
       "      <th>HelpfulnessDenominator</th>\n",
       "      <th>Score</th>\n",
       "      <th>Time</th>\n",
       "      <th>Summary</th>\n",
       "      <th>Text</th>\n",
       "    </tr>\n",
       "  </thead>\n",
       "  <tbody>\n",
       "    <tr>\n",
       "      <th>0</th>\n",
       "      <td>1</td>\n",
       "      <td>B001E4KFG0</td>\n",
       "      <td>A3SGXH7AUHU8GW</td>\n",
       "      <td>delmartian</td>\n",
       "      <td>1</td>\n",
       "      <td>1</td>\n",
       "      <td>5</td>\n",
       "      <td>1303862400</td>\n",
       "      <td>Good Quality Dog Food</td>\n",
       "      <td>I have bought several of the Vitality canned d...</td>\n",
       "    </tr>\n",
       "    <tr>\n",
       "      <th>1</th>\n",
       "      <td>2</td>\n",
       "      <td>B00813GRG4</td>\n",
       "      <td>A1D87F6ZCVE5NK</td>\n",
       "      <td>dll pa</td>\n",
       "      <td>0</td>\n",
       "      <td>0</td>\n",
       "      <td>1</td>\n",
       "      <td>1346976000</td>\n",
       "      <td>Not as Advertised</td>\n",
       "      <td>Product arrived labeled as Jumbo Salted Peanut...</td>\n",
       "    </tr>\n",
       "    <tr>\n",
       "      <th>2</th>\n",
       "      <td>3</td>\n",
       "      <td>B000LQOCH0</td>\n",
       "      <td>ABXLMWJIXXAIN</td>\n",
       "      <td>Natalia Corres \"Natalia Corres\"</td>\n",
       "      <td>1</td>\n",
       "      <td>1</td>\n",
       "      <td>4</td>\n",
       "      <td>1219017600</td>\n",
       "      <td>\"Delight\" says it all</td>\n",
       "      <td>This is a confection that has been around a fe...</td>\n",
       "    </tr>\n",
       "    <tr>\n",
       "      <th>3</th>\n",
       "      <td>4</td>\n",
       "      <td>B000UA0QIQ</td>\n",
       "      <td>A395BORC6FGVXV</td>\n",
       "      <td>Karl</td>\n",
       "      <td>3</td>\n",
       "      <td>3</td>\n",
       "      <td>2</td>\n",
       "      <td>1307923200</td>\n",
       "      <td>Cough Medicine</td>\n",
       "      <td>If you are looking for the secret ingredient i...</td>\n",
       "    </tr>\n",
       "    <tr>\n",
       "      <th>4</th>\n",
       "      <td>5</td>\n",
       "      <td>B006K2ZZ7K</td>\n",
       "      <td>A1UQRSCLF8GW1T</td>\n",
       "      <td>Michael D. Bigham \"M. Wassir\"</td>\n",
       "      <td>0</td>\n",
       "      <td>0</td>\n",
       "      <td>5</td>\n",
       "      <td>1350777600</td>\n",
       "      <td>Great taffy</td>\n",
       "      <td>Great taffy at a great price.  There was a wid...</td>\n",
       "    </tr>\n",
       "  </tbody>\n",
       "</table>\n",
       "</div>"
      ],
      "text/plain": [
       "   Id   ProductId          UserId                      ProfileName  \\\n",
       "0   1  B001E4KFG0  A3SGXH7AUHU8GW                       delmartian   \n",
       "1   2  B00813GRG4  A1D87F6ZCVE5NK                           dll pa   \n",
       "2   3  B000LQOCH0   ABXLMWJIXXAIN  Natalia Corres \"Natalia Corres\"   \n",
       "3   4  B000UA0QIQ  A395BORC6FGVXV                             Karl   \n",
       "4   5  B006K2ZZ7K  A1UQRSCLF8GW1T    Michael D. Bigham \"M. Wassir\"   \n",
       "\n",
       "   HelpfulnessNumerator  HelpfulnessDenominator  Score        Time  \\\n",
       "0                     1                       1      5  1303862400   \n",
       "1                     0                       0      1  1346976000   \n",
       "2                     1                       1      4  1219017600   \n",
       "3                     3                       3      2  1307923200   \n",
       "4                     0                       0      5  1350777600   \n",
       "\n",
       "                 Summary                                               Text  \n",
       "0  Good Quality Dog Food  I have bought several of the Vitality canned d...  \n",
       "1      Not as Advertised  Product arrived labeled as Jumbo Salted Peanut...  \n",
       "2  \"Delight\" says it all  This is a confection that has been around a fe...  \n",
       "3         Cough Medicine  If you are looking for the secret ingredient i...  \n",
       "4            Great taffy  Great taffy at a great price.  There was a wid...  "
      ]
     },
     "execution_count": 30,
     "metadata": {},
     "output_type": "execute_result"
    }
   ],
   "source": [
    "df.head()"
   ]
  },
  {
   "cell_type": "code",
   "execution_count": 35,
   "metadata": {},
   "outputs": [
    {
     "name": "stdout",
     "output_type": "stream",
     "text": [
      "(443777, 10) 82037\n"
     ]
    }
   ],
   "source": [
    "pos = df[df['Score']>3]\n",
    "neg = df[df['Score']<3]\n",
    "print pos.shape, neg.shape"
   ]
  },
  {
   "cell_type": "code",
   "execution_count": 39,
   "metadata": {},
   "outputs": [
    {
     "name": "stdout",
     "output_type": "stream",
     "text": [
      "(82037, 10) (82037, 10)\n"
     ]
    }
   ],
   "source": [
    "pos = pos.head(neg.shape[0])\n",
    "print pos.shape, neg.shape\n",
    "df = pd.concat([pos,neg])"
   ]
  },
  {
   "cell_type": "code",
   "execution_count": 40,
   "metadata": {},
   "outputs": [
    {
     "data": {
      "text/html": [
       "<div>\n",
       "<style>\n",
       "    .dataframe thead tr:only-child th {\n",
       "        text-align: right;\n",
       "    }\n",
       "\n",
       "    .dataframe thead th {\n",
       "        text-align: left;\n",
       "    }\n",
       "\n",
       "    .dataframe tbody tr th {\n",
       "        vertical-align: top;\n",
       "    }\n",
       "</style>\n",
       "<table border=\"1\" class=\"dataframe\">\n",
       "  <thead>\n",
       "    <tr style=\"text-align: right;\">\n",
       "      <th></th>\n",
       "      <th>Id</th>\n",
       "      <th>ProductId</th>\n",
       "      <th>UserId</th>\n",
       "      <th>ProfileName</th>\n",
       "      <th>HelpfulnessNumerator</th>\n",
       "      <th>HelpfulnessDenominator</th>\n",
       "      <th>Score</th>\n",
       "      <th>Time</th>\n",
       "      <th>Summary</th>\n",
       "      <th>Text</th>\n",
       "    </tr>\n",
       "  </thead>\n",
       "  <tbody>\n",
       "    <tr>\n",
       "      <th>183328</th>\n",
       "      <td>183329</td>\n",
       "      <td>B004U43ZO0</td>\n",
       "      <td>A3K7H7RBZZ8DGD</td>\n",
       "      <td>Laura Probst \"dragon wench\"</td>\n",
       "      <td>0</td>\n",
       "      <td>0</td>\n",
       "      <td>2</td>\n",
       "      <td>1308787200</td>\n",
       "      <td>Better than I expected, but not the greatest e...</td>\n",
       "      <td>I haven't had a Chips Ahoy cookie in many, man...</td>\n",
       "    </tr>\n",
       "    <tr>\n",
       "      <th>230027</th>\n",
       "      <td>230028</td>\n",
       "      <td>B000WB1YSE</td>\n",
       "      <td>A1ECSEKM3TKGU6</td>\n",
       "      <td>F. Reedus \"Divine_Diva\"</td>\n",
       "      <td>2</td>\n",
       "      <td>5</td>\n",
       "      <td>2</td>\n",
       "      <td>1323302400</td>\n",
       "      <td>Disappointed</td>\n",
       "      <td>Received my order today and notice the expirat...</td>\n",
       "    </tr>\n",
       "    <tr>\n",
       "      <th>11048</th>\n",
       "      <td>11049</td>\n",
       "      <td>B0000VYKXC</td>\n",
       "      <td>A3L88AH6MABEDL</td>\n",
       "      <td>Javier Denison</td>\n",
       "      <td>0</td>\n",
       "      <td>0</td>\n",
       "      <td>5</td>\n",
       "      <td>1081209600</td>\n",
       "      <td>Best coffee I've tasted. I try others but alwa...</td>\n",
       "      <td>If you like a strong but smooth flavorful coff...</td>\n",
       "    </tr>\n",
       "    <tr>\n",
       "      <th>102436</th>\n",
       "      <td>102437</td>\n",
       "      <td>B005CMA6DC</td>\n",
       "      <td>A38A1RUCUTL948</td>\n",
       "      <td>Christian H. Schadt \"Chris\"</td>\n",
       "      <td>0</td>\n",
       "      <td>0</td>\n",
       "      <td>4</td>\n",
       "      <td>1334016000</td>\n",
       "      <td>Potent</td>\n",
       "      <td>Recived  very quickly.  Found a recipe that ca...</td>\n",
       "    </tr>\n",
       "    <tr>\n",
       "      <th>48350</th>\n",
       "      <td>48351</td>\n",
       "      <td>B006H34CUS</td>\n",
       "      <td>A15UD4FN3CO0PG</td>\n",
       "      <td>kdenise</td>\n",
       "      <td>0</td>\n",
       "      <td>0</td>\n",
       "      <td>4</td>\n",
       "      <td>1344556800</td>\n",
       "      <td>Great for on the go!</td>\n",
       "      <td>I absolutely love this bar.  I took it with me...</td>\n",
       "    </tr>\n",
       "  </tbody>\n",
       "</table>\n",
       "</div>"
      ],
      "text/plain": [
       "            Id   ProductId          UserId                  ProfileName  \\\n",
       "183328  183329  B004U43ZO0  A3K7H7RBZZ8DGD  Laura Probst \"dragon wench\"   \n",
       "230027  230028  B000WB1YSE  A1ECSEKM3TKGU6      F. Reedus \"Divine_Diva\"   \n",
       "11048    11049  B0000VYKXC  A3L88AH6MABEDL               Javier Denison   \n",
       "102436  102437  B005CMA6DC  A38A1RUCUTL948  Christian H. Schadt \"Chris\"   \n",
       "48350    48351  B006H34CUS  A15UD4FN3CO0PG                      kdenise   \n",
       "\n",
       "        HelpfulnessNumerator  HelpfulnessDenominator  Score        Time  \\\n",
       "183328                     0                       0      2  1308787200   \n",
       "230027                     2                       5      2  1323302400   \n",
       "11048                      0                       0      5  1081209600   \n",
       "102436                     0                       0      4  1334016000   \n",
       "48350                      0                       0      4  1344556800   \n",
       "\n",
       "                                                  Summary  \\\n",
       "183328  Better than I expected, but not the greatest e...   \n",
       "230027                                       Disappointed   \n",
       "11048   Best coffee I've tasted. I try others but alwa...   \n",
       "102436                                             Potent   \n",
       "48350                                Great for on the go!   \n",
       "\n",
       "                                                     Text  \n",
       "183328  I haven't had a Chips Ahoy cookie in many, man...  \n",
       "230027  Received my order today and notice the expirat...  \n",
       "11048   If you like a strong but smooth flavorful coff...  \n",
       "102436  Recived  very quickly.  Found a recipe that ca...  \n",
       "48350   I absolutely love this bar.  I took it with me...  "
      ]
     },
     "execution_count": 40,
     "metadata": {},
     "output_type": "execute_result"
    }
   ],
   "source": [
    "df = shuffle(df)\n",
    "df.head()"
   ]
  },
  {
   "cell_type": "markdown",
   "metadata": {},
   "source": [
    "Remove all nutral scores and seperate the remaning into positive = 1 and negative = 0"
   ]
  },
  {
   "cell_type": "code",
   "execution_count": 41,
   "metadata": {},
   "outputs": [],
   "source": [
    "df = df[df['Score'] !=3]\n",
    "X = df['Text']\n",
    "y_map = {1:0, 2:0, 4:1, 5:1}\n",
    "y = df['Score'].map(y_map)"
   ]
  },
  {
   "cell_type": "code",
   "execution_count": 42,
   "metadata": {},
   "outputs": [
    {
     "data": {
      "text/plain": [
       "183328    I haven't had a Chips Ahoy cookie in many, man...\n",
       "230027    Received my order today and notice the expirat...\n",
       "11048     If you like a strong but smooth flavorful coff...\n",
       "102436    Recived  very quickly.  Found a recipe that ca...\n",
       "48350     I absolutely love this bar.  I took it with me...\n",
       "Name: Text, dtype: object"
      ]
     },
     "execution_count": 42,
     "metadata": {},
     "output_type": "execute_result"
    }
   ],
   "source": [
    "X.head()"
   ]
  },
  {
   "cell_type": "code",
   "execution_count": 43,
   "metadata": {},
   "outputs": [
    {
     "data": {
      "text/plain": [
       "183328    0\n",
       "230027    0\n",
       "11048     1\n",
       "102436    1\n",
       "48350     1\n",
       "Name: Score, dtype: int64"
      ]
     },
     "execution_count": 43,
     "metadata": {},
     "output_type": "execute_result"
    }
   ],
   "source": [
    "y.head()"
   ]
  },
  {
   "cell_type": "code",
   "execution_count": 49,
   "metadata": {},
   "outputs": [],
   "source": [
    "c = CountVectorizer(stop_words = 'english')\n",
    "\n",
    "def text_fit(X, y, model,clf_model,coef_show=1):\n",
    "    \n",
    "    X_c = model.fit_transform(X)\n",
    "    print('# features: {}'.format(X_c.shape[1]))\n",
    "    X_train, X_test, y_train, y_test = train_test_split(X_c, y, random_state=0)\n",
    "    print('# train records: {}'.format(X_train.shape[0]))\n",
    "    print('# test records: {}'.format(X_test.shape[0]))\n",
    "    clf = clf_model.fit(X_train, y_train)\n",
    "    y_pred = clf.predict(X_test)\n",
    "    recall = recall_score(y_test,y_pred)\n",
    "#     acc = clf.score(X_test, y_test)\n",
    "    print ('Model Recall: {}'.format(recall))\n",
    "    \n",
    "    if coef_show == 1: \n",
    "        w = model.get_feature_names()\n",
    "        coef = clf.coef_.tolist()[0]\n",
    "        coeff_df = pd.DataFrame({'Word' : w, 'Coefficient' : coef})\n",
    "        coeff_df = coeff_df.sort_values(['Coefficient', 'Word'], ascending=[0, 1])\n",
    "        print('')\n",
    "        print('-Top 20 positive-')\n",
    "        print(coeff_df.head(20).to_string(index=False))\n",
    "        print('')\n",
    "        print('-Top 20 negative-')        \n",
    "        print(coeff_df.tail(20).to_string(index=False))"
   ]
  },
  {
   "cell_type": "code",
   "execution_count": 50,
   "metadata": {},
   "outputs": [
    {
     "name": "stdout",
     "output_type": "stream",
     "text": [
      "# features: 68923\n",
      "# train records: 123055\n",
      "# test records: 41019\n",
      "Model Recall: 0.904778173654\n",
      "\n",
      "-Top 20 positive-\n",
      "Coefficient         Word\n",
      "   3.052398   pleasantly\n",
      "   2.621098       hooked\n",
      "   2.308768     downside\n",
      "   2.296864       resist\n",
      "   2.144687    excellant\n",
      "   2.132054      worries\n",
      "   2.094849        foamy\n",
      "   2.072250     terrific\n",
      "   2.044238     drawback\n",
      "   2.009091     popcorns\n",
      "   1.966116     receives\n",
      "   1.961743    addictive\n",
      "   1.960182    astronaut\n",
      "   1.953257    delicious\n",
      "   1.952553     satiated\n",
      "   1.930262          yay\n",
      "   1.929980  substitutes\n",
      "   1.925688    skeptical\n",
      "   1.923730      trainer\n",
      "   1.916551     soothing\n",
      "\n",
      "-Top 20 negative-\n",
      "Coefficient            Word\n",
      "  -2.191541       tasteless\n",
      "  -2.192293          endure\n",
      "  -2.194957         boredom\n",
      "  -2.221507           schar\n",
      "  -2.230741            blah\n",
      "  -2.259365       deceptive\n",
      "  -2.323115        terrible\n",
      "  -2.324444         expired\n",
      "  -2.331920          ripoff\n",
      "  -2.353837           awful\n",
      "  -2.399238            dive\n",
      "  -2.454524         sounded\n",
      "  -2.482113   disappointing\n",
      "  -2.511655     undrinkable\n",
      "  -2.585367    unacceptable\n",
      "  -2.674392        canceled\n",
      "  -2.711938       revolting\n",
      "  -2.738084  disappointment\n",
      "  -2.806468       cancelled\n",
      "  -3.248130           worst\n"
     ]
    }
   ],
   "source": [
    "text_fit(X, y, c, LogisticRegression())"
   ]
  },
  {
   "cell_type": "code",
   "execution_count": 51,
   "metadata": {},
   "outputs": [
    {
     "name": "stdout",
     "output_type": "stream",
     "text": [
      "# features: 68923\n",
      "# train records: 123055\n",
      "# test records: 41019\n",
      "Model Recall: 0.896969105374\n",
      "\n",
      "-Top 20 positive-\n",
      "Coefficient        Word\n",
      "  11.338433       great\n",
      "  10.204548   delicious\n",
      "   9.443271        best\n",
      "   9.003320     perfect\n",
      "   7.946854       loves\n",
      "   7.946203   excellent\n",
      "   7.591094      highly\n",
      "   7.065485   wonderful\n",
      "   6.983171        love\n",
      "   6.540532     amazing\n",
      "   6.323923        good\n",
      "   6.271130        nice\n",
      "   6.231908     awesome\n",
      "   6.211265      hooked\n",
      "   6.108621    favorite\n",
      "   5.813956       yummy\n",
      "   5.762844     pleased\n",
      "   5.580451      smooth\n",
      "   5.529453  pleasantly\n",
      "   5.404820        glad\n",
      "\n",
      "-Top 20 negative-\n",
      "Coefficient            Word\n",
      "  -5.396094           sorry\n",
      "  -5.403193        thinking\n",
      "  -5.456491       tasteless\n",
      "  -5.621197           waste\n",
      "  -5.736306          hoping\n",
      "  -5.765318           threw\n",
      "  -5.943502      disgusting\n",
      "  -5.963538         thought\n",
      "  -5.966658           stale\n",
      "  -6.281154          return\n",
      "  -6.464436           bland\n",
      "  -7.029500            weak\n",
      "  -7.311781  disappointment\n",
      "  -7.746277   unfortunately\n",
      "  -8.036472   disappointing\n",
      "  -8.141173        horrible\n",
      "  -8.142728           awful\n",
      "  -8.304724        terrible\n",
      "  -9.549571    disappointed\n",
      " -10.058209           worst\n"
     ]
    }
   ],
   "source": [
    "tfidf = TfidfVectorizer(stop_words = 'english')\n",
    "text_fit(X, y, tfidf, LogisticRegression())"
   ]
  },
  {
   "cell_type": "code",
   "execution_count": 52,
   "metadata": {},
   "outputs": [
    {
     "name": "stdout",
     "output_type": "stream",
     "text": [
      "# features: 1932701\n",
      "# train records: 123055\n",
      "# test records: 41019\n",
      "Model Recall: 0.910586168188\n",
      "\n",
      "-Top 20 positive-\n",
      "Coefficient       Word\n",
      "  17.375264      great\n",
      "  13.968635  delicious\n",
      "  13.914504       best\n",
      "  12.003826    perfect\n",
      "  11.258600      loves\n",
      "  10.856881       love\n",
      "  10.226423  excellent\n",
      "   9.404226  wonderful\n",
      "   9.278675       nice\n",
      "   9.221883       good\n",
      "   8.994754   favorite\n",
      "   7.759070    amazing\n",
      "   7.553866       easy\n",
      "   7.304462     highly\n",
      "   7.220970    awesome\n",
      "   7.157324      happy\n",
      "   6.963684      yummy\n",
      "   6.843582     smooth\n",
      "   6.801180    pleased\n",
      "   6.790442      tasty\n",
      "\n",
      "-Top 20 negative-\n",
      "Coefficient            Word\n",
      "  -6.298376      disgusting\n",
      "  -6.424388           maybe\n",
      "  -6.535575           waste\n",
      "  -6.606266           threw\n",
      "  -6.656369          hoping\n",
      "  -7.332454  disappointment\n",
      "  -7.410207             bad\n",
      "  -7.618437           bland\n",
      "  -7.707115           money\n",
      "  -7.750474          return\n",
      "  -7.914746           stale\n",
      "  -8.565964            weak\n",
      "  -8.624831         thought\n",
      "  -8.924750   disappointing\n",
      "  -9.171949        horrible\n",
      "  -9.295581   unfortunately\n",
      "  -9.503525           awful\n",
      "  -9.764173        terrible\n",
      " -10.827564           worst\n",
      " -13.639681    disappointed\n"
     ]
    }
   ],
   "source": [
    "tfidf_n = TfidfVectorizer(ngram_range=(1,2),stop_words = 'english')\n",
    "text_fit(X, y, tfidf_n, LogisticRegression())"
   ]
  },
  {
   "cell_type": "code",
   "execution_count": 68,
   "metadata": {},
   "outputs": [],
   "source": [
    "def display_topics(H, W, feature_names, documents, no_top_words, no_top_documents):\n",
    "    for topic_idx, topic in enumerate(H):\n",
    "        print \"Topic %d:\" % (topic_idx)\n",
    "        print \" \".join([feature_names[i]\n",
    "                        for i in topic.argsort()[:-no_top_words - 1:-1]])\n",
    "        print \n",
    "        top_doc_indices = np.argsort( W[:,topic_idx] )[::-1][0:no_top_documents]\n",
    "        for doc_index in top_doc_indices:\n",
    "            print documents[doc_index]"
   ]
  },
  {
   "cell_type": "code",
   "execution_count": 63,
   "metadata": {},
   "outputs": [
    {
     "name": "stdout",
     "output_type": "stream",
     "text": [
      "10000\n"
     ]
    }
   ],
   "source": [
    "documents = list(X)[0:10000]\n",
    "print len(documents)"
   ]
  },
  {
   "cell_type": "code",
   "execution_count": 64,
   "metadata": {},
   "outputs": [],
   "source": [
    "\n",
    "# NMF is able to use tf-idf\n",
    "tfidf_vectorizer = TfidfVectorizer(max_df=0.95, min_df=2, stop_words='english')\n",
    "tfidf = tfidf_vectorizer.fit_transform(documents)\n",
    "tfidf_feature_names = tfidf_vectorizer.get_feature_names()\n",
    "\n",
    "# LDA can only use raw term counts for LDA because it is a probabilistic graphical model\n",
    "tf_vectorizer = CountVectorizer(max_df=0.95, min_df=2, stop_words='english')\n",
    "tf = tf_vectorizer.fit_transform(documents)\n",
    "tf_feature_names = tf_vectorizer.get_feature_names()"
   ]
  },
  {
   "cell_type": "code",
   "execution_count": 65,
   "metadata": {},
   "outputs": [],
   "source": [
    "no_topics = 5"
   ]
  },
  {
   "cell_type": "code",
   "execution_count": 66,
   "metadata": {},
   "outputs": [
    {
     "name": "stderr",
     "output_type": "stream",
     "text": [
      "/Library/Python/2.7/site-packages/sklearn/decomposition/online_lda.py:294: DeprecationWarning: n_topics has been renamed to n_components in version 0.19 and will be removed in 0.21\n",
      "  DeprecationWarning)\n"
     ]
    }
   ],
   "source": [
    "# Run NMF\n",
    "nmf_model = NMF(n_components=no_topics, random_state=1, alpha=.1, l1_ratio=.5, init='nndsvd').fit(tfidf)\n",
    "nmf_W = nmf_model.transform(tfidf)\n",
    "nmf_H = nmf_model.components_\n",
    "\n",
    "# Run LDA\n",
    "lda_model = LatentDirichletAllocation(n_topics=no_topics, max_iter=5, learning_method='online', learning_offset=50.,random_state=0).fit(tf)\n",
    "lda_W = lda_model.transform(tf)\n",
    "lda_H = lda_model.components_\n"
   ]
  },
  {
   "cell_type": "code",
   "execution_count": 81,
   "metadata": {},
   "outputs": [],
   "source": [
    "#SVD\n",
    "lsi_model = TruncatedSVD(n_components=no_topics, n_iter=7, random_state=42).fit(tf)\n",
    "lsi_W = lsi_model.transform(tf)\n",
    "lsi_H = lsi_model.components_\n"
   ]
  },
  {
   "cell_type": "code",
   "execution_count": 77,
   "metadata": {},
   "outputs": [
    {
     "name": "stdout",
     "output_type": "stream",
     "text": [
      "NMF Topics \n",
      "\n",
      "\n",
      "Topic 0:\n",
      "like taste good product just flavor great love really buy\n",
      "\n",
      "I love this product very much. Normally, chips are too salty for me. This product is just perfect. I like to eat it without any sauce to enjoy its natural great flavor.\n",
      "I couldn't believe my luck. This little nut bar was included in my variety pack of these yummy Kind bars that I had ordered from Amazon last month. The taste and texture of this nut bar is the exact same taste as the beloved \"no bake fruit cake\" that my Nana made us when I was a little girl back in the 50s and 60s. It must be the dates and the particular kind of nuts because it tickles my taste buds in just such a way as to send me back years ago. I thank you Kind bar makers as being genius in your combinations of ingredients. I love these things... Love, love, love. I have just recently made an order with Amazon for a box of 12 of these things... and just when I remembered a book I wanted and decided to add that to my order... gosh, well, I goofed up and I hope that Amazon figures it out for me just in time because if I get all 24 of these nut bars I am in real trouble. I will eat them till they're gone. So, please, cross my fingers Amazon does their usual magic and gets my order just right! I have been invited to \"Like\" them on my Facebook page, but then I don't go there often and... well, if I tell everyone, then they may become hard to find in the future... sorta like telling everyone where your favorite fishing hole is and then not being able to go there because it's so crowded.<br /><br />Computers are so picky!  I offered to write a review of a different flavor of this Kind bar and it told me that only one review per product per customer... but I could edit my review! So, here I am. Back again to further praise and describe what has become my favorite snack food. They are so filling though, you have to watch it because it becomes a meal substitute and then your friends think you're no fun cause you won't eat with them! You're already full! The protein in these bars make them ideal for trail food, however, if you don't have the teeth for nuts, stay away. This last bar I decided I'd praise is the <a href=\"http://www.amazon.com/gp/product/B003TNANSO\">KIND PLUS, Peanut Butter Dark Chocolate + Protein, Gluten Free Bars (Pack of 12)</a>. I found them in my local grocery store but they often run out and that's what sent me to Amazon for a check on their availability. Yum! Lucky me! So, I'm out. I ate all I ordered last month and I'm daydreaming of them right now. Should've ordered them a week ago so I wouldn't be out now. These dark chocolate bars are so delicious I can conjure up the taste and sensation right now because. . . now here's the heaven part of this daydream. . .they taste like Baby Ruth candy bars from when I would a youth!  Yum, yum, yum.<br /><br />Gotta love it, guilt free candy! But, wait, everyone, it is NOT guilt free if you make it an extra snack, but instead make it part of your meal planning day. The nutrition and calorie info is printed on each bar and if you buy them in the carton, then the info is even easier to read.\n",
      "This is very good just a little too much of the A-1 flavor for us. Next time will order another flavor. If you really  love A-1 you will be pleased with it.\n",
      "I admit that I don't like most breakfast cereals, they are usually too sweet, too much one flavor (like Cinnamon) or too \"healthy\" (i.e. no flavor). But this one, I do like!<br /><br />It has a great combination of flavors, the roasted nut and honey are just right. They stay crunchy in milk, but are not too hard to eat. They taste good as a dry snack as well. I didn't feel they needed any added sugar or anything other than milk.<br /><br />The one bad thing is that the box is smaller compared to other cereals, so the value vs. price isn't as good. But overall, I do like this cereal and have already bought another box.\n",
      "Topic 1:\n",
      "br product amazon water organic fat ingredients com products review\n",
      "\n",
      "You must be daft<br /><br />If you think Kraft<br /><br />Tastes like real Parmesan cheese.<br /><br />Seems really mixed,<br /><br />So the flavor's prefixed.<br /><br />Which totally fails to please.\n",
      "\"No artificial color, no fillers\"... I bought some and threw them out once I gave a trial to my dogs.  They got diarrhea every time they ate these. Garlic & Onion?  The only two flavors in this \"treat\" are garlic and onion; they can both be TOXIC to dogs(look it up)!  Glycerine?  By-product of soap?!<br /><br />Do yourself, your dogs health, and your vet bill a favor--make your own for a lot less!<br /><br />Things your dog should never eat...Post it on your fridge:<br />-Alcohol<br />-Apple cores<br />-Avocado<br />-Bones<br />-Caffeine<br />-Cheese<br />-Chocolate<br />-Dough<br />-Fat<br />-GARLIC<br />-Grapes<br />-Ham<br />-Liver<br />-Milk<br />-Moldy foods<br />-Mushrooms<br />-ONIONS<br />-Potato peels<br />-Raisins<br />-Tuna\n",
      "Harmony House is a family owned company.<br />Founded and based in North Carolina.<br /><br />1 800 696 1395 -- A quality company.<br /><br />Their fruit is freeze dried and the vegs<br />are dehydrated.<br /><br />The mixed green/red peppers are wonderful.<br /><br />You can use them in ANYTHING! The peppers<br />are very hard to find.  I used to buy mine<br />from JUST TOMATOES but they quit making<br />them.<br /><br />A GREAT PRODUCT ! It is a little pricey-<br />with the $7.95 shipping.<br /><br />bbp okc 63 rtired\n",
      "I saw the advertisements for these Kashi Bars on the back of my cereal boxes and knew I had to try them.<br /><br />I decided to buy one of each flavors at my local grocery store before I buy a pack of 12 here on amazon. In my opinion, the Chocolate Turtle ones are the best tasting and closest to an actually candy bar.<br /><br />The toasted pecans on the outside are what makes this bar my favorite. And its good for you health wise!! 6g of Fiber and 12g of Protein.<br /><br />Total Fat = 5g = 8%<br /><br />Sat. Fat = 1.5g = 8%<br /><br />Trans Fat = 0g<br /><br />Cholesterol = 0mg<br /><br />Sodium = 200mg = 8%<br /><br />Potassium = 60mg = 2%<br /><br />Total Carb. = 28g = 9%<br /><br />Fiber = 6g = 24%<br /><br />Soluble Fiber 3g<br /><br />Insoluble Fiber 3g<br /><br />Sugars 14g<br /><br />Protein = 12g = 20%<br /><br />190 Calories<br /><br />Everything based on a 2000 Calorie Diet, just so you guys know. Finally, no High Fructose Corn Syrup or Partially Hydrogenated Oils. Can't go wrong!!!!  My local grocery store charges $1.79 for each of these, so great deal here.<br /><br />Hope that helps and enjoy!!!!!\n",
      "Topic 2:\n",
      "coffee cup cups bitter strong roast keurig bold flavor weak\n",
      "\n",
      "This coffee was very bitter.  Not my cup of coffee\n",
      "I bought this coffee based on the good reviews that I read. Unfortunately I do not like the taste of the coffee. The coffee is very light and you get more of the hazelnut taste than the coffee. I prefer my coffee to taste a little bitter. Basically if you like coffee which is heavily flavored then this is for you.\n",
      "I bought this coffee based on the good reviews that I read. Unfortunately I do not like the taste of the coffee. The coffee is very light and you get more of the hazelnut taste than the coffee. I prefer my coffee to taste a little bitter. Basically if you like coffee which is heavily flavored then this is for you.\n",
      "I don't know what makes Organic coffee different from regular coffee, and in this instance, I honestly don't care.  I'm used to Starbucks coffee, as well as the occasional Pete's coffee, as well had coffee in France, Belgium, Italy, and the Netherlands.  On a scale of 1 to 10, 10 being strongest coffee, this Marley brand coffee is like a 2.  Weaker than the old-style McDonald's coffee (before McCafe's came about).  Weaker than instant coffee.<br /><br />I'm sure there are other flavors and nuances to this coffee, but I honestly can't get past the weak flavor.  Perhaps, if you like weak coffee, this may be for you, and maybe the organic process leaches stuff out, but for me, this one's not to my taste.<br /><br />At least the flavor's not bitter.\n",
      "Topic 3:\n",
      "tea green teas drink bags stash chai flavor black iced\n",
      "\n",
      "I drink two cups of this tea every day.  This is my favorite tea and I have been a tea drinker all of my life. A very smooth cup of tea!\n",
      "STASH PREMIUM TEA has little to no taste, depending on the flavor used.  The Decaf Chocolate Hazelnut Tea has absolutely NO flavor even when I try 3 tea bags to a cup of boiling water. I purchased 6 - 18 count boxes.  I had tried a hot chocolate tea in one of our little delis and it was wonderful.  I don't remember the name of the tea.  I don't know if this is common for STASH tea or if I received an old batch.  I'm sitting here with over 100 tea bags with absolutely no flavor.<br /><br />If you're looking for a tea with flavor, I would discourage your using this tea.\n",
      "I enjoy having a cup of tea during the day.  I found that the Stash Premium Tea, Pomegranate Rasberry Green Tea bags  renews me.\n",
      "I have become quite the tea drinker, a bit of a tea snob actually.  I have tried them all. I no longer drink tea bag tea, only full leaf loose tea.  This English Breakfast tea by Stash, (full leaf loose) is by far my favorite and one I always come back to.  It has a nice body and aroma, yet never muddy.  Never bitter either.  I always add milk, never sugar, because to me, this tea has a natural sweetness to it.  It is clean & smooth, yet rich.<br />It has a perfect balance for my taste.  I cannot understand why some people only give this tea one star, maybe they just received a bad batch.  I will say that I have noticed slight differences from different batches I have received throughout the years.  I have been drinking this tea for 6 years now, and I love it.\n",
      "Topic 4:\n",
      "food dog dogs treats cat eat cats loves treat chicken\n",
      "\n",
      "Don't know if there is anything I can really say in terms of a review about dog food, but I do know that my dog loves this food!  My in law did a bunch of research on dog food for their own dogs and found that this brand was very good in terms of not using filler products to make their food so I tried it out.  In any case, this seems to be working out really well for my dog!!!\n",
      "I'm slowly weaning my puppy off Puppy Chow, so I've been adding Chef Michael's Grilled Sirloin dry food to his dry food. Pooper, my puppy, is a picky eater and he loves to steal cat food and he will hardly eat dry food unless I mix wet food into it. Though, he will eat this dog food without any wet food added to it. This dry food actually smells good even to me. My cats even tried to steal a piece of this dry food.<br /><br />I have 4 dogs, 3 outside my husband's coonhounds and my one inside dog,Pooper, who is a lovable mutt who is 1/2 German Shepard, 1/4 Boxer and 1/4 Cocker Spaniel. I will continue to buy this dog food for my inside dog. Though, it's too pricy on my budget to feed all of my dogs.<br /><br />I'd highly recommend this for any picky dog. My picky Pooper loves it.\n",
      "This is great dog food.  My dog is very fussy about food and will usually only eat meat that I eat.  I had to find a high in nutrition dog food that was not full of fillers and corn meal etc.  This is the food your looking for.  It probably is the best on the market and my dog deserves only the best.  We humans wouldn't eat something that we didn't like and we are smart enough to know what is good for our bodies.  So we treat our pets the same.  We use to feed our pets Science Diet but have decided to upgrade to be a better dog food that he likes to eat.  I think it has much better flavor so my dog eats it.  Yes it is costs more but well worth the added 15 dollars per month cost.\n",
      "My dogs seem to love this stuff. It is neat to see the dried fruit bits in the mix of this dog food, my dogs love the bits so much they lick the bowl clean to get all the crumbs. Seems to be quite good quality dog food with good ingredients as I checked against many reviews. I will try to stay with this dog food if cost permits as I had originally purchased from Amazon when there was a special discount offer on it.<br /><br />I am also impressed with the shipping/packing of the dog food. I was worried that would receive bag of dog food that was worn out from shipping but it arrived inside appropriate box and with paper filler for safe shipping of dog food. Very happy!\n"
     ]
    }
   ],
   "source": [
    "no_top_words = 10\n",
    "no_top_documents = 4\n",
    "print \"NMF Topics \\n\\n\"\n",
    "display_topics(nmf_H, nmf_W, tfidf_feature_names, documents, no_top_words, no_top_documents)\n"
   ]
  },
  {
   "cell_type": "code",
   "execution_count": 78,
   "metadata": {},
   "outputs": [
    {
     "name": "stdout",
     "output_type": "stream",
     "text": [
      "\n",
      "\n",
      "LDA Topics \n",
      "\n",
      "\n",
      "Topic 0:\n",
      "food dog br eat cat dogs cats treats just ingredients\n",
      "\n",
      "This review will make me sound really stupid, but whatever. I don't really care as long as people find out what's real and can avoid my mistakes.<br /><br />I got my wonderful little sweet Bella Bean when she was a few days shy of three years old. She had been bounced around from house to house and eating whatever was cheap. I have had cats around me my entire life, for about twenty-five years now. My mother always just fed them whatever, the kinds of food you buy in the supermarket - Friskies, Nine Lives, Kit & Kaboodle, stuff like that. And our cats were always fine, at least in terms of their eating habits. They would eat in the morning, stop when they were done, come back, and eat some more when they got hungry.<br /><br />My housemate at the time was working for Hill's and assured me that this was the best food ever made, so great, so on and so forth. I now know that she is an utter buffoon, but I initially trusted her judgment, which is so unfortunate because she doesn't think. She also had plenty of coupons for free or deeply discounted bags, which made it a much more attractive choice.<br /><br />I first tried feeding the little Bean an unmeasured amount of Science Diet in a bowl, but that didn't work, as she would devour it in one sitting. So then I took to measuring it, and she did the same thing. Then I started parsing it out to twice a day. That didn't work either, because she would start going crazy in the middle of the day, running around, intentionally destroying things, deliberately spilling her water, crying, etc., until she got more food. So then I split it into three servings. Same thing. Then it got to be four servings. That was a little better, but it was too much maintenance and unrealistic to be around every day to feed her four times. So then it went back to three. All the while, I was trying to reduce the amount of food I was feeding her to less than 3/4 of a cup because she was a little chubby. Reducing was hell. She became even more hungry, but I figured she would get used to it. Not really.<br /><br />For over a year, she would wake me up every morning looking for food in a serious way, knocking things off my desk, ripping up any paper she could find, scratching at the door and committing general acts of mischief. As soon as she got food, she was back to her sweet self, but only for three or four hours.<br /><br />We thought she was bored, we thought she was a little nutty, and maybe even had a kitty eating disorder. She always wanted food. It was kind of funny but in the end it was just sad.<br /><br />A few weeks back, we took her to a new (good, non-money factory) vet for her second checkup since I've had her. I talked with him about her being always hungry. He asked what she ate, and I told him the adult indoor Science Diet. Without saying as much, he basically told me that this food is garbage and I should look for something else. He said cat food should have a protein followed by a carbohydrate as the first two ingredients. Science Diet does, in a very loose, by-product kind of way - ground up slaughterhouse leftovers and corn dust. Then they put a bunch of vitamins in it to make it \"healthy,\" instead of just using good ingredients from the beginning. Not that I care about spending money on the Bean, but this food is way too expensive for what it is.<br /><br />So we began transitioning her onto Wellness indoor formula about two weeks ago. She is still eating 50 percent Science Diet with 50 percent Wellness (you really shouldn't just give a cat different food one day out of the blue) but SHE NEVER FREAKS OUT ANYMORE. It's amazing. And it's 100 percent because she is eating real food now, along with that sawdust and chicken hearts I still regrettable have to feed her. We have her down to eating twice a day, only 1/3 cup in TOTAL. She was eating three times a day, 5/8 of a cup in total. Now she eats some in the morning, walks away, eats some more a few hours later, and then looks for dinner about twelve hours after her initial feeding. No more knocking things over, no more trashing Dad's papers on the desk, no more howling, no more deliberately spilled water on the floor. It's incredible.<br /><br />I feel so bad that I was doing this to her for so long. We really thought she was just being dramatic or whatever. But no, she was genuinely hungry because she wasn't eating any real food.<br /><br />Do your cat a favor - buy her or him so food made with real ingredients, things you would eat - Wellness, Halo, Innova, Evo, whatever. Figure it out for yourself, but please don't feed your cat this. It's garbage.\n",
      "This review will make me sound really stupid, but whatever. I don't really care as long as people find out what's real and can avoid my mistakes.<br /><br />I got my wonderful little sweet Bella Bean when she was a few days shy of three years old. She had been bounced around from house to house and eating whatever was cheap. I have had cats around me my entire life, for about twenty-five years now. My mother always just fed them whatever, the kinds of food you buy in the supermarket - Friskies, Nine Lives, Kit & Kaboodle, stuff like that. And our cats were always fine, at least in terms of their eating habits. They would eat in the morning, stop when they were done, come back, and eat some more when they got hungry.<br /><br />My housemate at the time was working for Hill's and assured me that this was the best food ever made, so great, so on and so forth. I now know that she is an utter buffoon, but I initially trusted her judgment, which is so unfortunate because she doesn't think. She also had plenty of coupons for free or deeply discounted bags, which made it a much more attractive choice.<br /><br />I first tried feeding the little Bean an unmeasured amount of Science Diet in a bowl, but that didn't work, as she would devour it in one sitting. So then I took to measuring it, and she did the same thing. Then I started parsing it out to twice a day. That didn't work either, because she would start going crazy in the middle of the day, running around, intentionally destroying things, deliberately spilling her water, crying, etc., until she got more food. So then I split it into three servings. Same thing. Then it got to be four servings. That was a little better, but it was too much maintenance and unrealistic to be around every day to feed her four times. So then it went back to three. All the while, I was trying to reduce the amount of food I was feeding her to less than 3/4 of a cup because she was a little chubby. Reducing was hell. She became even more hungry, but I figured she would get used to it. Not really.<br /><br />For over a year, she would wake me up every morning looking for food in a serious way, knocking things off my desk, ripping up any paper she could find, scratching at the door and committing general acts of mischief. As soon as she got food, she was back to her sweet self, but only for three or four hours.<br /><br />We thought she was bored, we thought she was a little nutty, and maybe even had a kitty eating disorder. She always wanted food. It was kind of funny but in the end it was just sad.<br /><br />A few weeks back, we took her to a new (good, non-money factory) vet for her second checkup since I've had her. I talked with him about her being always hungry. He asked what she ate, and I told him the adult indoor Science Diet. Without saying as much, he basically told me that this food is garbage and I should look for something else. He said cat food should have a protein followed by a carbohydrate as the first two ingredients. Science Diet does, in a very loose, by-product kind of way - ground up slaughterhouse leftovers and corn dust. Then they put a bunch of vitamins in it to make it \"healthy,\" instead of just using good ingredients from the beginning. Not that I care about spending money on the Bean, but this food is way too expensive for what it is.<br /><br />So we began transitioning her onto Wellness indoor formula about two weeks ago. She is still eating 50 percent Science Diet with 50 percent Wellness (you really shouldn't just give a cat different food one day out of the blue) but SHE NEVER FREAKS OUT ANYMORE. It's amazing. And it's 100 percent because she is eating real food now, along with that sawdust and chicken hearts I still regrettable have to feed her. We have her down to eating twice a day, only 1/3 cup in TOTAL. She was eating three times a day, 5/8 of a cup in total. Now she eats some in the morning, walks away, eats some more a few hours later, and then looks for dinner about twelve hours after her initial feeding. No more knocking things over, no more trashing Dad's papers on the desk, no more howling, no more deliberately spilled water on the floor. It's incredible.<br /><br />I feel so bad that I was doing this to her for so long. We really thought she was just being dramatic or whatever. But no, she was genuinely hungry because she wasn't eating any real food.<br /><br />Do your cat a favor - buy her or him so food made with real ingredients, things you would eat - Wellness, Halo, Innova, Evo, whatever. Figure it out for yourself, but please don't feed your cat this. It's garbage.\n",
      "This review will make me sound really stupid, but whatever. I don't really care as long as people find out what's real and can avoid my mistakes.<br /><br />I got my wonderful little sweet Bella Bean when she was a few days shy of three years old. She had been bounced around from house to house and eating whatever was cheap. I have had cats around me my entire life, for about twenty-five years now. My mother always just fed them whatever, the kinds of food you buy in the supermarket - Friskies, Nine Lives, Kit & Kaboodle, stuff like that. And our cats were always fine, at least in terms of their eating habits. They would eat in the morning, stop when they were done, come back, and eat some more when they got hungry.<br /><br />My housemate at the time was working for Hill's and assured me that this was the best food ever made, so great, so on and so forth. I now know that she is an utter buffoon, but I initially trusted her judgment, which is so unfortunate because she doesn't think. She also had plenty of coupons for free or deeply discounted bags, which made it a much more attractive choice.<br /><br />I first tried feeding the little Bean an unmeasured amount of Science Diet in a bowl, but that didn't work, as she would devour it in one sitting. So then I took to measuring it, and she did the same thing. Then I started parsing it out to twice a day. That didn't work either, because she would start going crazy in the middle of the day, running around, intentionally destroying things, deliberately spilling her water, crying, etc., until she got more food. So then I split it into three servings. Same thing. Then it got to be four servings. That was a little better, but it was too much maintenance and unrealistic to be around every day to feed her four times. So then it went back to three. All the while, I was trying to reduce the amount of food I was feeding her to less than 3/4 of a cup because she was a little chubby. Reducing was hell. She became even more hungry, but I figured she would get used to it. Not really.<br /><br />For over a year, she would wake me up every morning looking for food in a serious way, knocking things off my desk, ripping up any paper she could find, scratching at the door and committing general acts of mischief. As soon as she got food, she was back to her sweet self, but only for three or four hours.<br /><br />We thought she was bored, we thought she was a little nutty, and maybe even had a kitty eating disorder. She always wanted food. It was kind of funny but in the end it was just sad.<br /><br />A few weeks back, we took her to a new (good, non-money factory) vet for her second checkup since I've had her. I talked with him about her being always hungry. He asked what she ate, and I told him the adult indoor Science Diet. Without saying as much, he basically told me that this food is garbage and I should look for something else. He said cat food should have a protein followed by a carbohydrate as the first two ingredients. Science Diet does, in a very loose, by-product kind of way - ground up slaughterhouse leftovers and corn dust. Then they put a bunch of vitamins in it to make it \"healthy,\" instead of just using good ingredients from the beginning. Not that I care about spending money on the Bean, but this food is way too expensive for what it is.<br /><br />So we began transitioning her onto Wellness indoor formula about two weeks ago. She is still eating 50 percent Science Diet with 50 percent Wellness (you really shouldn't just give a cat different food one day out of the blue) but SHE NEVER FREAKS OUT ANYMORE. It's amazing. And it's 100 percent because she is eating real food now, along with that sawdust and chicken hearts I still regrettable have to feed her. We have her down to eating twice a day, only 1/3 cup in TOTAL. She was eating three times a day, 5/8 of a cup in total. Now she eats some in the morning, walks away, eats some more a few hours later, and then looks for dinner about twelve hours after her initial feeding. No more knocking things over, no more trashing Dad's papers on the desk, no more howling, no more deliberately spilled water on the floor. It's incredible.<br /><br />I feel so bad that I was doing this to her for so long. We really thought she was just being dramatic or whatever. But no, she was genuinely hungry because she wasn't eating any real food.<br /><br />Do your cat a favor - buy her or him so food made with real ingredients, things you would eat - Wellness, Halo, Innova, Evo, whatever. Figure it out for yourself, but please don't feed your cat this. It's garbage.\n",
      "This review will make me sound really stupid, but whatever. I don't really care as long as people find out what's real and can avoid my mistakes.<br /><br />I got my wonderful little sweet Bella Bean when she was a few days shy of three years old. She had been bounced around from house to house and eating whatever was cheap. I have had cats around me my entire life, for about twenty-five years now. My mother always just fed them whatever, the kinds of food you buy in the supermarket - Friskies, Nine Lives, Kit & Kaboodle, stuff like that. And our cats were always fine, at least in terms of their eating habits. They would eat in the morning, stop when they were done, come back, and eat some more when they got hungry.<br /><br />My housemate at the time was working for Hill's and assured me that this was the best food ever made, so great, so on and so forth. I now know that she is an utter buffoon, but I initially trusted her judgment, which is so unfortunate because she doesn't think. She also had plenty of coupons for free or deeply discounted bags, which made it a much more attractive choice.<br /><br />I first tried feeding the little Bean an unmeasured amount of Science Diet in a bowl, but that didn't work, as she would devour it in one sitting. So then I took to measuring it, and she did the same thing. Then I started parsing it out to twice a day. That didn't work either, because she would start going crazy in the middle of the day, running around, intentionally destroying things, deliberately spilling her water, crying, etc., until she got more food. So then I split it into three servings. Same thing. Then it got to be four servings. That was a little better, but it was too much maintenance and unrealistic to be around every day to feed her four times. So then it went back to three. All the while, I was trying to reduce the amount of food I was feeding her to less than 3/4 of a cup because she was a little chubby. Reducing was hell. She became even more hungry, but I figured she would get used to it. Not really.<br /><br />For over a year, she would wake me up every morning looking for food in a serious way, knocking things off my desk, ripping up any paper she could find, scratching at the door and committing general acts of mischief. As soon as she got food, she was back to her sweet self, but only for three or four hours.<br /><br />We thought she was bored, we thought she was a little nutty, and maybe even had a kitty eating disorder. She always wanted food. It was kind of funny but in the end it was just sad.<br /><br />A few weeks back, we took her to a new (good, non-money factory) vet for her second checkup since I've had her. I talked with him about her being always hungry. He asked what she ate, and I told him the adult indoor Science Diet. Without saying as much, he basically told me that this food is garbage and I should look for something else. He said cat food should have a protein followed by a carbohydrate as the first two ingredients. Science Diet does, in a very loose, by-product kind of way - ground up slaughterhouse leftovers and corn dust. Then they put a bunch of vitamins in it to make it \"healthy,\" instead of just using good ingredients from the beginning. Not that I care about spending money on the Bean, but this food is way too expensive for what it is.<br /><br />So we began transitioning her onto Wellness indoor formula about two weeks ago. She is still eating 50 percent Science Diet with 50 percent Wellness (you really shouldn't just give a cat different food one day out of the blue) but SHE NEVER FREAKS OUT ANYMORE. It's amazing. And it's 100 percent because she is eating real food now, along with that sawdust and chicken hearts I still regrettable have to feed her. We have her down to eating twice a day, only 1/3 cup in TOTAL. She was eating three times a day, 5/8 of a cup in total. Now she eats some in the morning, walks away, eats some more a few hours later, and then looks for dinner about twelve hours after her initial feeding. No more knocking things over, no more trashing Dad's papers on the desk, no more howling, no more deliberately spilled water on the floor. It's incredible.<br /><br />I feel so bad that I was doing this to her for so long. We really thought she was just being dramatic or whatever. But no, she was genuinely hungry because she wasn't eating any real food.<br /><br />Do your cat a favor - buy her or him so food made with real ingredients, things you would eat - Wellness, Halo, Innova, Evo, whatever. Figure it out for yourself, but please don't feed your cat this. It's garbage.\n",
      "Topic 1:\n",
      "like taste good flavor great just sugar love chips chocolate\n",
      "\n",
      "I have been on Weight Watchers since June 24th of this year and have successfully lost 35 lbs. The one thing I missed was peanut butter!! It is very costly on the weight loss system that Weight Watchers established, Points Plus. When I saw it on Dr Phil's show, I was curious, ordered it and was I HAPPY. Mixing it with water, the recommended serving is 1 point, regular peanut butter can be as much as 5 points. When using sugar free jam or syrup to mix the powder in, the taste is wonderful and has the consistency of peanut butter, thanks to whom ever developed this product,for someone like myself, trying to get healthier,well this is just a blessing. I encourage anyone who is a peanut butter lover like me, and would like to have the taste without all of the fat and calories, GO FOR IT.\n",
      "I have been on Weight Watchers since June 24th of this year and have successfully lost 35 lbs. The one thing I missed was peanut butter!! It is very costly on the weight loss system that Weight Watchers established, Points Plus. When I saw it on Dr Phil's show, I was curious, ordered it and was I HAPPY. Mixing it with water, the recommended serving is 1 point, regular peanut butter can be as much as 5 points. When using sugar free jam or syrup to mix the powder in, the taste is wonderful and has the consistency of peanut butter, thanks to whom ever developed this product,for someone like myself, trying to get healthier,well this is just a blessing. I encourage anyone who is a peanut butter lover like me, and would like to have the taste without all of the fat and calories, GO FOR IT.\n",
      "Blue Diamond Bold Jalapeno Smokehouse Almonds are a great snack.  Almonds are one of the healthiest nuts that you can eat, and the Jalapeno Smokehouse flavor is very similar to chipotle.  This isn't too surprising since a chipotle is a smoked jalapeno after all.  From a nutrition stand point, the only special consideration that doesn't come will all almonds is the 180 mg of sodium per serving.  Unless you get a plain, unsalted nut this is pretty typical.  I like to keep a can of these either in my desk or in the pantry at home for snacking.  Grabbing a handful of these is great between meals when hunger strikes.  So if you are looking for a spicy snack that is fairly healthy, give these a try.\n",
      "Blue Diamond Bold Jalapeno Smokehouse Almonds are a great snack.  Almonds are one of the healthiest nuts that you can eat, and the Jalapeno Smokehouse flavor is very similar to chipotle.  This isn't too surprising since a chipotle is a smoked jalapeno after all.  From a nutrition stand point, the only special consideration that doesn't come will all almonds is the 180 mg of sodium per serving.  Unless you get a plain, unsalted nut this is pretty typical.  I like to keep a can of these either in my desk or in the pantry at home for snacking.  Grabbing a handful of these is great between meals when hunger strikes.  So if you are looking for a spicy snack that is fairly healthy, give these a try.\n",
      "Topic 2:\n",
      "coffee tea like taste flavor just cup good br drink\n",
      "\n",
      "Coffee is a very subjective thing.  Some people like coffee that borders on tea, others like the stuff that a certain national chain named after a famous Battlestar Galactica pilot serves.  For the record, I love the slightly-sour taste of Dunkin Donuts coffee and I find the stuff made by \"that other chain\" to be akin to re-hydrated cigarette ash.  For many years, we still percolated coffee...with most big-name brands of pre-ground coffee, you needed a percolator to bring out the flavor in it, but again, your tastes may vary.<br /><br />With my Keurig, my favorite coffee was Paul Neumans Extra Bold....because it didn't seem Extra Bold.  Until you buy 80 of them and get tired of the flavor.  Then, my favorites were the Caribu's....but something happened to that brand (see reviews) and I agree, they did something...either they don't put as much in the cups or they changed the blend, the sourcing of the beans, etc......wasted money on Caribu and wont go back to the brand.<br /><br />So Wolfgang Puck got the nod, tried 4 different flavors.  This one, Sorrento, is not my favorite of the bunch (currently Colombian Chef's Reserve).  It has a bolder strength (which I believe hard core coffee drinkers would consider Medium), but to me it has a simple burnt flavor to it.  Cream and Sweetener don't correct for this, and thus I'm a bit disappointed....but again it was a stab in the dark.<br /><br />I think if you prefer a slightly bolder, slightly more burnt flavor in your coffee...this may be for you.  I like the character of the Colombian Chef's Reserve, but it is not as strong, and perhaps that is just what my taste is slanted towards.  I don't believe you can get a bad cup of coffee in the Wolfgang Puck line however.  Can't say the same for some other K-cup brands.\n",
      "Twinings English Breakfast tea is a good, basic black tea (as is its stronger cousin, Irish Breakfast tea). But I find this loose tea to be a bit of a challenge. It is cut quite finely and no matter how fine the mesh on the infuser or strainer some of this always comes through. I drink a lot of tea and am fine with drinking some tea dust or even a few leaves, but I am talking about a lot of tea here...a teaspoon full or more in each cup.<br /><br />It is true that this tastes better than the bagged variety of Twinings English Breakfast tea. It is smoother and never bitter, as the bagged tea sometimes is. I have compromised and used the loose tea but I strain it through a coffee filter. The tins the tea comes in keep it quite fresh and though straining it is a hassle, it is worth it for me.<br /><br />This is moderately strong (I drink it black) and if you are sensitive to caffeine you might not want to drink it near bedtime. I use Amazon's Subscribe and Save program for this tea; it is a good bargain and I like the convenience of having it delivered. It is also hard to find the loose tea in supermarkets.\n",
      "The Good: The Marley Coffee One Love coffee pods are simple to use and even simpler to clean up.  Just remove the pod from the basket and throw away.  At $10 a box, the price per cup is not bad, either.<br /><br />The Bad:  The coffee is weak tasting.  I tried several pods with differing amounts of water and the coffee still tasted weak.  My pods were \"Exotic Floral and Berry\" flavored and this flavoring gave the coffee a strong, unpleasant aftertaste.  It didn't seem too bad the first few sips, but the aftertaste became more and more unpleasant as I drank the coffee.  I could not finish a full cup.  My daughter and my sister also tried the coffee and they thought it had an unpleasant taste.  Part of the problem could be that I am not fond of flavored coffees.  I believe that Marley Coffee comes in an espresso flavor and that might be better.<br /><br />I cannot recommend this coffee.\n",
      "Given the name and the talent behind it, I was convinced this would be awesome. Even the description had me sold however it just didn't live up to the hype.<br /><br />Since I didn't have a pod brewer, I originally tried brewing this coffee in a standard coffee maker which came out super weak even though I used 3 pods. Then I tried squeezing each of the pods into my coffee cup which made it a tad better but still weak. I drank this coffee black which I rarely do but any creamer would have just ruined it.<br /><br />I also tried brewing it like a tea which just didn't work at all. Eventually I found a pod machine and it was weak just using one pod. After using about 7 pods to try out this coffee and get a desired result, I just gave up. I couldn't get the desired quality and as for taste, it's equivalent to something you'll find in McDonalds. I didn't get a hint of anything else.\n",
      "Topic 3:\n",
      "product amazon order bag price ordered buy box time just\n",
      "\n",
      "I purchased these for my candy buffet at my wedding and I'm not impressed at all. I could have saved money by ordering them directly from Oriental Trading Company which is clearly where they came from. they look cheap and they're not as colorful as shown in the picture. the Oriental Trading Company information is on the back of the wrappers on the lollipops. most of the lollipop sticks are bent and two lollipops arrived broken. the box only has 12 lollipops, but in the description it says there's 16. I would have expected that if I knew they were coming from Oriental Trading Company, but that's not in the description, so I feel ripped off.\n",
      "While I received what I was looking for, the picture showed six sticks and the description said that the shipping weight would be 12.8 oz.  When it arrived it was ONE 12\" stick, weighing ONE oz, and in a box that weighed nowhere near 12 oz.  For this I paid over $5 shipping.  The ad was misleading for not indicating exactly what would be received.  Additionally, this is the same picture that they show for some they sell for 4x the price and a shipping weight of 16 oz.  The shipping cost for this item is the same.  I would be hesitant to order this item for fear that I would not know what I would be getting.\n",
      "My puggle pup is only 6 months old and he loves this antler chew. He's on his second one. The first one I think I bought like two months ago. It was a medium antler. The one he got today is 7-10 in. He stays on these antlers for a long time. Really keeps him busy. And It does not splinter as, from what I've read, other antlers do. I know it's up there in terms of price, but if you love your pup and don't want to give him garbage, then by this antler. I will update this post in the not-too-distant future with info as to how long it lasted.\n",
      "The product quality is great, but the seller is really taking advantage of the limited distribution of the Stella D'Oro brand due to the ongoing strike. The retail price clearly marked on each package is $2.79, so a case of 12 packages should retail for $33.48 plus shipping. Since the cost of this product is $47.95 plus shipping for a case of 12 packages, make sure you really are desperate for a Stella D'Oro before ordering.\n",
      "Topic 4:\n",
      "br product amazon use like just time store used organic\n",
      "\n",
      "THANKS TO AMAZON FOR CARRYING THIS WONDERFUL PRODUCT . MY LOCAL GROCERY STORE NO LONGER CARRIES THIS PRODUCT AND GENERALLY PROMOTES THIER PRIVATE LABEL HOUSE BRANDS .<br />FOR THOSE FOLKS WHOM ENJOY FETTUCCINE ALFREDO , THIS PRODUCT CANT BE BEAT .<br />IT IS FAST AND VERY EASY TO PREPARE AND A EXCELLENT ITALIAN PASTA DINNER CAN BE READY IN 30 MINUTES OR LESS .<br />FOR ME , I DO ADD SOME EXTRA PARM CHEESE TO THE MIX , YET , THAT IS PERSONAL PREFERENCE .<br />WE REALLY ENJOY TOSSING IN SOME BONELESS AND SKINLESS CHICKEN , GRILLED , TO ADD TO THE SAUCE AND CREATE OUR OWN....CHICKEN ALFREDO .<br />THANKS AGAIN TO AMAZON AND TO MC CORMICKS FOR MAKING THIS PRODUCT AVAILALBE .<br /><br />CHUCK RUNZO , PITTSBURGH , PA .\n",
      "As an Amazon Vine participant, I often get to review some tasty items, and this was no exception!<br /><br />This is about the easiest skillet dinner I've ever made! It is quite literally the one pan wonder, and has dinner on the table in less than a half hour! Plus, the kids all love it!!! [They'll probably be asking for more!]<br /><br />This package, with one pound of browned, lean ground beef, makes about 5 one-cup servings. Add a side dish of veggies, and your dinner is complete! Or, the box suggests adding chopped tomatoes and lettuce for a complete meal in one dish!<br /><br />It's simply a meal worth having often on your family's list of favorite dinners!<br /><br />I give this dinner Five Stars and my Thumbs Up Award!\n",
      "This <a href=\"http://www.amazon.com/gp/product/B001NO6EA2\">Crown Prince Natural Solid White Albacore Tuna In Spring Water, No Salt Added, 6 Ounce Tins (Pack of 24)</a> is very expensive and not unusually good. You can do better, even on Amazon: <a href=\"http://www.amazon.com/gp/product/B000LKVI14\">Natural Value Tuna, Solid No Salt Albacore in Water, 6-Ounce Cans (Pack of 24)</a> but if you have to pay shipping, forget it, go to Costco!\n",
      "Amazon.com maintains that review should focus on specific features of the product, and my experience with it.  Price is an integral part of a product feature, and I think in that respect this product is terribly over-priced.  You can get the same thing offered by Amazon.com at half of this price ($20 vs. $41).  And Costco does it even better, a 12lb bag of Lundberg organic short grain brown rice costs a little less than $14.  So if you want to eat healthy, there are better options than this one.\n"
     ]
    }
   ],
   "source": [
    "print \"\\n\\nLDA Topics \\n\\n\"\n",
    "display_topics(lda_H, lda_W, tf_feature_names, documents, no_top_words, no_top_documents)\n"
   ]
  },
  {
   "cell_type": "code",
   "execution_count": 82,
   "metadata": {},
   "outputs": [
    {
     "name": "stdout",
     "output_type": "stream",
     "text": [
      "\n",
      "\n",
      "LSI Topics \n",
      "\n",
      "\n",
      "Topic 0:\n",
      "br like food product just good taste coffee flavor amazon\n",
      "\n",
      "I was getting VERY worried, when I read some of the other reviews here.  Specifically, the \"One Star\" reviews, to which I always go, to see if the faults these other reviewers find with any merchandise would prevent me from buying it.<br /><br />WOW!  They sure seemed to hate the KETTLE CHIPS, BACKYARD BARBECUE 9-OUNCE BAGS, (PACK OF 12), that I had bought as 1 ounce bags, liked A LOT, decided to subscribe....and then, for good measure, got 2 orders of the 9 ounce bags.<br /><br />Yes...I love potato chips....especially these KETTLE CHIPS, BACKYARD BARBECUE FLAVOUR....but others seemed to really HATE them...or at least, hate how they had changed.<br />But then I realized they were talking about OTHER FLAVOURS!  Amazon, in it's deep wisdom, has obviously seen fit to put ALL comments concerning ALL flavours of KETTLE, (and other brands of?????) potato chips, TOGETHER!<br /><br />Of course, this DOES have SOME advantages, because most potato-chip lovers, (like me!), enjoy eating several flavour, and brand varieties.  So, comparisons can be made easily.  Also, as we're all potato-chip lovers, but each person has his or her very favourite flavour that they are reviewing, we are, here a sort of \"United Nations of Potato Chip Lovers\"....all different, but all united in our love of Potato Chips!  (The rest of the world can REALLY benefit from the example of our tightly-knit, but ever...er,...expanding...group here, I think! : )  But -- not at first realizing that these<br />different flavour reviews were all together, did cause me a little confusion and dismay.... at least to begin with.... (Amazon should have mentioned that this is the \"Kettle Potato Chip Review Forum\"! : )<br /><br />I am happy to report that KETTLE CHIPS, BACKYARD BARBEQUE FLAVOUR, are totally delicious!  (At least they are in the one-ounce bags...hopefully the same product in the 9 ounce bags will taste the same!)  These are definitely chips for ADULTS, however -- and/or children whose stronger-than-adult taste buds can withstand the very strong flavour of these chips.  They are NOT the strongest flavour I have ever had...that was from a jalapeno pepper chip which was far too strong for even me!<br />These Backyard Barbeque chips by Kettle, however, have just the right amount of sweetness, (with honey powder, onion and sugar), to take the edge of the stonger flavours<br />(paprika, chili pepper, cayenne pepper, and natural smoke flavour), of which there is less, (they come further down in the list of ingredients than the sweeteners.)<br /><br />The complete list of ingredients of these KETTLE BACKYARD BARBECUE CHIPS, (in the 1-ounce bags, and hopefully, in the 9 ounce bags as well), is as follows:<br /><br />Potatoes<br />Vegetable Oil, (Safflower and Sunflower Oil),<br />Honey Powder, (Dried cane sugar, honey),<br />Rice Powder<br />Sugar<br />Salt<br />Onion Powder<br />Tomato Powder<br />Paprika<br />Torula Yeast<br />Garlic Powder<br />Chili Pepper<br />Citric Acid<br />Cayenne Pepper<br />Paprika Oleoresin, (Colour)<br />Natural Smoke Flavour<br /><br />Naturally cooked, natural ingredients.  The combination is a true taste treat!<br /><br />Of course, as with all ptato chips, moderation is the key.<br />Potatoes contain a LOT of potassium....which gives energy and othr good things....but too much of which can damage kindneys.  The vegetable oil is great -- but too much oil, (as well as too much starch, from the potatoes), can hurt the eyes.  Natural smoke flavour is SO yummy....but it, (as well as sugar), has -- in very large amounts -- been linked to cancer production<br /><br />As far as the starch from the potatoes and oil go, this<br />can be ameliorated, (a bit), by drinking TEA...which is good for the eyes.  But as far as the potassium, (energy - good, too much -- bad for the kidneys), and the sugar and natural smoke flavour, (too much leading to cancer production) -- the only thing is to do what is good in everything.....M O D E R A T I O N...!<br /><br />Twice or three times a month, I allow myself to go on what I call a \"Potato Chip Diet\".  I eat only one large bag, (or the equivalent in small ones), of potato chips all day.  I supplement this with tea, coffee, and lemonade, as well as several servings of Carnation Instant Breakfast Essentials, (I like the Dark Chocolate flavour)  This adds up to fewer calories than I would normally eat, if I had my normal three meals a day plus snacks.  It also teaches me to eat s-l-o-w-l-y, because that one big bag, (or many little bags), never lasts as long as I'd like.  Anyway, with excercise and sensible eating, the rest of the month, (and keeping my scale nearby, and weighing myself at least twice a day, every day), I've taken off ten pounds in the last three months! : )<br /><br />These BACKYARD BARBEQUE flavour potato chips from KETTLE,<br />are totally scrumptious.  Except for those jalapino chips, (which tasted good, but were far too spicy for my own taste buds), I have yet to meet a potato chip I didn't like to eat.  These Kettle BACKYARD BARBEQUE flavour potato chips, with their combination of potatoes, sweetness, and spices, have truly become one of my top five favourites....if not the VERY first favourite, of all!<br /><br />Flavoured potato PERFECTION!\n",
      "Unfortunately most people are ill informed about vegan cats, including most veterinarians.<br /><br />Wild cats are in fact obligate carnivores. However, in domesticating the house cat and bringing it into our homes we have effectively removed the cat from its natural prey of mice, insects, birds, lizards, and other small creatures. During the past 100 years or so, as the human food industry was searching for a way to salvage and use all the waste materials from its processing lines, it came upon a wonderful solution. Lets boil it all up and dry it out and add it to the food we make for cats and dogs. As a result, the vast majority of commercial pet foods contain what are euphemistically referred to as the four D's, dead, dying, disabled, and diseased animals, along with other quite undesirable materials. Quite frankly, if you are feeding this junk to your pets, you are effectively poisoning them. We are seeing diseases in pets today that we have never seen before because of the wide variety of contaminated ingredients that are finding their way into the food we feed our companion animals. You know \"garbage in, garbage out!\"<br /><br />Now the issue here is not meat; it is about providing all the essential and non-essential amino acids (the building blocks of proteins) and vitamins and minerals that are bio-available to the particularly unique physiology of felids (cats). The quality, quantity, and availability of these nutrients can come from any source, and for those of us who are vegan, the best source is vegetable based.<br /><br />Tens of thousands, perhaps hundreds of thousands, of cats around the world live quite well on one of the several available vegan cat foods that are recognized as nutritionally complete. I personally have had 3 1/2 years of experience in feeding the Evolution kibble product that this review is addressing. It is a high quality product that is AAFCO certified as nutritionally complete for all life stages in cats. Not only is this product safe to feed your cat, but if you follow the recommended feeding procedures, you will find many benefits to both your cat's health and your wallet.<br /><br />If you desire more detailed information, I invite you to do a google search on vegan cats. I would put my web page information about this issue on this review, but it is against the policy for writing reviews on Amazon.<br /><br />Just for everyone's edification, I have researched this issue for well over 500 hours, read hundreds of technical papers, visited hundreds of web sites, and have made a commitment to specialize in feline nutrition as part of my Veterinary Technician studies. I probably know more about feline nutrition than 95% of all the vets in the world.<br /><br />My feline son is a vegan and will remain so because I am absolutely certain that his quality of life will be enhanced by his diet and that this choice will not be a detriment to his health.<br /><br />-------------------------------------<br /><br />Since writing this review in 2006 I have had a change in position about this particular product after 4 years of personal experience. The manufacturer of the Evolution foods was changing the formulation of the food on a regular basis and during that time I found that the Feline Kibble was not able to maintain the pH level in the urine of cats that was promised on the label and in their literature. At least that wasn't the case with my former feline son and my current feline son. As a result I can no longer recommend the use of Evolution Feline Kibble for male cats. Since urinary issues are different between male and female cats the Evolution Kibble MAY be satisfactory for feeding to female cats. Nutritionally the Evolution foods seem to be fine for nutrients but not necessarily adequate for maintaining the proper pH levels to avoid urinary issues for male cats.<br /><br />Consequently I am now recommending male cats use the Vegecat pH diet provided by Harbingers of a New Age. My son has been eating this food supplement in a specially prepared gluten formulation I created called a vegan feline roast. It is 62% protein, 33% fat, and 5% carbs and has a moisture content of about 60%. Almost a perfect combination of ingredients to mimic natural prey. My son finds this product to be very palatable and his urinary pH has been consistently at 6.4 for the three years that we have been producing and consuming this food. The drawback is that it takes about a half hour every 3 days to make the food and the cost is equivalent to a premium cat food. But on the other hand my son is trim, full of energy at 6 1/2 years, enjoys great health, no longer has urinary tract issues, and no other animal had to die in order to provide my son with life-giving nutrition.<br /><br />UPDATE:  4/17/11<br /><br />For those of you who are still considering feeding the Evolution kibble, please heed this warning.  Kibble is only 10% moisture content.  If you follow the directions given by the manufacturer to soak the kibble prior to feeding, you will end up with a mushy material that your cats may or may not like.  The danger in feeding the dry kibble is that your cat will eventually become so dehydrated that no amount of drinking will be sufficient to avoid hydration related illnesses.  Cats do not naturally drink water, they almost exclusively obtain all of their hydration from the food that they consume.  If they are eating something that only has 10% moisture, upon consumption the moisture that is contained within the digestive tract of the cat will be sucked into the food in order to give it enough fluidity to pass through the intestines.  This will often lead to gastro-intestinal diseases. Your cat will be constantly drinking water to make up for that deficiency, but no amount of drinking is enough to avoid the dehydration problem.  So please remember that the best source of moisture for your cat's health, comes from a wet food diet that is around 70% moisture.<br /><br />In October 2008 I wrote an article about vegan cats published in VegFamily magazine.  This information and more will help those who are interested in a vegan diet for cats understand more of the issues.<br /><br />UPDATE:  8/27/12<br /><br />My vegan feline son is now 8 years old and still maintains an extremely healthy life with absolutely no issues of any kind.  He has been using our Vegan Feline Roast product for the past 5 and 1/2 years and his lab tests indicate that his nutritional needs are being adequately met by his vegan diet.<br /><br />For those who are sceptical about a vegan diet for house cats, there is ample evidence that several vegan products are available to satisfy the nutritional needs of cats.  I am still not convinced that Evolution is a good product to feed based on my past history.  There are thousands of customers that seem to successfully feed the Evolution product; however, I believe that our Vegan Feline Roast Mix is a superior product that will yield far better results over the lifetime of feeding any house cat.  Our product is based on the Vegecat phi supplement offered by HOANA, which I have found to be an excellent product for hitting all of the missing nutritional elements that would otherwise come from meat.  The Vegecat product line has been successfully feeding thousands of cats over a 27 year period and we highly recommend the use of Vegecat for those people who wish to formulate their own vegan cat food.  The only difference between our food product and the HOANA vegecat product is that our product is a ready-to-make mix that has been specifically formulated for a high protein/high fat food that is easy to make and highly palatable to the vast majority of cats.<br /><br />I would caution people feeding the Evolution kibble to reconsider doing so.  The problem with kibble in general, not just the Evolution product, is the 10% moisture content of the food.  Cats that eat kibble exclusively will invariably become dehydrated and will not be able to consume enough water by drinking to avoid the condition.  Evolution kibble that is soaked with water prior to feeding, as recommended by the manufacturer, is an attempt to avoid this issue.  However, by soaking the product you will reduce the palatability quality to most cats and will make it harder for them to continue to want to eat the product.  This is a strategy to fix a problem that is inherent to the product itself.<br /><br />As time goes on, I become more convinced that using our Vegan Feline Roast product may in fact be a cure for diseases in cats like FLUTD and diabetes.  At some point in time I would like to perform a long term double blind scientifically significant study to support my empirical observations.  When my son started out 7 years ago eating Evolution kibble, he quickly developed a FLUTD condition, after 18 months of use, that cost $1500 at the vet to fix.  The last 5 1/2 years of eating nothing but our Vegan Feline Roast he has remained FLUTD free and maintains excellent health.  Just the savings alone from avoiding annual teeth cleaning has more than paid for itself in the use of our product.<br /><br />So my bottom line is to recommend not using Evolution Kibble in favor of either the HOANA vegecat supplement or our Vegan Feline Roast Mix.\n",
      "This honey is addictive. I was reminded of caramel when I first tried it -- it was enticingly sweet and ended in a licorice flavor, which I wasn't too fond of (because I hate licorice) until I continued to use it in my tea.<br /><br />As it turns out, it is addictive and I prefer it over my other raw organic honeys. It has to be that caramel note. This honey is decadent and definitely gourmet -- if you want something natural that tastes like a dessert, then this is it.<br /><br />The only downside is the lid to the glass jar. There is a 'food liner' underneath the lid. If you're familiar with Ball jars, they have a plastic layer on the underside of the aluminum lid that contains BPA. It's the same with this lid.<br /><br />I emailed Heavenly Organics and asked them if it contains BPA. They have not replied and it's been about a week.<br /><br />I planned to buy from their website because I'll save nearly fifty dollars by buying a case directly from their website. However, if they don't reply I'll just be spending my money on something else.<br /><br />Also, if you're easily offended by little specks of 'whatever' in raw honey, you might not want to order this. There's lots of debris in the jar that made me think the bees were harmed in the process of harvesting. I checked the website and they have a video that shows how the honey is harvested and I think they're trying their best not to harm the bees. This is obviously unfiltered but I have absolutely no problem with it.<br /><br />I think it is a big deal to buy from companies that treat the bees with respect and avoid the ones who are careless and harm the bees. I'm not 100% sure about this one, since the video is showing how most honey in India is harvested and isn't showing a video of this one particular company's methods, but their website suggests that they are very careful and pride themselves on how they treat animals with care and respect. I trust them enough.<br /><br />They have two other types of honey for sell on their website that I really want to try, but first I need to know about those lids.<br /><br />**Update 20/08/12<br />They replied to my email and confirmed that the lids DO contain BPA.<br /><br />\"I apologize for the delay in response.<br /><br />The closures from Techno Cap have BPA in the plastisol liner. The information I have<br />is that the BPA is an under coating in the plastisol liner and doesn't come in direct contact<br />with the packaged product. They also point out that the process to manufacture the closures and<br />the process to manufacture polycarbonate bottles are completely different. Apparently they have<br />tested these liners in Europe where the standards are very stringent. They have ruled them safe<br />as regards to BPA.\"<br /><br />Plastisol contains \"PVC.\" PVC is worse for your health than BPA. It is in NO WAY healthier than BPA. I asked another company recently what their food liner consists of and I got the same answer. The coat that comes into contact with your food is plastisol, and beneath the plastisol is the layer that contains BPA. I'm going to avoid these types of lids from now on since they all seem to be lined in plastisol.<br /><br />I would pay more for this product if they would use a safer lid. It's about fifty-three bucks including shipping for a case of honey from their website and I would throw twenty more dollars at them if they'd use safer lids. BPA and PVC in lids makes it hard for an organic buyer to find a product that is truly organic.<br /><br />Organic honey with BPA and PVC free packaging:<br /><a href=\"http://www.amazon.com/gp/product/B000VK08OC\">Certified Organic Manuka</a><br /><a href=\"http://www.amazon.com/gp/product/B000Y3ZECM\">Really Raw Honey, 1 X 16 Oz</a><br /><a href=\"http://www.amazon.com/gp/product/B000OMJWXU\">Wee Bee Naturally Raw Honey -- 1 lb Each</a><br /><a href=\"http://www.amazon.com/gp/product/B001BC740A\">Hnz Organic Clover Honey, 1.1PoundsJar</a><br /><a href=\"http://www.amazon.com/gp/product/B000H89EWK\">Himalaya Herbal Healthcare - Soliga Forest Organic Honey, 8.8 oz gel</a><br /><a href=\"http://www.amazon.com/gp/product/B006GV6O34\">Wholesome Sweeteners Organic Raw Honey, 16oz</a>\n",
      "This gift basket consists of mostly Francis Coppola Mammarella brand products. The \"basket\" arrived in one big box inside another big box. The gift itself is shrink wrapped in plastic and tied with a very cheap stringy straw-like bow on top.<br /><br />Included in the gift basket I received was:<br /><br />- 1 pkg of 3 almond anise biscotti<br /><br />- 1 12 oz. box of Bumbola Pasta Rustica made of organic ingredients<br /><br />- 1 12 oz. box of Gemelli Pasta Rustica made of organic ingredients<br /><br />- 1 25 oz. jar of Tomato Basil Pasta Sauce made of organic ingrediets with first 3 ingredients being organic tomatoes, organic tomato puree, and oganic onions<br /><br />- 1 recipe card for Farfallone pasta not included in the gift<br /><br />- 1 \"apron towel\" 32-1/2 inch wide by 28 inch long with Mammarella name on it.  This towel should be used to wrap partially around your waist and be tucked into your pants as you cook.<br /><br />- 1 5 qt stainless colander made in India.  The tag did not say stainless steel only stainless; whatever that means.<br /><br />PROS:<br /><br />The pasta sauce tasted good; more like Classico than the cheaper Ragu or Prego.  The sauce was good only for one box of pasta, however.<br /><br />The Gemelli pasta I tried tasted like any store-bought pasta and to me that was good.<br /><br />The biscotti tasted fine as well, especially dunked in tea.<br /><br />CONS:<br /><br />The towel-like apron is made of a thin feed-sack material.<br /><br />The colandar is very light, very thin and almost felt like tin. In addition, I couldn't get the glue mark from the decal off even after I used the adhesive remover Goof Off.  The paper towel I used to wipe on the Goof Off also became stained gray which has not happened before when I've used this remover previously on true stainless steel--which I doubt this is.<br /><br />The gemelli pasta box I opened filled only half the box, which means the packaging is large to give you the impression you are getting more.<br /><br />The rest of the gift is all shredded cardboard stuffing.<br /><br />In summary, at the current price of $44.99 with the cheap colander and apron towel and the lackluster brown boxes of pasta, you could have paid around $27 to make this yourself. For instance, a similar box of the same brand of pasta (Francis Coppola Mammarella Quadrefiore Pasta Rustica) is currently listed for $2 on Amazon. A comparable colander is currently listed for $9.99(<a href=\"http://www.amazon.com/gp/product/B00555ETXY\">ExcelSteel 242 5-Quart Stainless Steel Colander</a>). The actual pasta sauce (<a href=\"http://www.amazon.com/gp/product/B000AQHJFI\">Francis Coppola Pomodoro-Basilico Sauce</a>) is currently listed for $6.49.  So if you added all that together plus threw in a few dollars for the cheap towel apron and 3 biscotti, I doubt you would be have paid more than $30. The mark-up is just too high at the current price.<br /><br />If this gift were priced at $27 or $30 max, then I would consider this an okay buy (3-stars) realizing that at the price you should expect the quality of the non-food items to be cheap, cheap, cheap.  The food is fine but are 2 boxes of pasta, 1 jar of sauce and 3 cookies worth this price?  In my opinion at the current price, this product isn't even worth considering.\n",
      "Topic 1:\n",
      "br magnesium rda diamond trans tapioca approximately dietary allowance tolerance\n",
      "\n",
      "Tapioca Cream<br /><br />¼ cup Let's Do...Organic® Organic Tapioca Pearls<br />2 cups Scalded milk<br />2 Eggs, separated as per directions below<br />1/3 cup Sugar<br />¼ tsp Salt<br />1 tsp Vanilla<br /><br />  * Soak tapioca for one hour in cold water. Drain and add to milk.<br />  * Cook the milk and tapioca in double boiler until tapioca is transparent.<br />  * Add half of the sugar to the milk mixture and the other half of the sugar to the egg yolks that have been slightly beaten.<br />  * Add the salt (if using) to the egg yolk mixture.<br />  * Beat the egg whites until they are stiff and set aside.<br />  * Combine all (except the egg whites) to the double boiler and cook until it thickens.<br />  * Remove from stove top and add egg whites and vanilla.<br />  * Chill and serve.<br /><br />Tapioca Pudding<br /><br />2 cups Water<br />3 Tbsp Let's Do...Organic® Tapioca Pearls<br />3 Tbsp Sugar<br />1/8 tsp Salt (optional)<br />¾ cup Native Forest® Organic Coconut Milk<br />1/3 cup Let's Do...Organic® Shredded Coconut (optional)<br /><br />  * In a saucepan, bring the water to boil.<br />  * Use a whisk or fork to add the tapioca pearls thus preventing them from sticking together.<br />  * Let the tapioca cook for about 17 minutes, until the pearls will have lost about half of their opaqueness.<br />  * The mixture will have slightly thickened & the liquid will be cloudy.<br />  * In a separate bowl, whisk the sugar, salt & coconut milk together.<br />  * When the tapioca has finished its initial cooking, whisk in the coconut milk mixture.<br />  * Let cook for 5 minutes.<br />  * If adding the shredded coconut, stir in & cook 2-3 minutes.<br />  * Refrigerate to room temperature.<br />  * Stir well to break up the tapioca before serving.<br />  * Options: Add fresh berries or sliced bananas.\n",
      "Ranchero sauce is traditionally tomato-based, similar to the salsa brought to the table with tortilla chips in \"Mexican\" restaurants.<br /><br />I compared the ingredients of this sauce to a jar of commercial mayonnaise.  The primary difference is the substitution of whey for some of the egg plus the addition of flavorings, colorings, preservatives, and chemicals to adjust the texture and thickness.<br /><br />The resulting mildly spicy sauce has the appearance and consistency of Thousand Island dressing with tiny specks in it but with a very unpleasant chemical smell and taste.<br /><br />You can easily make a much better-tasting and less expensive substitute for this sauce by adding  a tablespoon of salsa or ketchup, a teaspoon of chili powder, and a half-teaspoon each of garlic powder and sugar to a cup of mayonnaise, with vinegar-based hot sauce to taste.<br /><br />Ingredients:<br /><br />Soybean Oil, Water, Whey (from Milk), Vinegar, Buttermilk*, Salt, Egg Yolks, Sugar.<br /><br />Contains less than 2% of Spice, Tomato*, Modified Food Starch, Garlic*, Garlic Juice, Onions*, Xanthan Gum, Citric Acid, Yeast Extract, Phosphoric Acid, Gum Arabic, Corn Syrup, Disodium Inosinate and Disodium Guanylate, Natural Flavor, Artificial Color, with Sorbic Acid and Calcium Disodium EDTA as preservatives.<br /><br />*Dried. Contains: Milk, Egg.<br /><br />Nutrition:<br /><br />Serving size: 2 Tablespoons 29g<br />Servings - 8<br /><br />Amount per serving:<br />Calories - 110<br />Total fat - 11g<br />Saturated fat - 1.5g<br />Trans fat - 0g<br />Cholesterol - 10mg<br />Sodium - 310mg<br />Total Carbohydrates - 3g<br />Fiber - 0g<br />Sugars - 1g<br />Protein - &lt;1g<br />Vitamin A - 2% DV<br />Vitamin C - 0% DV<br />Calcium - 0% DV<br />Iron 0% - DV<br /><br />*** Note that although the bottle looks exactly like a regular Kraft salad dressing bottle, it is only 8 ounces instead of the usual 16 ounces.\n",
      "I saw the advertisements for these Kashi Bars on the back of my cereal boxes and knew I had to try them.<br /><br />I decided to buy one of each flavors at my local grocery store before I buy a pack of 12 here on amazon. In my opinion, the Chocolate Turtle ones are the best tasting and closest to an actually candy bar.<br /><br />The toasted pecans on the outside are what makes this bar my favorite. And its good for you health wise!! 6g of Fiber and 12g of Protein.<br /><br />Total Fat = 5g = 8%<br /><br />Sat. Fat = 1.5g = 8%<br /><br />Trans Fat = 0g<br /><br />Cholesterol = 0mg<br /><br />Sodium = 200mg = 8%<br /><br />Potassium = 60mg = 2%<br /><br />Total Carb. = 28g = 9%<br /><br />Fiber = 6g = 24%<br /><br />Soluble Fiber 3g<br /><br />Insoluble Fiber 3g<br /><br />Sugars 14g<br /><br />Protein = 12g = 20%<br /><br />190 Calories<br /><br />Everything based on a 2000 Calorie Diet, just so you guys know. Finally, no High Fructose Corn Syrup or Partially Hydrogenated Oils. Can't go wrong!!!!  My local grocery store charges $1.79 for each of these, so great deal here.<br /><br />Hope that helps and enjoy!!!!!\n",
      "I saw the advertisements for these Kashi Bars on the back of my cereal boxes and knew I had to try them.<br /><br />I decided to buy one of each flavors at my local grocery store before I buy a pack of 12 here on amazon. In my opinion, the Chocolate Turtle ones are the best tasting and closest to an actually candy bar.<br /><br />The toasted pecans on the outside are what makes this bar my favorite. And its good for you health wise!! 6g of Fiber and 12g of Protein.<br /><br />Total Fat = 5g = 8%<br /><br />Sat. Fat = 1.5g = 8%<br /><br />Trans Fat = 0g<br /><br />Cholesterol = 0mg<br /><br />Sodium = 200mg = 8%<br /><br />Potassium = 60mg = 2%<br /><br />Total Carb. = 28g = 9%<br /><br />Fiber = 6g = 24%<br /><br />Soluble Fiber 3g<br /><br />Insoluble Fiber 3g<br /><br />Sugars 14g<br /><br />Protein = 12g = 20%<br /><br />190 Calories<br /><br />Everything based on a 2000 Calorie Diet, just so you guys know. Finally, no High Fructose Corn Syrup or Partially Hydrogenated Oils. Can't go wrong!!!!  My local grocery store charges $1.79 for each of these, so great deal here.<br /><br />Hope that helps and enjoy!!!!!\n",
      "Topic 2:\n",
      "food cat dog eating cats eat diet ingredients day feeding\n",
      "\n",
      "Unfortunately most people are ill informed about vegan cats, including most veterinarians.<br /><br />Wild cats are in fact obligate carnivores. However, in domesticating the house cat and bringing it into our homes we have effectively removed the cat from its natural prey of mice, insects, birds, lizards, and other small creatures. During the past 100 years or so, as the human food industry was searching for a way to salvage and use all the waste materials from its processing lines, it came upon a wonderful solution. Lets boil it all up and dry it out and add it to the food we make for cats and dogs. As a result, the vast majority of commercial pet foods contain what are euphemistically referred to as the four D's, dead, dying, disabled, and diseased animals, along with other quite undesirable materials. Quite frankly, if you are feeding this junk to your pets, you are effectively poisoning them. We are seeing diseases in pets today that we have never seen before because of the wide variety of contaminated ingredients that are finding their way into the food we feed our companion animals. You know \"garbage in, garbage out!\"<br /><br />Now the issue here is not meat; it is about providing all the essential and non-essential amino acids (the building blocks of proteins) and vitamins and minerals that are bio-available to the particularly unique physiology of felids (cats). The quality, quantity, and availability of these nutrients can come from any source, and for those of us who are vegan, the best source is vegetable based.<br /><br />Tens of thousands, perhaps hundreds of thousands, of cats around the world live quite well on one of the several available vegan cat foods that are recognized as nutritionally complete. I personally have had 3 1/2 years of experience in feeding the Evolution kibble product that this review is addressing. It is a high quality product that is AAFCO certified as nutritionally complete for all life stages in cats. Not only is this product safe to feed your cat, but if you follow the recommended feeding procedures, you will find many benefits to both your cat's health and your wallet.<br /><br />If you desire more detailed information, I invite you to do a google search on vegan cats. I would put my web page information about this issue on this review, but it is against the policy for writing reviews on Amazon.<br /><br />Just for everyone's edification, I have researched this issue for well over 500 hours, read hundreds of technical papers, visited hundreds of web sites, and have made a commitment to specialize in feline nutrition as part of my Veterinary Technician studies. I probably know more about feline nutrition than 95% of all the vets in the world.<br /><br />My feline son is a vegan and will remain so because I am absolutely certain that his quality of life will be enhanced by his diet and that this choice will not be a detriment to his health.<br /><br />-------------------------------------<br /><br />Since writing this review in 2006 I have had a change in position about this particular product after 4 years of personal experience. The manufacturer of the Evolution foods was changing the formulation of the food on a regular basis and during that time I found that the Feline Kibble was not able to maintain the pH level in the urine of cats that was promised on the label and in their literature. At least that wasn't the case with my former feline son and my current feline son. As a result I can no longer recommend the use of Evolution Feline Kibble for male cats. Since urinary issues are different between male and female cats the Evolution Kibble MAY be satisfactory for feeding to female cats. Nutritionally the Evolution foods seem to be fine for nutrients but not necessarily adequate for maintaining the proper pH levels to avoid urinary issues for male cats.<br /><br />Consequently I am now recommending male cats use the Vegecat pH diet provided by Harbingers of a New Age. My son has been eating this food supplement in a specially prepared gluten formulation I created called a vegan feline roast. It is 62% protein, 33% fat, and 5% carbs and has a moisture content of about 60%. Almost a perfect combination of ingredients to mimic natural prey. My son finds this product to be very palatable and his urinary pH has been consistently at 6.4 for the three years that we have been producing and consuming this food. The drawback is that it takes about a half hour every 3 days to make the food and the cost is equivalent to a premium cat food. But on the other hand my son is trim, full of energy at 6 1/2 years, enjoys great health, no longer has urinary tract issues, and no other animal had to die in order to provide my son with life-giving nutrition.<br /><br />UPDATE:  4/17/11<br /><br />For those of you who are still considering feeding the Evolution kibble, please heed this warning.  Kibble is only 10% moisture content.  If you follow the directions given by the manufacturer to soak the kibble prior to feeding, you will end up with a mushy material that your cats may or may not like.  The danger in feeding the dry kibble is that your cat will eventually become so dehydrated that no amount of drinking will be sufficient to avoid hydration related illnesses.  Cats do not naturally drink water, they almost exclusively obtain all of their hydration from the food that they consume.  If they are eating something that only has 10% moisture, upon consumption the moisture that is contained within the digestive tract of the cat will be sucked into the food in order to give it enough fluidity to pass through the intestines.  This will often lead to gastro-intestinal diseases. Your cat will be constantly drinking water to make up for that deficiency, but no amount of drinking is enough to avoid the dehydration problem.  So please remember that the best source of moisture for your cat's health, comes from a wet food diet that is around 70% moisture.<br /><br />In October 2008 I wrote an article about vegan cats published in VegFamily magazine.  This information and more will help those who are interested in a vegan diet for cats understand more of the issues.<br /><br />UPDATE:  8/27/12<br /><br />My vegan feline son is now 8 years old and still maintains an extremely healthy life with absolutely no issues of any kind.  He has been using our Vegan Feline Roast product for the past 5 and 1/2 years and his lab tests indicate that his nutritional needs are being adequately met by his vegan diet.<br /><br />For those who are sceptical about a vegan diet for house cats, there is ample evidence that several vegan products are available to satisfy the nutritional needs of cats.  I am still not convinced that Evolution is a good product to feed based on my past history.  There are thousands of customers that seem to successfully feed the Evolution product; however, I believe that our Vegan Feline Roast Mix is a superior product that will yield far better results over the lifetime of feeding any house cat.  Our product is based on the Vegecat phi supplement offered by HOANA, which I have found to be an excellent product for hitting all of the missing nutritional elements that would otherwise come from meat.  The Vegecat product line has been successfully feeding thousands of cats over a 27 year period and we highly recommend the use of Vegecat for those people who wish to formulate their own vegan cat food.  The only difference between our food product and the HOANA vegecat product is that our product is a ready-to-make mix that has been specifically formulated for a high protein/high fat food that is easy to make and highly palatable to the vast majority of cats.<br /><br />I would caution people feeding the Evolution kibble to reconsider doing so.  The problem with kibble in general, not just the Evolution product, is the 10% moisture content of the food.  Cats that eat kibble exclusively will invariably become dehydrated and will not be able to consume enough water by drinking to avoid the condition.  Evolution kibble that is soaked with water prior to feeding, as recommended by the manufacturer, is an attempt to avoid this issue.  However, by soaking the product you will reduce the palatability quality to most cats and will make it harder for them to continue to want to eat the product.  This is a strategy to fix a problem that is inherent to the product itself.<br /><br />As time goes on, I become more convinced that using our Vegan Feline Roast product may in fact be a cure for diseases in cats like FLUTD and diabetes.  At some point in time I would like to perform a long term double blind scientifically significant study to support my empirical observations.  When my son started out 7 years ago eating Evolution kibble, he quickly developed a FLUTD condition, after 18 months of use, that cost $1500 at the vet to fix.  The last 5 1/2 years of eating nothing but our Vegan Feline Roast he has remained FLUTD free and maintains excellent health.  Just the savings alone from avoiding annual teeth cleaning has more than paid for itself in the use of our product.<br /><br />So my bottom line is to recommend not using Evolution Kibble in favor of either the HOANA vegecat supplement or our Vegan Feline Roast Mix.\n",
      "This review will make me sound really stupid, but whatever. I don't really care as long as people find out what's real and can avoid my mistakes.<br /><br />I got my wonderful little sweet Bella Bean when she was a few days shy of three years old. She had been bounced around from house to house and eating whatever was cheap. I have had cats around me my entire life, for about twenty-five years now. My mother always just fed them whatever, the kinds of food you buy in the supermarket - Friskies, Nine Lives, Kit & Kaboodle, stuff like that. And our cats were always fine, at least in terms of their eating habits. They would eat in the morning, stop when they were done, come back, and eat some more when they got hungry.<br /><br />My housemate at the time was working for Hill's and assured me that this was the best food ever made, so great, so on and so forth. I now know that she is an utter buffoon, but I initially trusted her judgment, which is so unfortunate because she doesn't think. She also had plenty of coupons for free or deeply discounted bags, which made it a much more attractive choice.<br /><br />I first tried feeding the little Bean an unmeasured amount of Science Diet in a bowl, but that didn't work, as she would devour it in one sitting. So then I took to measuring it, and she did the same thing. Then I started parsing it out to twice a day. That didn't work either, because she would start going crazy in the middle of the day, running around, intentionally destroying things, deliberately spilling her water, crying, etc., until she got more food. So then I split it into three servings. Same thing. Then it got to be four servings. That was a little better, but it was too much maintenance and unrealistic to be around every day to feed her four times. So then it went back to three. All the while, I was trying to reduce the amount of food I was feeding her to less than 3/4 of a cup because she was a little chubby. Reducing was hell. She became even more hungry, but I figured she would get used to it. Not really.<br /><br />For over a year, she would wake me up every morning looking for food in a serious way, knocking things off my desk, ripping up any paper she could find, scratching at the door and committing general acts of mischief. As soon as she got food, she was back to her sweet self, but only for three or four hours.<br /><br />We thought she was bored, we thought she was a little nutty, and maybe even had a kitty eating disorder. She always wanted food. It was kind of funny but in the end it was just sad.<br /><br />A few weeks back, we took her to a new (good, non-money factory) vet for her second checkup since I've had her. I talked with him about her being always hungry. He asked what she ate, and I told him the adult indoor Science Diet. Without saying as much, he basically told me that this food is garbage and I should look for something else. He said cat food should have a protein followed by a carbohydrate as the first two ingredients. Science Diet does, in a very loose, by-product kind of way - ground up slaughterhouse leftovers and corn dust. Then they put a bunch of vitamins in it to make it \"healthy,\" instead of just using good ingredients from the beginning. Not that I care about spending money on the Bean, but this food is way too expensive for what it is.<br /><br />So we began transitioning her onto Wellness indoor formula about two weeks ago. She is still eating 50 percent Science Diet with 50 percent Wellness (you really shouldn't just give a cat different food one day out of the blue) but SHE NEVER FREAKS OUT ANYMORE. It's amazing. And it's 100 percent because she is eating real food now, along with that sawdust and chicken hearts I still regrettable have to feed her. We have her down to eating twice a day, only 1/3 cup in TOTAL. She was eating three times a day, 5/8 of a cup in total. Now she eats some in the morning, walks away, eats some more a few hours later, and then looks for dinner about twelve hours after her initial feeding. No more knocking things over, no more trashing Dad's papers on the desk, no more howling, no more deliberately spilled water on the floor. It's incredible.<br /><br />I feel so bad that I was doing this to her for so long. We really thought she was just being dramatic or whatever. But no, she was genuinely hungry because she wasn't eating any real food.<br /><br />Do your cat a favor - buy her or him so food made with real ingredients, things you would eat - Wellness, Halo, Innova, Evo, whatever. Figure it out for yourself, but please don't feed your cat this. It's garbage.\n",
      "This review will make me sound really stupid, but whatever. I don't really care as long as people find out what's real and can avoid my mistakes.<br /><br />I got my wonderful little sweet Bella Bean when she was a few days shy of three years old. She had been bounced around from house to house and eating whatever was cheap. I have had cats around me my entire life, for about twenty-five years now. My mother always just fed them whatever, the kinds of food you buy in the supermarket - Friskies, Nine Lives, Kit & Kaboodle, stuff like that. And our cats were always fine, at least in terms of their eating habits. They would eat in the morning, stop when they were done, come back, and eat some more when they got hungry.<br /><br />My housemate at the time was working for Hill's and assured me that this was the best food ever made, so great, so on and so forth. I now know that she is an utter buffoon, but I initially trusted her judgment, which is so unfortunate because she doesn't think. She also had plenty of coupons for free or deeply discounted bags, which made it a much more attractive choice.<br /><br />I first tried feeding the little Bean an unmeasured amount of Science Diet in a bowl, but that didn't work, as she would devour it in one sitting. So then I took to measuring it, and she did the same thing. Then I started parsing it out to twice a day. That didn't work either, because she would start going crazy in the middle of the day, running around, intentionally destroying things, deliberately spilling her water, crying, etc., until she got more food. So then I split it into three servings. Same thing. Then it got to be four servings. That was a little better, but it was too much maintenance and unrealistic to be around every day to feed her four times. So then it went back to three. All the while, I was trying to reduce the amount of food I was feeding her to less than 3/4 of a cup because she was a little chubby. Reducing was hell. She became even more hungry, but I figured she would get used to it. Not really.<br /><br />For over a year, she would wake me up every morning looking for food in a serious way, knocking things off my desk, ripping up any paper she could find, scratching at the door and committing general acts of mischief. As soon as she got food, she was back to her sweet self, but only for three or four hours.<br /><br />We thought she was bored, we thought she was a little nutty, and maybe even had a kitty eating disorder. She always wanted food. It was kind of funny but in the end it was just sad.<br /><br />A few weeks back, we took her to a new (good, non-money factory) vet for her second checkup since I've had her. I talked with him about her being always hungry. He asked what she ate, and I told him the adult indoor Science Diet. Without saying as much, he basically told me that this food is garbage and I should look for something else. He said cat food should have a protein followed by a carbohydrate as the first two ingredients. Science Diet does, in a very loose, by-product kind of way - ground up slaughterhouse leftovers and corn dust. Then they put a bunch of vitamins in it to make it \"healthy,\" instead of just using good ingredients from the beginning. Not that I care about spending money on the Bean, but this food is way too expensive for what it is.<br /><br />So we began transitioning her onto Wellness indoor formula about two weeks ago. She is still eating 50 percent Science Diet with 50 percent Wellness (you really shouldn't just give a cat different food one day out of the blue) but SHE NEVER FREAKS OUT ANYMORE. It's amazing. And it's 100 percent because she is eating real food now, along with that sawdust and chicken hearts I still regrettable have to feed her. We have her down to eating twice a day, only 1/3 cup in TOTAL. She was eating three times a day, 5/8 of a cup in total. Now she eats some in the morning, walks away, eats some more a few hours later, and then looks for dinner about twelve hours after her initial feeding. No more knocking things over, no more trashing Dad's papers on the desk, no more howling, no more deliberately spilled water on the floor. It's incredible.<br /><br />I feel so bad that I was doing this to her for so long. We really thought she was just being dramatic or whatever. But no, she was genuinely hungry because she wasn't eating any real food.<br /><br />Do your cat a favor - buy her or him so food made with real ingredients, things you would eat - Wellness, Halo, Innova, Evo, whatever. Figure it out for yourself, but please don't feed your cat this. It's garbage.\n",
      "This review will make me sound really stupid, but whatever. I don't really care as long as people find out what's real and can avoid my mistakes.<br /><br />I got my wonderful little sweet Bella Bean when she was a few days shy of three years old. She had been bounced around from house to house and eating whatever was cheap. I have had cats around me my entire life, for about twenty-five years now. My mother always just fed them whatever, the kinds of food you buy in the supermarket - Friskies, Nine Lives, Kit & Kaboodle, stuff like that. And our cats were always fine, at least in terms of their eating habits. They would eat in the morning, stop when they were done, come back, and eat some more when they got hungry.<br /><br />My housemate at the time was working for Hill's and assured me that this was the best food ever made, so great, so on and so forth. I now know that she is an utter buffoon, but I initially trusted her judgment, which is so unfortunate because she doesn't think. She also had plenty of coupons for free or deeply discounted bags, which made it a much more attractive choice.<br /><br />I first tried feeding the little Bean an unmeasured amount of Science Diet in a bowl, but that didn't work, as she would devour it in one sitting. So then I took to measuring it, and she did the same thing. Then I started parsing it out to twice a day. That didn't work either, because she would start going crazy in the middle of the day, running around, intentionally destroying things, deliberately spilling her water, crying, etc., until she got more food. So then I split it into three servings. Same thing. Then it got to be four servings. That was a little better, but it was too much maintenance and unrealistic to be around every day to feed her four times. So then it went back to three. All the while, I was trying to reduce the amount of food I was feeding her to less than 3/4 of a cup because she was a little chubby. Reducing was hell. She became even more hungry, but I figured she would get used to it. Not really.<br /><br />For over a year, she would wake me up every morning looking for food in a serious way, knocking things off my desk, ripping up any paper she could find, scratching at the door and committing general acts of mischief. As soon as she got food, she was back to her sweet self, but only for three or four hours.<br /><br />We thought she was bored, we thought she was a little nutty, and maybe even had a kitty eating disorder. She always wanted food. It was kind of funny but in the end it was just sad.<br /><br />A few weeks back, we took her to a new (good, non-money factory) vet for her second checkup since I've had her. I talked with him about her being always hungry. He asked what she ate, and I told him the adult indoor Science Diet. Without saying as much, he basically told me that this food is garbage and I should look for something else. He said cat food should have a protein followed by a carbohydrate as the first two ingredients. Science Diet does, in a very loose, by-product kind of way - ground up slaughterhouse leftovers and corn dust. Then they put a bunch of vitamins in it to make it \"healthy,\" instead of just using good ingredients from the beginning. Not that I care about spending money on the Bean, but this food is way too expensive for what it is.<br /><br />So we began transitioning her onto Wellness indoor formula about two weeks ago. She is still eating 50 percent Science Diet with 50 percent Wellness (you really shouldn't just give a cat different food one day out of the blue) but SHE NEVER FREAKS OUT ANYMORE. It's amazing. And it's 100 percent because she is eating real food now, along with that sawdust and chicken hearts I still regrettable have to feed her. We have her down to eating twice a day, only 1/3 cup in TOTAL. She was eating three times a day, 5/8 of a cup in total. Now she eats some in the morning, walks away, eats some more a few hours later, and then looks for dinner about twelve hours after her initial feeding. No more knocking things over, no more trashing Dad's papers on the desk, no more howling, no more deliberately spilled water on the floor. It's incredible.<br /><br />I feel so bad that I was doing this to her for so long. We really thought she was just being dramatic or whatever. But no, she was genuinely hungry because she wasn't eating any real food.<br /><br />Do your cat a favor - buy her or him so food made with real ingredients, things you would eat - Wellness, Halo, Innova, Evo, whatever. Figure it out for yourself, but please don't feed your cat this. It's garbage.\n",
      "Topic 3:\n",
      "coffee cup food cups roast keurig morning bold coffees dark\n",
      "\n",
      "I have several health issues that prevent me from drinking coffee, and have really missed being able to start the day with a steaming hot cup of wonderful smelling coffee.  The slightly high price tag would have been worth it if this product had lived up to its hype.  I had hopes that this brand would be different, but it wasn't.<br /><br />The morning after this arrived in the mail, I had a friend over for morning coffee and we both had a cup together.  I brewed it using a drip method and we sat down to see if this really was better than the average coffee.  She thought it tasted very good, but I didn't think the taste was anything special.  Still, I hoped it would leave me feeling better than coffee usually does.<br /><br />At first I was OK, but about an hour after drinking my coffee, the old, familiar burning sensation in my gut started.  Then, the inflammation in my joints and soft tissues.  This experiment had failed miserably and I had to endure an entire day regretting that I had tried this coffee.  At midnight, I was still feeling bad from a cup of coffee I had drunk at 8:00 am.<br /><br />Just a side note about low acid coffee:  ANY coffee (no mater how cheap) can be made low acid by a cold brewing method.  Just type \"cold coffee brewers\" into Amazon's search engine and you will see all kinds of contraptions that will make low acid coffee.  It is the brewing method that develops acid, and not the type or brand of coffee you use.  ALSO, there are health problems associated with coffee that have little to do with acid. If you have any kind of inflammation, brewing low acid coffee will not help that because coffee is intrinsicly inflamatory.<br /><br />I will not be using the rest of this.  It might be low acid, but it seems that any acid at all is too much for some people.  Coffee is just not worth the consequences for me.<br /><br />UPDATE - October 2, 2011:  5 DAYS LATER, my joints still hurt from this experiment.  My daughter is a professional barrista, so I gave her a cup to try and asked for her \"expert\" opinion.  Her verdict was that it is poor quality coffee that is extremely bitter.  Not a very good reccommendation!\n",
      "Received this <a href=\"http://www.amazon.com/gp/product/B002HQFN9I\">Seattle's Best Coffee 12-oz. Ground Coffee, Level 4</a> as a Christmas gift, and found it to be as good as I had heard from friends. The bag said \"rich, elegant, complex\" and this habitual daily coffee drinker can agree with each of those adjectives. This is one that I will come back to.<br /><br />Had to go look up what the level rankings were for these coffees, and if you like a slightly stronger coffee, as I do, then you might be happy with this one. Will personally pass on the Level 3, but their <a href=\"http://www.amazon.com/gp/product/B002HQDQXS\">Seattle's Best Coffee 12-oz. Ground Coffee, Level 5</a>, having a \"roasty aroma, rich flavor with low acidity and body\" sounds interesting.<br /><br />Subjective rating of Seattle's Best Coffee, Level 4:<br /><br />Aroma: 5-stars<br />Taste: 4-stars<br /><br />But does it live up to the name \"Seattle's Best Coffee\" as this brand is called? That could be one of the most subjective opinions here. Call me easy to please, but <a href=\"http://www.amazon.com/gp/product/B001EQ55PE\">Eight O'Clock Coffee, Original Whole Bean, 12-Ounce Bag (Pack of 4)</a> is what I call my \"standard\" everyday coffee. But what do I call a 5-star coffee? Try the <a href=\"http://www.amazon.com/gp/product/B0031O4B16\">Magnum Jamaican Blue Mountain Blend Coffee, Whole Bean, 2 Lb Bag</a> or the more costly <a href=\"http://www.amazon.com/gp/product/B00344R71Y\">Wallenford Blue 100% Jamaica Blue Mountain Coffee 16oz Whole Beans</a> and break out your grinder.<br /><br />Another personal 4-star \"standard\" is <a href=\"http://www.amazon.com/gp/product/B00351JWTQ\">Starbucks Pike Place Roast Coffee, Ground, 12-Ounce Bags (Pack of 2)</a>, which should be familiar to many. This \"house blend\" from Starbucks can be found across the world, and if you want a decent comparison to the Seattle's Best Level 4, this might be it.<br /><br />Again, choices in coffee can be very subjective, so explore and find a favorite. I personally like to keep the 5-star coffees for weekends or special occasions, and that's when I switch to beans and break out the grinder, but again that's a personal choice.<br /><br />Maybe after trying a few more bags this highly-subjective rating will go up, but this coffee dinker is calling the Seattle's Best Level 4 ground coffee a good, solid 4-star choice. And now for another cup...<br /><br />12/29/2011\n",
      "I dont have a drip coffee machine so I am putting this into the espresso machine for 2 shots. Tastes about same. I guess it's good for stomach? But don't we use milk to sooth the stomach anyways? cream? and sugar. I guess this means we are going to let go of our sugar and creme that we are so used to from strong coffee taste? Less coffee is answer I suppose. This is great idea for low acid coffee but I just add water on half the amount of regular coffee and add normal amount of creme or sugar and milk and add water to the regular coffee's half portion to make it diluted. That helped so far. You are also supposed to drink this with coffee cake or something to help pass it. Not straight without anything in it unless you love that. I suppose you dont like to put any creme or milk in it then, it would make sense. This didn't make sense to me even while trying it. It just wasn't tasting right for me to drink it without any other sugar and creme I am used to drinking with. So I would say I wouldn't try it again without my condiments. But, I would definitely recommend to my mother who drinks straight black coffee. But she stopped drinking suggesting coffee is bad even weak coffee. She gets these ideas from her friends. She said it was good until last year and she's 60 years old. Now she says all coffee is evil. Dad still drinks black straight coffee from drip coffee machine (they are Koreans as I am). All their friends all drink straight black coffee without milk because they are all lactose intolerant. My younger brother is too. I guess this coffee is for those who has lactose intolerant condition and also loves to drink straight black coffee. Where coffee like this is served? Church. All dad's friends are also going to Roman Catholic Church. That's where it'd be best served. They brew like 5 gallons of these stuff every day. Straight black. Just wasn't for me but it's great idea for my parents who lives 1400 miles away so I couldnt just have them try it.\n",
      "Can I give it no stars?<br /><br />The bag arrived and I was all excited. Coffee does that to me. I'm a coffee snob. There I said it. It's not the most expensive brand nor is it the exotic nature of the coffee that is my snobbery. I love a good strong cup of coffee. To me coffee is a experience for all your senses. This failed.<br /><br />The first moment the bag was in my hands I smelled it, a slight hint of vanilla through the packaging. The best coffee I have had always manages to smell like the addictive bean no matter how it's packaged. That is nothing to hold against Starbucks vanilla though. Great and even good coffee sometimes only release their fragrance after opening. When opened, the package gave a distinct smell of vanilla. So strongly in fact that my head popped back, it smelled like cheap vanilla perfume that I got as a child at the five and dime.<br /><br />I got down to business, packing my coffee maker, frothing the milk and setting out the mugs. Once the coffee was done the smell mellowed a little but still was not appealing. My first sip was confusion. It tasted like coffee made with old milk. I looked at the container of milk which was fresh. I dumped out all the coffee and cleaned the pot again. Second pot same thing.<br /><br />So I left it all for another day. I bought new milk, made my first cup from my favorite brand and it tasted wonderfully. The second pot I made from the starbucks bag. The same results the coffee tasted like it was made with old milk. It was tangy, off and repelling. I asked my friend to try it. No prompting from me and he asked \"Something wrong with the milk? You want me to go downstair and get some?\"<br /><br />3 tries from me and one with a friend, each cup was horrid. My regular coffee tasted great. The $1.99 a pound brand that my friend bought to \"test\" the pot and milk was a good solid cup of coffee.<br /><br />So do yourself a favor and buy something else. This is horrible.\n",
      "Topic 4:\n",
      "tea coffee food green cup day teas eating cat bags\n",
      "\n",
      "I've been drinking this tea for over a year now, and it is the main tea I drink.  I prefer other teas for flavor, for sipping and savoring, but this is what I drink the most of, as a refreshing and healthy beverage, and it is very good for that purpose.<br /><br />The Amazon description, saying this is Bai Mu Dan, is incorrect. It is actually fannings. Fannings is the second to the smallest leaf size. Fannings are used in tea bags because of their small size and economic price. On the Uncle Lee's tea website, this tea is shown just as white camellia sinensis. The Uncle Lee's Organic White tea that is described as Bai Mu Dan on the Uncle Lee website is $5 for 18 bags.<br /><br />The only other pure white tea I've had is Republic of Tea's Emperor's white tea, which I find superior to this tea, having a milder and sweeter flavor that is even more pleasant to drink without sweetener than this one. The Uncle Lee's white tea is closer to an oolong in both color and flavor than the Emperor's, with just a hint of bitterness and none of the herbal tones of a green tea.<br /><br />That said, the RoT Emperor's White is almost 6 times more expensive than this tea, and Uncle Lee's is still easy to drink without sweetener, so I'll save the Emperor's for special moments and use the Uncle Lee's as my \"daily drinker.\"<br /><br />Having more flavor, I find that this makes an excellent iced tea.  I usually use 4 bags of this, and one bag of Republic of Tea's Cherry Green Tea, to a gallon of water plus 2 heaping teaspoons of natural cane sugar to provide just a hint of sweetness in a very refreshing iced tea that everyone loves.\n",
      "Twinings English Breakfast tea is a good, basic black tea (as is its stronger cousin, Irish Breakfast tea). But I find this loose tea to be a bit of a challenge. It is cut quite finely and no matter how fine the mesh on the infuser or strainer some of this always comes through. I drink a lot of tea and am fine with drinking some tea dust or even a few leaves, but I am talking about a lot of tea here...a teaspoon full or more in each cup.<br /><br />It is true that this tastes better than the bagged variety of Twinings English Breakfast tea. It is smoother and never bitter, as the bagged tea sometimes is. I have compromised and used the loose tea but I strain it through a coffee filter. The tins the tea comes in keep it quite fresh and though straining it is a hassle, it is worth it for me.<br /><br />This is moderately strong (I drink it black) and if you are sensitive to caffeine you might not want to drink it near bedtime. I use Amazon's Subscribe and Save program for this tea; it is a good bargain and I like the convenience of having it delivered. It is also hard to find the loose tea in supermarkets.\n",
      "This review will make me sound really stupid, but whatever. I don't really care as long as people find out what's real and can avoid my mistakes.<br /><br />I got my wonderful little sweet Bella Bean when she was a few days shy of three years old. She had been bounced around from house to house and eating whatever was cheap. I have had cats around me my entire life, for about twenty-five years now. My mother always just fed them whatever, the kinds of food you buy in the supermarket - Friskies, Nine Lives, Kit & Kaboodle, stuff like that. And our cats were always fine, at least in terms of their eating habits. They would eat in the morning, stop when they were done, come back, and eat some more when they got hungry.<br /><br />My housemate at the time was working for Hill's and assured me that this was the best food ever made, so great, so on and so forth. I now know that she is an utter buffoon, but I initially trusted her judgment, which is so unfortunate because she doesn't think. She also had plenty of coupons for free or deeply discounted bags, which made it a much more attractive choice.<br /><br />I first tried feeding the little Bean an unmeasured amount of Science Diet in a bowl, but that didn't work, as she would devour it in one sitting. So then I took to measuring it, and she did the same thing. Then I started parsing it out to twice a day. That didn't work either, because she would start going crazy in the middle of the day, running around, intentionally destroying things, deliberately spilling her water, crying, etc., until she got more food. So then I split it into three servings. Same thing. Then it got to be four servings. That was a little better, but it was too much maintenance and unrealistic to be around every day to feed her four times. So then it went back to three. All the while, I was trying to reduce the amount of food I was feeding her to less than 3/4 of a cup because she was a little chubby. Reducing was hell. She became even more hungry, but I figured she would get used to it. Not really.<br /><br />For over a year, she would wake me up every morning looking for food in a serious way, knocking things off my desk, ripping up any paper she could find, scratching at the door and committing general acts of mischief. As soon as she got food, she was back to her sweet self, but only for three or four hours.<br /><br />We thought she was bored, we thought she was a little nutty, and maybe even had a kitty eating disorder. She always wanted food. It was kind of funny but in the end it was just sad.<br /><br />A few weeks back, we took her to a new (good, non-money factory) vet for her second checkup since I've had her. I talked with him about her being always hungry. He asked what she ate, and I told him the adult indoor Science Diet. Without saying as much, he basically told me that this food is garbage and I should look for something else. He said cat food should have a protein followed by a carbohydrate as the first two ingredients. Science Diet does, in a very loose, by-product kind of way - ground up slaughterhouse leftovers and corn dust. Then they put a bunch of vitamins in it to make it \"healthy,\" instead of just using good ingredients from the beginning. Not that I care about spending money on the Bean, but this food is way too expensive for what it is.<br /><br />So we began transitioning her onto Wellness indoor formula about two weeks ago. She is still eating 50 percent Science Diet with 50 percent Wellness (you really shouldn't just give a cat different food one day out of the blue) but SHE NEVER FREAKS OUT ANYMORE. It's amazing. And it's 100 percent because she is eating real food now, along with that sawdust and chicken hearts I still regrettable have to feed her. We have her down to eating twice a day, only 1/3 cup in TOTAL. She was eating three times a day, 5/8 of a cup in total. Now she eats some in the morning, walks away, eats some more a few hours later, and then looks for dinner about twelve hours after her initial feeding. No more knocking things over, no more trashing Dad's papers on the desk, no more howling, no more deliberately spilled water on the floor. It's incredible.<br /><br />I feel so bad that I was doing this to her for so long. We really thought she was just being dramatic or whatever. But no, she was genuinely hungry because she wasn't eating any real food.<br /><br />Do your cat a favor - buy her or him so food made with real ingredients, things you would eat - Wellness, Halo, Innova, Evo, whatever. Figure it out for yourself, but please don't feed your cat this. It's garbage.\n",
      "This review will make me sound really stupid, but whatever. I don't really care as long as people find out what's real and can avoid my mistakes.<br /><br />I got my wonderful little sweet Bella Bean when she was a few days shy of three years old. She had been bounced around from house to house and eating whatever was cheap. I have had cats around me my entire life, for about twenty-five years now. My mother always just fed them whatever, the kinds of food you buy in the supermarket - Friskies, Nine Lives, Kit & Kaboodle, stuff like that. And our cats were always fine, at least in terms of their eating habits. They would eat in the morning, stop when they were done, come back, and eat some more when they got hungry.<br /><br />My housemate at the time was working for Hill's and assured me that this was the best food ever made, so great, so on and so forth. I now know that she is an utter buffoon, but I initially trusted her judgment, which is so unfortunate because she doesn't think. She also had plenty of coupons for free or deeply discounted bags, which made it a much more attractive choice.<br /><br />I first tried feeding the little Bean an unmeasured amount of Science Diet in a bowl, but that didn't work, as she would devour it in one sitting. So then I took to measuring it, and she did the same thing. Then I started parsing it out to twice a day. That didn't work either, because she would start going crazy in the middle of the day, running around, intentionally destroying things, deliberately spilling her water, crying, etc., until she got more food. So then I split it into three servings. Same thing. Then it got to be four servings. That was a little better, but it was too much maintenance and unrealistic to be around every day to feed her four times. So then it went back to three. All the while, I was trying to reduce the amount of food I was feeding her to less than 3/4 of a cup because she was a little chubby. Reducing was hell. She became even more hungry, but I figured she would get used to it. Not really.<br /><br />For over a year, she would wake me up every morning looking for food in a serious way, knocking things off my desk, ripping up any paper she could find, scratching at the door and committing general acts of mischief. As soon as she got food, she was back to her sweet self, but only for three or four hours.<br /><br />We thought she was bored, we thought she was a little nutty, and maybe even had a kitty eating disorder. She always wanted food. It was kind of funny but in the end it was just sad.<br /><br />A few weeks back, we took her to a new (good, non-money factory) vet for her second checkup since I've had her. I talked with him about her being always hungry. He asked what she ate, and I told him the adult indoor Science Diet. Without saying as much, he basically told me that this food is garbage and I should look for something else. He said cat food should have a protein followed by a carbohydrate as the first two ingredients. Science Diet does, in a very loose, by-product kind of way - ground up slaughterhouse leftovers and corn dust. Then they put a bunch of vitamins in it to make it \"healthy,\" instead of just using good ingredients from the beginning. Not that I care about spending money on the Bean, but this food is way too expensive for what it is.<br /><br />So we began transitioning her onto Wellness indoor formula about two weeks ago. She is still eating 50 percent Science Diet with 50 percent Wellness (you really shouldn't just give a cat different food one day out of the blue) but SHE NEVER FREAKS OUT ANYMORE. It's amazing. And it's 100 percent because she is eating real food now, along with that sawdust and chicken hearts I still regrettable have to feed her. We have her down to eating twice a day, only 1/3 cup in TOTAL. She was eating three times a day, 5/8 of a cup in total. Now she eats some in the morning, walks away, eats some more a few hours later, and then looks for dinner about twelve hours after her initial feeding. No more knocking things over, no more trashing Dad's papers on the desk, no more howling, no more deliberately spilled water on the floor. It's incredible.<br /><br />I feel so bad that I was doing this to her for so long. We really thought she was just being dramatic or whatever. But no, she was genuinely hungry because she wasn't eating any real food.<br /><br />Do your cat a favor - buy her or him so food made with real ingredients, things you would eat - Wellness, Halo, Innova, Evo, whatever. Figure it out for yourself, but please don't feed your cat this. It's garbage.\n"
     ]
    }
   ],
   "source": [
    "print \"\\n\\nLSI Topics \\n\\n\"\n",
    "display_topics(lsi_H, lsi_W, tf_feature_names, documents, no_top_words, no_top_documents)"
   ]
  },
  {
   "cell_type": "code",
   "execution_count": null,
   "metadata": {},
   "outputs": [],
   "source": []
  }
 ],
 "metadata": {
  "kernelspec": {
   "display_name": "Python 2",
   "language": "python",
   "name": "python2"
  },
  "language_info": {
   "codemirror_mode": {
    "name": "ipython",
    "version": 2
   },
   "file_extension": ".py",
   "mimetype": "text/x-python",
   "name": "python",
   "nbconvert_exporter": "python",
   "pygments_lexer": "ipython2",
   "version": "2.7.10"
  }
 },
 "nbformat": 4,
 "nbformat_minor": 2
}
