{
 "cells": [
  {
   "cell_type": "code",
   "execution_count": 25,
   "metadata": {},
   "outputs": [],
   "source": [
    "import pandas as pd\n",
    "import numpy as np\n",
    "import matplotlib.pyplot as plt\n",
    "import seaborn as sns\n",
    "from sklearn.feature_extraction.text import CountVectorizer\n",
    "from sklearn.feature_extraction.text import TfidfVectorizer\n",
    "from sklearn.linear_model import LogisticRegression\n",
    "from sklearn.model_selection import train_test_split\n",
    "\n",
    "\n",
    "from sklearn.decomposition import NMF, LatentDirichletAllocation, TruncatedSVD\n",
    "from string import punctuation\n",
    "from sklearn import svm\n",
    "from sklearn.utils import shuffle\n",
    "from nltk.corpus import stopwords\n",
    "from nltk.stem import WordNetLemmatizer\n",
    "import nltk\n",
    "from nltk import ngrams\n",
    "from itertools import chain\n",
    "\n",
    "from sklearn.metrics import recall_score, f1_score"
   ]
  },
  {
   "cell_type": "code",
   "execution_count": 26,
   "metadata": {},
   "outputs": [],
   "source": [
    "df = pd.read_csv('Reviews.csv')"
   ]
  },
  {
   "cell_type": "code",
   "execution_count": 27,
   "metadata": {},
   "outputs": [
    {
     "data": {
      "text/plain": [
       "(568454, 10)"
      ]
     },
     "execution_count": 27,
     "metadata": {},
     "output_type": "execute_result"
    }
   ],
   "source": [
    "df.shape"
   ]
  },
  {
   "cell_type": "code",
   "execution_count": 28,
   "metadata": {},
   "outputs": [
    {
     "data": {
      "text/html": [
       "<div>\n",
       "<style>\n",
       "    .dataframe thead tr:only-child th {\n",
       "        text-align: right;\n",
       "    }\n",
       "\n",
       "    .dataframe thead th {\n",
       "        text-align: left;\n",
       "    }\n",
       "\n",
       "    .dataframe tbody tr th {\n",
       "        vertical-align: top;\n",
       "    }\n",
       "</style>\n",
       "<table border=\"1\" class=\"dataframe\">\n",
       "  <thead>\n",
       "    <tr style=\"text-align: right;\">\n",
       "      <th></th>\n",
       "      <th>Id</th>\n",
       "      <th>ProductId</th>\n",
       "      <th>UserId</th>\n",
       "      <th>ProfileName</th>\n",
       "      <th>HelpfulnessNumerator</th>\n",
       "      <th>HelpfulnessDenominator</th>\n",
       "      <th>Score</th>\n",
       "      <th>Time</th>\n",
       "      <th>Summary</th>\n",
       "      <th>Text</th>\n",
       "    </tr>\n",
       "  </thead>\n",
       "  <tbody>\n",
       "    <tr>\n",
       "      <th>0</th>\n",
       "      <td>1</td>\n",
       "      <td>B001E4KFG0</td>\n",
       "      <td>A3SGXH7AUHU8GW</td>\n",
       "      <td>delmartian</td>\n",
       "      <td>1</td>\n",
       "      <td>1</td>\n",
       "      <td>5</td>\n",
       "      <td>1303862400</td>\n",
       "      <td>Good Quality Dog Food</td>\n",
       "      <td>I have bought several of the Vitality canned d...</td>\n",
       "    </tr>\n",
       "    <tr>\n",
       "      <th>1</th>\n",
       "      <td>2</td>\n",
       "      <td>B00813GRG4</td>\n",
       "      <td>A1D87F6ZCVE5NK</td>\n",
       "      <td>dll pa</td>\n",
       "      <td>0</td>\n",
       "      <td>0</td>\n",
       "      <td>1</td>\n",
       "      <td>1346976000</td>\n",
       "      <td>Not as Advertised</td>\n",
       "      <td>Product arrived labeled as Jumbo Salted Peanut...</td>\n",
       "    </tr>\n",
       "    <tr>\n",
       "      <th>2</th>\n",
       "      <td>3</td>\n",
       "      <td>B000LQOCH0</td>\n",
       "      <td>ABXLMWJIXXAIN</td>\n",
       "      <td>Natalia Corres \"Natalia Corres\"</td>\n",
       "      <td>1</td>\n",
       "      <td>1</td>\n",
       "      <td>4</td>\n",
       "      <td>1219017600</td>\n",
       "      <td>\"Delight\" says it all</td>\n",
       "      <td>This is a confection that has been around a fe...</td>\n",
       "    </tr>\n",
       "    <tr>\n",
       "      <th>3</th>\n",
       "      <td>4</td>\n",
       "      <td>B000UA0QIQ</td>\n",
       "      <td>A395BORC6FGVXV</td>\n",
       "      <td>Karl</td>\n",
       "      <td>3</td>\n",
       "      <td>3</td>\n",
       "      <td>2</td>\n",
       "      <td>1307923200</td>\n",
       "      <td>Cough Medicine</td>\n",
       "      <td>If you are looking for the secret ingredient i...</td>\n",
       "    </tr>\n",
       "    <tr>\n",
       "      <th>4</th>\n",
       "      <td>5</td>\n",
       "      <td>B006K2ZZ7K</td>\n",
       "      <td>A1UQRSCLF8GW1T</td>\n",
       "      <td>Michael D. Bigham \"M. Wassir\"</td>\n",
       "      <td>0</td>\n",
       "      <td>0</td>\n",
       "      <td>5</td>\n",
       "      <td>1350777600</td>\n",
       "      <td>Great taffy</td>\n",
       "      <td>Great taffy at a great price.  There was a wid...</td>\n",
       "    </tr>\n",
       "  </tbody>\n",
       "</table>\n",
       "</div>"
      ],
      "text/plain": [
       "   Id   ProductId          UserId                      ProfileName  \\\n",
       "0   1  B001E4KFG0  A3SGXH7AUHU8GW                       delmartian   \n",
       "1   2  B00813GRG4  A1D87F6ZCVE5NK                           dll pa   \n",
       "2   3  B000LQOCH0   ABXLMWJIXXAIN  Natalia Corres \"Natalia Corres\"   \n",
       "3   4  B000UA0QIQ  A395BORC6FGVXV                             Karl   \n",
       "4   5  B006K2ZZ7K  A1UQRSCLF8GW1T    Michael D. Bigham \"M. Wassir\"   \n",
       "\n",
       "   HelpfulnessNumerator  HelpfulnessDenominator  Score        Time  \\\n",
       "0                     1                       1      5  1303862400   \n",
       "1                     0                       0      1  1346976000   \n",
       "2                     1                       1      4  1219017600   \n",
       "3                     3                       3      2  1307923200   \n",
       "4                     0                       0      5  1350777600   \n",
       "\n",
       "                 Summary                                               Text  \n",
       "0  Good Quality Dog Food  I have bought several of the Vitality canned d...  \n",
       "1      Not as Advertised  Product arrived labeled as Jumbo Salted Peanut...  \n",
       "2  \"Delight\" says it all  This is a confection that has been around a fe...  \n",
       "3         Cough Medicine  If you are looking for the secret ingredient i...  \n",
       "4            Great taffy  Great taffy at a great price.  There was a wid...  "
      ]
     },
     "execution_count": 28,
     "metadata": {},
     "output_type": "execute_result"
    }
   ],
   "source": [
    "df.head()"
   ]
  },
  {
   "cell_type": "code",
   "execution_count": 29,
   "metadata": {},
   "outputs": [
    {
     "name": "stdout",
     "output_type": "stream",
     "text": [
      "(443777, 10) (82037, 10)\n"
     ]
    }
   ],
   "source": [
    "pos = df[df['Score']>3]\n",
    "neg = df[df['Score']<3]\n",
    "print pos.shape, neg.shape"
   ]
  },
  {
   "cell_type": "code",
   "execution_count": 30,
   "metadata": {},
   "outputs": [
    {
     "name": "stdout",
     "output_type": "stream",
     "text": [
      "(82037, 10) (82037, 10)\n"
     ]
    }
   ],
   "source": [
    "pos = pos.head(neg.shape[0])\n",
    "print pos.shape, neg.shape\n",
    "df = pd.concat([pos,neg])"
   ]
  },
  {
   "cell_type": "code",
   "execution_count": 31,
   "metadata": {},
   "outputs": [
    {
     "data": {
      "text/html": [
       "<div>\n",
       "<style>\n",
       "    .dataframe thead tr:only-child th {\n",
       "        text-align: right;\n",
       "    }\n",
       "\n",
       "    .dataframe thead th {\n",
       "        text-align: left;\n",
       "    }\n",
       "\n",
       "    .dataframe tbody tr th {\n",
       "        vertical-align: top;\n",
       "    }\n",
       "</style>\n",
       "<table border=\"1\" class=\"dataframe\">\n",
       "  <thead>\n",
       "    <tr style=\"text-align: right;\">\n",
       "      <th></th>\n",
       "      <th>Id</th>\n",
       "      <th>ProductId</th>\n",
       "      <th>UserId</th>\n",
       "      <th>ProfileName</th>\n",
       "      <th>HelpfulnessNumerator</th>\n",
       "      <th>HelpfulnessDenominator</th>\n",
       "      <th>Score</th>\n",
       "      <th>Time</th>\n",
       "      <th>Summary</th>\n",
       "      <th>Text</th>\n",
       "    </tr>\n",
       "  </thead>\n",
       "  <tbody>\n",
       "    <tr>\n",
       "      <th>106462</th>\n",
       "      <td>106463</td>\n",
       "      <td>B000F4ISDW</td>\n",
       "      <td>A63IP4HHUQYYD</td>\n",
       "      <td>Kimn Gollnick \"writermom\"</td>\n",
       "      <td>0</td>\n",
       "      <td>1</td>\n",
       "      <td>1</td>\n",
       "      <td>1336694400</td>\n",
       "      <td>Damaged in shipment, 1 can leaking, 3 dented!</td>\n",
       "      <td>I cannot believe how badly these cans were dam...</td>\n",
       "    </tr>\n",
       "    <tr>\n",
       "      <th>349279</th>\n",
       "      <td>349280</td>\n",
       "      <td>B000CQC064</td>\n",
       "      <td>A2V18JN5XI2GOB</td>\n",
       "      <td>C. Woods</td>\n",
       "      <td>1</td>\n",
       "      <td>2</td>\n",
       "      <td>2</td>\n",
       "      <td>1275350400</td>\n",
       "      <td>Not a fan</td>\n",
       "      <td>Not familiar with what \"chai\" tea is supposed ...</td>\n",
       "    </tr>\n",
       "    <tr>\n",
       "      <th>262767</th>\n",
       "      <td>262768</td>\n",
       "      <td>B002V0XB62</td>\n",
       "      <td>ADWSD45P3NZGU</td>\n",
       "      <td>WakkyWabbit</td>\n",
       "      <td>0</td>\n",
       "      <td>0</td>\n",
       "      <td>1</td>\n",
       "      <td>1331510400</td>\n",
       "      <td>Worst popcorn I have ever eaten</td>\n",
       "      <td>I ordered two types of popcorn at one time. On...</td>\n",
       "    </tr>\n",
       "    <tr>\n",
       "      <th>26680</th>\n",
       "      <td>26681</td>\n",
       "      <td>B000YSS7EO</td>\n",
       "      <td>A3B3GI2DXMSCF6</td>\n",
       "      <td>nycspagirl \"nycspagirl\"</td>\n",
       "      <td>15</td>\n",
       "      <td>22</td>\n",
       "      <td>1</td>\n",
       "      <td>1241308800</td>\n",
       "      <td>Read ingredients carefully.</td>\n",
       "      <td>I bought the pack of 6 box.  When it arrived a...</td>\n",
       "    </tr>\n",
       "    <tr>\n",
       "      <th>168440</th>\n",
       "      <td>168441</td>\n",
       "      <td>B0001ES9F8</td>\n",
       "      <td>AZ996YCGDRLA6</td>\n",
       "      <td>M. Chan</td>\n",
       "      <td>0</td>\n",
       "      <td>0</td>\n",
       "      <td>1</td>\n",
       "      <td>1285891200</td>\n",
       "      <td>Flavor Change? Watery like gas station coffee</td>\n",
       "      <td>I always enjoy Senseo's coffee and have tried ...</td>\n",
       "    </tr>\n",
       "  </tbody>\n",
       "</table>\n",
       "</div>"
      ],
      "text/plain": [
       "            Id   ProductId          UserId                ProfileName  \\\n",
       "106462  106463  B000F4ISDW   A63IP4HHUQYYD  Kimn Gollnick \"writermom\"   \n",
       "349279  349280  B000CQC064  A2V18JN5XI2GOB                   C. Woods   \n",
       "262767  262768  B002V0XB62   ADWSD45P3NZGU                WakkyWabbit   \n",
       "26680    26681  B000YSS7EO  A3B3GI2DXMSCF6    nycspagirl \"nycspagirl\"   \n",
       "168440  168441  B0001ES9F8   AZ996YCGDRLA6                    M. Chan   \n",
       "\n",
       "        HelpfulnessNumerator  HelpfulnessDenominator  Score        Time  \\\n",
       "106462                     0                       1      1  1336694400   \n",
       "349279                     1                       2      2  1275350400   \n",
       "262767                     0                       0      1  1331510400   \n",
       "26680                     15                      22      1  1241308800   \n",
       "168440                     0                       0      1  1285891200   \n",
       "\n",
       "                                              Summary  \\\n",
       "106462  Damaged in shipment, 1 can leaking, 3 dented!   \n",
       "349279                                      Not a fan   \n",
       "262767                Worst popcorn I have ever eaten   \n",
       "26680                     Read ingredients carefully.   \n",
       "168440  Flavor Change? Watery like gas station coffee   \n",
       "\n",
       "                                                     Text  \n",
       "106462  I cannot believe how badly these cans were dam...  \n",
       "349279  Not familiar with what \"chai\" tea is supposed ...  \n",
       "262767  I ordered two types of popcorn at one time. On...  \n",
       "26680   I bought the pack of 6 box.  When it arrived a...  \n",
       "168440  I always enjoy Senseo's coffee and have tried ...  "
      ]
     },
     "execution_count": 31,
     "metadata": {},
     "output_type": "execute_result"
    }
   ],
   "source": [
    "df = shuffle(df)\n",
    "df.head()"
   ]
  },
  {
   "cell_type": "markdown",
   "metadata": {},
   "source": [
    "## Preprocessing\n",
    "\n",
    "Remove all nutral scores and seperate the remaning into positive = 1 and negative = 0\n",
    "Preprocessing ususally involves:\n",
    "1. Removing additional white spaces\n",
    "2. Replacing emoji's with a word representation for example :) ==> smile\n",
    "3. Removing links from the corpus\n",
    "4. Removing punction\n",
    "5. Removing anh HTML tags\n",
    "6. Remove duplicate reviews\n",
    "\n",
    "Here is a good blog on how to [process text](http://adataanalyst.com/scikit-learn/countvectorizer-sklearn-example/)\n",
    "\n",
    "For this exercise we will only tokenize reviews, that is change `\"This is a review\"` to `['this', 'is', 'a', 'review']`\n",
    "\n",
    "Once the text is 'clean' we will use sklearn:\n",
    "1. CountVectorizer - Convert a collection of text documents to a matrix of token counts\n",
    "2. TfidfVectorizer - Convert a collection of raw documents to a matrix of TF-IDF features\n"
   ]
  },
  {
   "cell_type": "code",
   "execution_count": 32,
   "metadata": {},
   "outputs": [],
   "source": [
    "df = df[df['Score'] !=3]\n",
    "X = df['Text']\n",
    "y_map = {1:0, 2:0, 4:1, 5:1}\n",
    "y = df['Score'].map(y_map)"
   ]
  },
  {
   "cell_type": "code",
   "execution_count": 33,
   "metadata": {},
   "outputs": [
    {
     "data": {
      "text/plain": [
       "106462    I cannot believe how badly these cans were dam...\n",
       "349279    Not familiar with what \"chai\" tea is supposed ...\n",
       "262767    I ordered two types of popcorn at one time. On...\n",
       "26680     I bought the pack of 6 box.  When it arrived a...\n",
       "168440    I always enjoy Senseo's coffee and have tried ...\n",
       "Name: Text, dtype: object"
      ]
     },
     "execution_count": 33,
     "metadata": {},
     "output_type": "execute_result"
    }
   ],
   "source": [
    "X.head()"
   ]
  },
  {
   "cell_type": "code",
   "execution_count": 34,
   "metadata": {},
   "outputs": [
    {
     "data": {
      "text/plain": [
       "106462    0\n",
       "349279    0\n",
       "262767    0\n",
       "26680     0\n",
       "168440    0\n",
       "Name: Score, dtype: int64"
      ]
     },
     "execution_count": 34,
     "metadata": {},
     "output_type": "execute_result"
    }
   ],
   "source": [
    "y.head()"
   ]
  },
  {
   "cell_type": "markdown",
   "metadata": {},
   "source": [
    "## Classification\n",
    "\n",
    "Once the text is processed the next step is to do the actual classificaiton. For this exercise we will be using a Logistic Regression Classifier. However there are many other popular classifiers that may perform better:\n",
    "1. Support Vector Machine and its variants\n",
    "2. Naive Bayes and its variants\n",
    "3. Random Forests and its variants \n",
    "\n",
    "We created a function that takes in the training set `X` , test set `y`, the model being used `model` and the classification algorithm `clf_model` as well as a variable that will show the top coefficients if true  `coef_show`"
   ]
  },
  {
   "cell_type": "code",
   "execution_count": 35,
   "metadata": {},
   "outputs": [],
   "source": [
    "c = CountVectorizer(stop_words = 'english')\n",
    "\n",
    "def text_fit(X, y, model,clf_model,coef_show=1):\n",
    "    \n",
    "    X_c = model.fit_transform(X)\n",
    "    print('# features: {}'.format(X_c.shape[1]))\n",
    "    X_train, X_test, y_train, y_test = train_test_split(X_c, y, random_state=0)\n",
    "    print('# train records: {}'.format(X_train.shape[0]))\n",
    "    print('# test records: {}'.format(X_test.shape[0]))\n",
    "    clf = clf_model.fit(X_train, y_train)\n",
    "    y_pred = clf.predict(X_test)\n",
    "    recall = recall_score(y_test,y_pred)\n",
    "#     acc = clf.score(X_test, y_test)\n",
    "    print ('Model Recall: {}'.format(recall))\n",
    "    \n",
    "    if coef_show == 1: \n",
    "        w = model.get_feature_names()\n",
    "        coef = clf.coef_.tolist()[0]\n",
    "        coeff_df = pd.DataFrame({'Word' : w, 'Coefficient' : coef})\n",
    "        coeff_df = coeff_df.sort_values(['Coefficient', 'Word'], ascending=[0, 1])\n",
    "        print('')\n",
    "        print('-Top 20 positive-')\n",
    "        print(coeff_df.head(20).to_string(index=False))\n",
    "        print('')\n",
    "        print('-Top 20 negative-')        \n",
    "        print(coeff_df.tail(20).to_string(index=False))"
   ]
  },
  {
   "cell_type": "markdown",
   "metadata": {},
   "source": [
    "## Classification Experiments\n",
    "\n",
    "1. Logistic regression model on word count\n",
    "3. Logistic regression model on TFIDF\n",
    "2. Logistic regression model on TFIDF + ngram\n",
    "\n",
    "NGram Defn:\n",
    "N-grams of texts are extensively used in text mining and natural language processing tasks. They are basically a set of co-occuring words within a given window and when computing the n-grams you typically move one word forward (although you can move X words forward in more advanced scenarios). Taken from [here](http://text-analytics101.rxnlp.com/2014/11/what-are-n-grams.html)"
   ]
  },
  {
   "cell_type": "code",
   "execution_count": 36,
   "metadata": {},
   "outputs": [
    {
     "name": "stdout",
     "output_type": "stream",
     "text": [
      "# features: 68923\n",
      "# train records: 123055\n",
      "# test records: 41019\n",
      "Model Recall: 0.907650432585\n",
      "\n",
      "-Top 20 positive-\n",
      "Coefficient           Word\n",
      "   2.694677     pleasantly\n",
      "   2.586919         hooked\n",
      "   2.442019       perruche\n",
      "   2.241181       drawback\n",
      "   2.213282  deliciousness\n",
      "   2.207249         resist\n",
      "   2.176302       downside\n",
      "   2.138309      skeptical\n",
      "   2.105337       insisted\n",
      "   2.076575      addicting\n",
      "   2.070123        welcome\n",
      "   2.064151      excellant\n",
      "   2.029976  emeraldforest\n",
      "   2.013503          penny\n",
      "   2.013448        worries\n",
      "   1.994691        iprozon\n",
      "   1.969112          foamy\n",
      "   1.916526      delighted\n",
      "   1.910513       tiramisu\n",
      "   1.891085      delicious\n",
      "\n",
      "-Top 20 negative-\n",
      "Coefficient            Word\n",
      "  -2.156156         assumed\n",
      "  -2.157149          ruined\n",
      "  -2.192306            mojo\n",
      "  -2.214745          ripoff\n",
      "  -2.227076      flavorless\n",
      "  -2.285248       glorified\n",
      "  -2.359231           awful\n",
      "  -2.370907        terrible\n",
      "  -2.380938       sleepless\n",
      "  -2.399603          freind\n",
      "  -2.412952  disappointment\n",
      "  -2.526706        crunchie\n",
      "  -2.545295         sounded\n",
      "  -2.664565     undrinkable\n",
      "  -2.732808       revolting\n",
      "  -2.739150   disappointing\n",
      "  -2.746764    unacceptable\n",
      "  -2.934367        canceled\n",
      "  -3.117488           worst\n",
      "  -3.273423       cancelled\n"
     ]
    }
   ],
   "source": [
    "text_fit(X, y, c, LogisticRegression())"
   ]
  },
  {
   "cell_type": "code",
   "execution_count": 37,
   "metadata": {},
   "outputs": [
    {
     "name": "stdout",
     "output_type": "stream",
     "text": [
      "# features: 68923\n",
      "# train records: 123055\n",
      "# test records: 41019\n",
      "Model Recall: 0.89963060173\n",
      "\n",
      "-Top 20 positive-\n",
      "Coefficient       Word\n",
      "  11.242273      great\n",
      "   9.976446  delicious\n",
      "   9.487620       best\n",
      "   8.879661    perfect\n",
      "   8.184955      loves\n",
      "   8.101420  excellent\n",
      "   7.296220  wonderful\n",
      "   7.290039     highly\n",
      "   7.169392       love\n",
      "   7.042965    amazing\n",
      "   6.615147       good\n",
      "   6.145776       nice\n",
      "   6.025466    awesome\n",
      "   5.997930     hooked\n",
      "   5.935291   favorite\n",
      "   5.819390      yummy\n",
      "   5.749754    pleased\n",
      "   5.576403     smooth\n",
      "   5.486892      happy\n",
      "   5.464887       glad\n",
      "\n",
      "-Top 20 negative-\n",
      "Coefficient            Word\n",
      "  -5.082552           hopes\n",
      "  -5.422343           money\n",
      "  -5.548397          hoping\n",
      "  -5.648424           sorry\n",
      "  -5.847056           threw\n",
      "  -5.869532          return\n",
      "  -5.880412         thought\n",
      "  -5.889446           waste\n",
      "  -5.909911           stale\n",
      "  -6.032231      disgusting\n",
      "  -6.516015           bland\n",
      "  -7.014679  disappointment\n",
      "  -7.051950            weak\n",
      "  -7.289941   unfortunately\n",
      "  -7.878753        horrible\n",
      "  -8.247094           awful\n",
      "  -8.283609        terrible\n",
      "  -8.325855   disappointing\n",
      "  -9.357504    disappointed\n",
      "  -9.905216           worst\n"
     ]
    }
   ],
   "source": [
    "tfidf = TfidfVectorizer(stop_words = 'english')\n",
    "text_fit(X, y, tfidf, LogisticRegression())"
   ]
  },
  {
   "cell_type": "code",
   "execution_count": 38,
   "metadata": {},
   "outputs": [
    {
     "name": "stdout",
     "output_type": "stream",
     "text": [
      "# features: 1932701\n",
      "# train records: 123055\n",
      "# test records: 41019\n",
      "Model Recall: 0.913288616701\n",
      "\n",
      "-Top 20 positive-\n",
      "Coefficient       Word\n",
      "  17.175395      great\n",
      "  14.000333       best\n",
      "  13.785201  delicious\n",
      "  11.903692    perfect\n",
      "  11.450009      loves\n",
      "  11.026022       love\n",
      "  10.384251  excellent\n",
      "   9.648505       good\n",
      "   9.646492  wonderful\n",
      "   9.104985       nice\n",
      "   8.780367   favorite\n",
      "   8.235120    amazing\n",
      "   7.572120      happy\n",
      "   7.540856       easy\n",
      "   7.091795    awesome\n",
      "   7.063638     highly\n",
      "   7.001554      tasty\n",
      "   6.841660      yummy\n",
      "   6.835026     smooth\n",
      "   6.723812    pleased\n",
      "\n",
      "-Top 20 negative-\n",
      "Coefficient            Word\n",
      "  -6.457616      disgusting\n",
      "  -6.585610          hoping\n",
      "  -6.691178           threw\n",
      "  -6.797792           waste\n",
      "  -6.859246           maybe\n",
      "  -7.111126  disappointment\n",
      "  -7.377162          return\n",
      "  -7.653478             bad\n",
      "  -7.685543           bland\n",
      "  -7.726872           money\n",
      "  -7.893960           stale\n",
      "  -8.591642            weak\n",
      "  -8.621319         thought\n",
      "  -8.761586   unfortunately\n",
      "  -8.886975        horrible\n",
      "  -9.022678   disappointing\n",
      "  -9.567707           awful\n",
      "  -9.583678        terrible\n",
      " -10.726520           worst\n",
      " -13.366405    disappointed\n"
     ]
    }
   ],
   "source": [
    "tfidf_n = TfidfVectorizer(ngram_range=(1,2),stop_words = 'english')\n",
    "text_fit(X, y, tfidf_n, LogisticRegression())"
   ]
  },
  {
   "cell_type": "markdown",
   "metadata": {},
   "source": [
    "## Topic Modelling\n",
    "\n",
    "Non Negative Matrix Factorization (NMF), Latent Dirichlet Allocation (LDA) and Single Value Decomposition (SVD)algorithms will be used to find topics in a document collection. The output of the derived topics involved assigning a numeric label to the topic and printing out the top words in a topic. \n",
    "\n",
    "The algorithms are not able to automatically determine the number of topics and this value must be set when running the algorithm. Comprehensive documentation on available parameters is available for both [NMF](http://scikit-learn.org/stable/modules/generated/sklearn.decomposition.NMF.html), [LDA](http://scikit-learn.org/stable/modules/generated/sklearn.decomposition.LatentDirichletAllocation.html#sklearn.decomposition.LatentDirichletAllocation) and [SVD](http://scikit-learn.org/stable/modules/generated/sklearn.decomposition.TruncatedSVD.html). \n",
    "\n",
    "\n"
   ]
  },
  {
   "cell_type": "code",
   "execution_count": 39,
   "metadata": {},
   "outputs": [],
   "source": [
    "def display_topics(H, W, feature_names, documents, no_top_words, no_top_documents):\n",
    "    for topic_idx, topic in enumerate(H):\n",
    "        print \"Topic %d:\" % (topic_idx)\n",
    "        print \" \".join([feature_names[i]\n",
    "                        for i in topic.argsort()[:-no_top_words - 1:-1]])\n",
    "        print \n",
    "        top_doc_indices = np.argsort( W[:,topic_idx] )[::-1][0:no_top_documents]\n",
    "        for doc_index in top_doc_indices:\n",
    "            print documents[doc_index]"
   ]
  },
  {
   "cell_type": "code",
   "execution_count": 40,
   "metadata": {},
   "outputs": [
    {
     "name": "stdout",
     "output_type": "stream",
     "text": [
      "10000\n"
     ]
    }
   ],
   "source": [
    "documents = list(X)[0:10000]\n",
    "print len(documents)"
   ]
  },
  {
   "cell_type": "code",
   "execution_count": 41,
   "metadata": {},
   "outputs": [],
   "source": [
    "\n",
    "# NMF is able to use tf-idf\n",
    "tfidf_vectorizer = TfidfVectorizer(max_df=0.95, min_df=2, stop_words='english')\n",
    "tfidf = tfidf_vectorizer.fit_transform(documents)\n",
    "tfidf_feature_names = tfidf_vectorizer.get_feature_names()\n",
    "\n",
    "# LDA can only use raw term counts for LDA because it is a probabilistic graphical model\n",
    "tf_vectorizer = CountVectorizer(max_df=0.95, min_df=2, stop_words='english')\n",
    "tf = tf_vectorizer.fit_transform(documents)\n",
    "tf_feature_names = tf_vectorizer.get_feature_names()"
   ]
  },
  {
   "cell_type": "code",
   "execution_count": 42,
   "metadata": {},
   "outputs": [],
   "source": [
    "no_topics = 5"
   ]
  },
  {
   "cell_type": "code",
   "execution_count": 43,
   "metadata": {},
   "outputs": [],
   "source": [
    "# Run NMF\n",
    "nmf_model = NMF(n_components=no_topics, random_state=1, alpha=.1, l1_ratio=.5, init='nndsvd').fit(tfidf)\n",
    "nmf_W = nmf_model.transform(tfidf)\n",
    "nmf_H = nmf_model.components_"
   ]
  },
  {
   "cell_type": "code",
   "execution_count": 44,
   "metadata": {},
   "outputs": [
    {
     "name": "stderr",
     "output_type": "stream",
     "text": [
      "/Library/Python/2.7/site-packages/sklearn/decomposition/online_lda.py:294: DeprecationWarning: n_topics has been renamed to n_components in version 0.19 and will be removed in 0.21\n",
      "  DeprecationWarning)\n"
     ]
    }
   ],
   "source": [
    "# Run LDA\n",
    "lda_model = LatentDirichletAllocation(n_topics=no_topics, max_iter=5, learning_method='online', learning_offset=50.,random_state=0).fit(tf)\n",
    "lda_W = lda_model.transform(tf)\n",
    "lda_H = lda_model.components_"
   ]
  },
  {
   "cell_type": "code",
   "execution_count": 45,
   "metadata": {},
   "outputs": [],
   "source": [
    "#SVD\n",
    "lsi_model = TruncatedSVD(n_components=no_topics, n_iter=7, random_state=42).fit(tf)\n",
    "lsi_W = lsi_model.transform(tf)\n",
    "lsi_H = lsi_model.components_\n"
   ]
  },
  {
   "cell_type": "code",
   "execution_count": 46,
   "metadata": {},
   "outputs": [
    {
     "name": "stdout",
     "output_type": "stream",
     "text": [
      "NMF Topics \n",
      "\n",
      "\n",
      "Topic 0:\n",
      "like taste product good flavor great just chocolate really love\n",
      "\n",
      "I decided to try this product because it was cheap and I'm usually a vanilla person. I love vanilla everything and because I had already tried the chocolate version and wanted a change I thought this would be perfect. Turns out it wasn't. The taste is horrible. Even thought there's no aspartame it tastes like there's artificial sweeteners in it. The first time I tried it it made me gag. The only way I was able to finish the box was to put it in my shaker and just take very big gulps without breathing. That way it was over in less than 30sec. I've tried the chocolate and at fist didn't like it, but this stuff makes the chocolate taste like candy. The chocolate tastes just like chocolate (more like hot cocoa), but without  added sugar. This stuff does not resemble vanilla ice cream at all.<br />  I'm not gonna completely bash it however, because how many protein shakes actually taste good? Despite the taste, it did what it was supposed to do. I drank one of these and it kept me full for three hours which is great for only 180cal. These shakes have helped me control my eating and keep me on my 1200cal a day diet (200 cal every 3 hours). I never experienced gas, bloating or any kind of stomach cramps. If you can get over the taste which won't last too long if you just gulp them down then this product isn't too bad. I would recommend trying the chocolate flavor, however. It tastes more natural. I have yet to try the strawberry.\n",
      "I have tried the other flavors and this was a good addition and I like this product and would buy all that they make .  it makes you burp and has a great taste.\n",
      "These just do not taste good at all. They don't taste like cheese, they are just nasty. I don't know what else to say about them.\n",
      "Ugh, again ordered 12 pack of snack I never tasted, was hoping save time going to stores shopping for things like this, wanted to stock up, read all the great reviews figured I can't go wrong, but of course I ordered the weirdest sounding of the flavors, maybe I'd have been somewhat better off choosing the garlic whatever it was flavor than this one.  I tried eat a bag, now I don't touch em, another snack I've been contemplating bringing few with me whenever I go into city to see if homeless might want it rather than just throwing it out, at least for a snack it's on the healthier side.  But I'd kinda feel bad knowing it tastes bad, but if they're hungry they still might want it. I didn't like the crunch/texture of them, the taste, nothing really.  Just my honest opinion, I can't really say it would have been a lot different if it were one of the other flavors, but I don't think I want try them after not really even liking these a little bit. Maybe snacks can't really be too healthy and taste good.\n",
      "Topic 1:\n",
      "br amazon ingredients use organic water review small chicken things\n",
      "\n",
      "\"I love them\"<br /><br />  - Winston the dog<br /><br />\"These are delicious\"<br /><br />  - Suzi the dog<br /><br />\"feh....not a reasonable substitute for tunafish\"<br /><br />  - Peke the cat\n",
      "This is a good grocery for us.<br /><br />If you cook something,you can use it.<br /><br />It is smells so good.<br /><br />You should buy it.\n",
      "okay here is my disclaimer -<br /><br />I like my coffee sweet and with cream --<br /><br />my first taste yuck!<br />but I said I would review this so took a second sip<br /><br />Bitter taste<br />slight powdery feel<br />light carbination<br /><br />A strong coffee aroma<br /><br />I was hoping for something better\n",
      "I saw the advertisements for these Kashi Bars on the back of my cereal boxes and knew I had to try them.<br /><br />I decided to buy one of each flavors at my local grocery store before I buy a pack of 12 here on amazon. In my opinion, the Chocolate Turtle ones are the best tasting and closest to an actually candy bar.<br /><br />The toasted pecans on the outside are what makes this bar my favorite. And its good for you health wise!! 6g of Fiber and 12g of Protein.<br /><br />Total Fat = 5g = 8%<br /><br />Sat. Fat = 1.5g = 8%<br /><br />Trans Fat = 0g<br /><br />Cholesterol = 0mg<br /><br />Sodium = 200mg = 8%<br /><br />Potassium = 60mg = 2%<br /><br />Total Carb. = 28g = 9%<br /><br />Fiber = 6g = 24%<br /><br />Soluble Fiber 3g<br /><br />Insoluble Fiber 3g<br /><br />Sugars 14g<br /><br />Protein = 12g = 20%<br /><br />190 Calories<br /><br />Everything based on a 2000 Calorie Diet, just so you guys know. Finally, no High Fructose Corn Syrup or Partially Hydrogenated Oils. Can't go wrong!!!!  My local grocery store charges $1.79 for each of these, so great deal here.<br /><br />Hope that helps and enjoy!!!!!\n",
      "Topic 2:\n",
      "tea green teas drink bags chai black stash iced flavor\n",
      "\n",
      "Have to use 2 tea bags to get the Green tea effect. I've used other Green Tea products where I only need one tea bag. If you're not into Green tea but feel you should be using it, I'll recommend trying this brand.\n",
      "I just love this tea.  It's the only tea I drink.  It has that nice smooth flavor--not like black tea.  I would recommend this product to anyone.\n",
      "Great tasting herbal tea if you don't like hot black tea (the tea that ice tea is usually made of)! This tea is also supposed to be good for your immune system, that is a bonus.\n",
      "Green tea can be very bitter especially if you brew it too long. This tea brews quickly and has a very pure taste and delicate aroma. I like drinking each cup with a packet of stevia. It seems to sweeten it just enough without masking the subtle silky flavors. This tea is made of rare white tea and green tea. White tea actually has more antioxidants than green tea and has less caffeine. So this particluar tea is very healthy. However you will probably drink it often because it tastes so good.<br /><br />~The Rebecca Review\n",
      "Topic 3:\n",
      "coffee cup cups roast strong bold weak blend keurig flavor\n",
      "\n",
      "I bought this coffee based on the good reviews that I read. Unfortunately I do not like the taste of the coffee. The coffee is very light and you get more of the hazelnut taste than the coffee. I prefer my coffee to taste a little bitter. Basically if you like coffee which is heavily flavored then this is for you.\n",
      "This coffee is a special blend, found it in a little \"Bagel store\", hunted it down and found it at AMAZON! OF COURSE!After you have this coffee, this will be your coffee of choice. No after taste, no bitterness to coffee, every cup is perfect. My coffee of choice.\n",
      "I picked up two bags of this coffee for a good price on a Friday only sale. I am very happy I decided to try it. The flavor is rich and dark, with a smoky undertone and no bitterness. Just the way I like my coffee. I enjoy a good amount of cream in my coffee (no sugar!), so I need a blend that will stand up to the cream. This coffee definitely does just that. Even if you enjoy your coffee black, this coffee will not leave a bitter aftertaste. It is extremely smooth. I would rate this just a notch darker than a typical french roast coffee, and not quite as dark as a traditional espresso roast. It is just perfect. By the way, I use the Aero coffee press to brew my coffee, but I am sure this coffee would yield a delicious cup with all brewing methods. Try a cup; you'll like it, too.<br /><br /><a href=\"http://www.amazon.com/gp/product/B0047BIWSK\">Aerobie AeroPress Coffee and Espresso Maker</a>\n",
      "This was an extremely affordable item, but the old adage you get what you pay for applies here.  The coffee was nothing special and tasted like discount coffee.  One of the best aspects of the single-cup coffee maker is that you get a cup of coffee that is strong (depending upon your preference), fresh and, tastes like a cup of coffee from one of the chain reatil locations, without the retail price. This coffee tasted like weak, old coffee - coffee that was made in a drip maker.  In my opinion, not a \"Fog Chaser\" at all.\n",
      "Topic 4:\n",
      "food dog dogs treats cat eat cats loves treat dry\n",
      "\n",
      "What can I say....it's dog food and my dog loves it.  I am pretty sure any dog would love this product too...its food!\n",
      "This is the only dog food that we've found to work well for our small dog with many food allergies. The ingredients are simple and the pieces are small enough for little dogs to work with. We've been using this dog food for almost four years and he still loves it.<br /><br />It does smell like duck so if you are sensitive - be warned. :)\n",
      "So its been a week since I let my dogs \"try\" this food. We have 4 dogs so this bag went quick! 3 Small dogs, Shih Tzu and Maltese's and One Yellow Lab, all adults.<br /><br />The product states how tender the pieces are and how your dog will love it... and that they do... It also says theres no artificial perservatives and that the #1 ingredient is the beef that your dog wants.. but... is this what your dog needs???<br /><br />Just because the product looks good and colorful and says your dog wants it doesn't mean its good for him. This was more like a treat for my dogs then \"food\" and even then a very unhealthy treat. There is a ton of soy and corn in this food and by products. I think the colored bites are more to please the humans then the dogs! That means there are aritifial preservatives or flavors or colors of some sort to get the colors. Does a dog really need this? but mainly is it healthy.... For a 4.5lb bag of unhealthy food it is pricy too.<br /><br />You are what you eat... and if you give your dog a healthy food with NO byproducts and no corn etc.. your dog will be alot more healthy (and less gassy if gas is a factor) I'd recommend trying good healthy food for a week or two if your not already, you will see a difference and there are a bunch out there on the market. Yes they are more costly.. but think of the benifits as well. Why give your dog stuff thats unhealthy? Can lead to problems... and more bills.<br /><br />I don't recommend this food, and my dogs enjoyed their short treat while it lasted. We didn't fully finish the bag either as after a few days I didn't want to keep giving them \"junk food\"\n",
      "We have 3 large dogs, two labs and a German Shepard-Chow mix. All of the range widely in ages and finickiness with foods. One dog will eat anything in sight, but many things give her gas. Another is picky and gets quite ill of off several different kinds of dog foods. The third dog is sort of in between, will eat most all dog foods, but has never had stomach issues with any of them. I gradually mixed in a little of this food at a time with their usual dog food <a href=\"http://www.amazon.com/gp/product/B001VJ0B0I\">PURINA Beneful</a>. Then slowly got them till they were eating just this Chef Michael's. All three dogs seemed to enjoy the food and the dog who often gets ill from new dog foods, did not with this one. However our youngest, who will eat anything in sight, did get a little gassy with the food. But it's not uncommon for her to get gassy with her regular food as well. The dogs all enjoy it and seem to have no real problems eating it, anymore than they to their regular Beneful dog food.\n"
     ]
    }
   ],
   "source": [
    "no_top_words = 10\n",
    "no_top_documents = 4\n",
    "print \"NMF Topics \\n\\n\"\n",
    "display_topics(nmf_H, nmf_W, tfidf_feature_names, documents, no_top_words, no_top_documents)\n"
   ]
  },
  {
   "cell_type": "code",
   "execution_count": 47,
   "metadata": {},
   "outputs": [
    {
     "name": "stdout",
     "output_type": "stream",
     "text": [
      "\n",
      "\n",
      "LDA Topics \n",
      "\n",
      "\n",
      "Topic 0:\n",
      "br plastic salt toy almonds bottle ball magnesium blue filters\n",
      "\n",
      "As I have problems with sleep at night and tried all sorts of things which are most commonly recommended to improve it, I tought I try this well rated product. I tried it in all the various recommended dosages. But it didn't make the slightest difference for me. Thus I guess that it probably only works if the cause of the unrest is a magnesium deficiency.<br />Reportedly:<br />\"With supplements, overdose is possible, however, particularly in people with poor renal function; occasionally, with use of high cathartic doses of magnesium salts, severe hypermagnesemia has been reported to occur even without renal dysfunction\".<br />\"Safety Issues<br />The US government has set the following upper limits for use of magnesium supplements:<br />Children<br />1-3 years: 65 mg<br />4-8 years: 110 mg<br />Adults: 350 mg<br />Pregnant or Nursing Women: 350 mg\"<br />\"It has been called nature's calcium channel blocker.\"<br />\"Magnesium assists in calcium uptake, but it also competes with dietary calcium for the same absorption site in the intestine. Excessive dietary calcium (or phosphorus) is much more likely to block magnesium absorption than vice- versa in the typical American diet. Magnesium absorption is also inhibited by excessive dietary fat, phosphate, lactose, phytates and oxalates which form insoluble compounds with magnesium. Magnesium is also lost in diarrhea, long term use of diuretics, excessive sugar intake and protein malnutrition...<br />...  there are lower levels of minerals in food today due to depletion of the soil in modern farming methods. (23) Modern methods of milling, processing and the preservation of food cause nutrient losses, eg 85% of magnesium is removed from whole wheat in the milling.\"<br />Thus it is advisable to consult a qualified health care provider if a deficiency is suspected.<br />It's usually best to avoid deficiencies by a healthy diet: \"Kelp is very high in magnesium, as are whole grains, almonds, and cashews...\"\n",
      "As I have problems with sleep at night and tried all sorts of things which are most commonly recommended to improve it, I tought I try this well rated product. I tried it in all the various recommended dosages. But it didn't make the slightest difference for me. Thus I guess that it probably only works if the cause of the unrest is a magnesium deficiency.<br />Reportedly:<br />\"With supplements, overdose is possible, however, particularly in people with poor renal function; occasionally, with use of high cathartic doses of magnesium salts, severe hypermagnesemia has been reported to occur even without renal dysfunction\".<br />\"Safety Issues<br />The US government has set the following upper limits for use of magnesium supplements:<br />Children<br />1-3 years: 65 mg<br />4-8 years: 110 mg<br />Adults: 350 mg<br />Pregnant or Nursing Women: 350 mg\"<br />\"It has been called nature's calcium channel blocker.\"<br />\"Magnesium assists in calcium uptake, but it also competes with dietary calcium for the same absorption site in the intestine. Excessive dietary calcium (or phosphorus) is much more likely to block magnesium absorption than vice- versa in the typical American diet. Magnesium absorption is also inhibited by excessive dietary fat, phosphate, lactose, phytates and oxalates which form insoluble compounds with magnesium. Magnesium is also lost in diarrhea, long term use of diuretics, excessive sugar intake and protein malnutrition...<br />...  there are lower levels of minerals in food today due to depletion of the soil in modern farming methods. (23) Modern methods of milling, processing and the preservation of food cause nutrient losses, eg 85% of magnesium is removed from whole wheat in the milling.\"<br />Thus it is advisable to consult a qualified health care provider if a deficiency is suspected.<br />It's usually best to avoid deficiencies by a healthy diet: \"Kelp is very high in magnesium, as are whole grains, almonds, and cashews...\"\n",
      "According to the manufacturer's website, this (and many of their other products) contains menadione sodium bisulfite complex.<br /><br />Menadione is a synthetic precursor for Vitamin K and has been reported to have toxic effects. The use of menadione over the natural alternatives (such as leafy greens and kelp) is only for cost-saving reasons, hence usually only found in cheaper and lower quality animal food. It's surprising that pet food at this high of a price actually contains this substance.<br /><br />Menadione is banned by the Food & Drug Administration in over-the-counter supplements due to its potential for organ toxicity. It's also banned in Europe for human consumption.<br /><br />A study in rats showed that exposure to menadione \"produced lesions in the kidney, heart, liver and lung.\" Chiou et al. Toxicology 1997.<br /><br />Menadione's toxicity seems to be due to its ability to induce oxidative stress in cells.<br /><br />Do an online search for menadione and you'll find more info from a pet food watchdog trying to stop the inclusion of this substance.<br /><br />In light of recent episodes of toxic pet food and the questionable behaviors of manufacturers and our regulatory agencies, I would advise you to avoid feeding this to your cats.\n",
      "According to the manufacturer's website, this (and many of their other products) contains menadione sodium bisulfite complex.<br /><br />Menadione is a synthetic precursor for Vitamin K and has been reported to have toxic effects. The use of menadione over the natural alternatives (such as leafy greens and kelp) is only for cost-saving reasons, hence usually only found in cheaper and lower quality animal food. It's surprising that pet food at this high of a price actually contains this substance.<br /><br />Menadione is banned by the Food & Drug Administration in over-the-counter supplements due to its potential for organ toxicity. It's also banned in Europe for human consumption.<br /><br />A study in rats showed that exposure to menadione \"produced lesions in the kidney, heart, liver and lung.\" Chiou et al. Toxicology 1997.<br /><br />Menadione's toxicity seems to be due to its ability to induce oxidative stress in cells.<br /><br />Do an online search for menadione and you'll find more info from a pet food watchdog trying to stop the inclusion of this substance.<br /><br />In light of recent episodes of toxic pet food and the questionable behaviors of manufacturers and our regulatory agencies, I would advise you to avoid feeding this to your cats.\n",
      "Topic 1:\n",
      "br like taste flavor coffee good just great chocolate sugar\n",
      "\n",
      "I have tried three different brands of coconut oil: Barlean's, Nutiva, and Tropical Traditions. The VIRGIN coconut oil has a nice, light coconut flavor.  The EXPELLER pressed coconut oil has no flavor. So, if you a buying virgin coconut oil here's my tip: Barlean's had the best flavor and smell...I wanted to eat it right out of the jar it smelled so good, tasted phenomenal!! Barlean's was the most expensive of the three but for the flavor worth it. Nutiva was a close second in taste & smell and is more economical. Tropical Traditional (which I have always loved their products in the past) did not measure up in flavor. In fact it had a strange, burnt taste and smell...something was off about it. If you want no coconut flavor at all, get the expeller pressed coconut oil. It is less expensive than virgin coconut oil...all three companies use proper, healthy, non-chemical practices to extract the oil, so I would go with the best buy for the expeller cold pressed oil but pay a little more for the virgin coconut oil.\n",
      "I absolutely love my Sodastream because I drink a lot of sparkling water and this has saved me a fortune! Recently I thought it would be great to have some of the soda flavorings around for guests, mixed drinks, etc. However, I have not been thrilled with diet flavors I have tried so far. Of the three I have tried (diet tonic, diet ginger ale, and diet root beer), I think the diet root beer is the best, but is not even close to any of the name brand diet root beers.  Both the diet ginger ale and diet tonic have a nasty aftertaste - way worse than any name brand diet soda on the market.  The worst part about the aftertaste is that it doesn't seem to go away. As I write this, I still have a bad taste in my mouth - and it's been nearly a half hour since I drank some of the diet ginger ale. That alone compelled me to pull out my computer and log a review. I have tried them several times now, altering the amount of syrup to see if it would make a difference, and each time I end up pouring it down the drain. I am SO disappointed by this as I had high hopes for flavorings.\n",
      "I absolutely love my Sodastream because I drink a lot of sparkling water and this has saved me a fortune! Recently I thought it would be great to have some of the soda flavorings around for guests, mixed drinks, etc. However, I have not been thrilled with diet flavors I have tried so far. Of the three I have tried (diet tonic, diet ginger ale, and diet root beer), I think the diet root beer is the best, but is not even close to any of the name brand diet root beers.  Both the diet ginger ale and diet tonic have a nasty aftertaste - way worse than any name brand diet soda on the market.  The worst part about the aftertaste is that it doesn't seem to go away. As I write this, I still have a bad taste in my mouth - and it's been nearly a half hour since I drank some of the diet ginger ale. That alone compelled me to pull out my computer and log a review. I have tried them several times now, altering the amount of syrup to see if it would make a difference, and each time I end up pouring it down the drain. I am SO disappointed by this as I had high hopes for flavorings.\n",
      "I recently got obsessed with making the perfect cup of coffee (as obsessed as a poor college student can be anyway). First I tried a dark roast from 8 o'clock coffees and next I tried this one. The difference is huge. Using a french press and electric grinder I could get the dark roast to taste pretty good but I'd always need creamer to balance out the flavor. With this coffee I actually enjoy drinking it black, which is something I've never been able to say about a coffee before. I still use a little creamer but that's just a preference thing, it's good either way. If you're just getting into making awesome coffee then I strongly suggest trying this. It's much better than anything you'll buy pre-ground at the store.<br /><br />I've only made it using a french press (another thing I strongly suggest to new coffee enthusiasts) so refer to other reviews for how well it tastes using drip brewing methods.\n",
      "Topic 2:\n",
      "br food dog eat just product dogs like chips treats\n",
      "\n",
      "This review will make me sound really stupid, but whatever. I don't really care as long as people find out what's real and can avoid my mistakes.<br /><br />I got my wonderful little sweet Bella Bean when she was a few days shy of three years old. She had been bounced around from house to house and eating whatever was cheap. I have had cats around me my entire life, for about twenty-five years now. My mother always just fed them whatever, the kinds of food you buy in the supermarket - Friskies, Nine Lives, Kit & Kaboodle, stuff like that. And our cats were always fine, at least in terms of their eating habits. They would eat in the morning, stop when they were done, come back, and eat some more when they got hungry.<br /><br />My housemate at the time was working for Hill's and assured me that this was the best food ever made, so great, so on and so forth. I now know that she is an utter buffoon, but I initially trusted her judgment, which is so unfortunate because she doesn't think. She also had plenty of coupons for free or deeply discounted bags, which made it a much more attractive choice.<br /><br />I first tried feeding the little Bean an unmeasured amount of Science Diet in a bowl, but that didn't work, as she would devour it in one sitting. So then I took to measuring it, and she did the same thing. Then I started parsing it out to twice a day. That didn't work either, because she would start going crazy in the middle of the day, running around, intentionally destroying things, deliberately spilling her water, crying, etc., until she got more food. So then I split it into three servings. Same thing. Then it got to be four servings. That was a little better, but it was too much maintenance and unrealistic to be around every day to feed her four times. So then it went back to three. All the while, I was trying to reduce the amount of food I was feeding her to less than 3/4 of a cup because she was a little chubby. Reducing was hell. She became even more hungry, but I figured she would get used to it. Not really.<br /><br />For over a year, she would wake me up every morning looking for food in a serious way, knocking things off my desk, ripping up any paper she could find, scratching at the door and committing general acts of mischief. As soon as she got food, she was back to her sweet self, but only for three or four hours.<br /><br />We thought she was bored, we thought she was a little nutty, and maybe even had a kitty eating disorder. She always wanted food. It was kind of funny but in the end it was just sad.<br /><br />A few weeks back, we took her to a new (good, non-money factory) vet for her second checkup since I've had her. I talked with him about her being always hungry. He asked what she ate, and I told him the adult indoor Science Diet. Without saying as much, he basically told me that this food is garbage and I should look for something else. He said cat food should have a protein followed by a carbohydrate as the first two ingredients. Science Diet does, in a very loose, by-product kind of way - ground up slaughterhouse leftovers and corn dust. Then they put a bunch of vitamins in it to make it \"healthy,\" instead of just using good ingredients from the beginning. Not that I care about spending money on the Bean, but this food is way too expensive for what it is.<br /><br />So we began transitioning her onto Wellness indoor formula about two weeks ago. She is still eating 50 percent Science Diet with 50 percent Wellness (you really shouldn't just give a cat different food one day out of the blue) but SHE NEVER FREAKS OUT ANYMORE. It's amazing. And it's 100 percent because she is eating real food now, along with that sawdust and chicken hearts I still regrettable have to feed her. We have her down to eating twice a day, only 1/3 cup in TOTAL. She was eating three times a day, 5/8 of a cup in total. Now she eats some in the morning, walks away, eats some more a few hours later, and then looks for dinner about twelve hours after her initial feeding. No more knocking things over, no more trashing Dad's papers on the desk, no more howling, no more deliberately spilled water on the floor. It's incredible.<br /><br />I feel so bad that I was doing this to her for so long. We really thought she was just being dramatic or whatever. But no, she was genuinely hungry because she wasn't eating any real food.<br /><br />Do your cat a favor - buy her or him so food made with real ingredients, things you would eat - Wellness, Halo, Innova, Evo, whatever. Figure it out for yourself, but please don't feed your cat this. It's garbage.\n",
      "This review will make me sound really stupid, but whatever. I don't really care as long as people find out what's real and can avoid my mistakes.<br /><br />I got my wonderful little sweet Bella Bean when she was a few days shy of three years old. She had been bounced around from house to house and eating whatever was cheap. I have had cats around me my entire life, for about twenty-five years now. My mother always just fed them whatever, the kinds of food you buy in the supermarket - Friskies, Nine Lives, Kit & Kaboodle, stuff like that. And our cats were always fine, at least in terms of their eating habits. They would eat in the morning, stop when they were done, come back, and eat some more when they got hungry.<br /><br />My housemate at the time was working for Hill's and assured me that this was the best food ever made, so great, so on and so forth. I now know that she is an utter buffoon, but I initially trusted her judgment, which is so unfortunate because she doesn't think. She also had plenty of coupons for free or deeply discounted bags, which made it a much more attractive choice.<br /><br />I first tried feeding the little Bean an unmeasured amount of Science Diet in a bowl, but that didn't work, as she would devour it in one sitting. So then I took to measuring it, and she did the same thing. Then I started parsing it out to twice a day. That didn't work either, because she would start going crazy in the middle of the day, running around, intentionally destroying things, deliberately spilling her water, crying, etc., until she got more food. So then I split it into three servings. Same thing. Then it got to be four servings. That was a little better, but it was too much maintenance and unrealistic to be around every day to feed her four times. So then it went back to three. All the while, I was trying to reduce the amount of food I was feeding her to less than 3/4 of a cup because she was a little chubby. Reducing was hell. She became even more hungry, but I figured she would get used to it. Not really.<br /><br />For over a year, she would wake me up every morning looking for food in a serious way, knocking things off my desk, ripping up any paper she could find, scratching at the door and committing general acts of mischief. As soon as she got food, she was back to her sweet self, but only for three or four hours.<br /><br />We thought she was bored, we thought she was a little nutty, and maybe even had a kitty eating disorder. She always wanted food. It was kind of funny but in the end it was just sad.<br /><br />A few weeks back, we took her to a new (good, non-money factory) vet for her second checkup since I've had her. I talked with him about her being always hungry. He asked what she ate, and I told him the adult indoor Science Diet. Without saying as much, he basically told me that this food is garbage and I should look for something else. He said cat food should have a protein followed by a carbohydrate as the first two ingredients. Science Diet does, in a very loose, by-product kind of way - ground up slaughterhouse leftovers and corn dust. Then they put a bunch of vitamins in it to make it \"healthy,\" instead of just using good ingredients from the beginning. Not that I care about spending money on the Bean, but this food is way too expensive for what it is.<br /><br />So we began transitioning her onto Wellness indoor formula about two weeks ago. She is still eating 50 percent Science Diet with 50 percent Wellness (you really shouldn't just give a cat different food one day out of the blue) but SHE NEVER FREAKS OUT ANYMORE. It's amazing. And it's 100 percent because she is eating real food now, along with that sawdust and chicken hearts I still regrettable have to feed her. We have her down to eating twice a day, only 1/3 cup in TOTAL. She was eating three times a day, 5/8 of a cup in total. Now she eats some in the morning, walks away, eats some more a few hours later, and then looks for dinner about twelve hours after her initial feeding. No more knocking things over, no more trashing Dad's papers on the desk, no more howling, no more deliberately spilled water on the floor. It's incredible.<br /><br />I feel so bad that I was doing this to her for so long. We really thought she was just being dramatic or whatever. But no, she was genuinely hungry because she wasn't eating any real food.<br /><br />Do your cat a favor - buy her or him so food made with real ingredients, things you would eat - Wellness, Halo, Innova, Evo, whatever. Figure it out for yourself, but please don't feed your cat this. It's garbage.\n",
      "This review will make me sound really stupid, but whatever. I don't really care as long as people find out what's real and can avoid my mistakes.<br /><br />I got my wonderful little sweet Bella Bean when she was a few days shy of three years old. She had been bounced around from house to house and eating whatever was cheap. I have had cats around me my entire life, for about twenty-five years now. My mother always just fed them whatever, the kinds of food you buy in the supermarket - Friskies, Nine Lives, Kit & Kaboodle, stuff like that. And our cats were always fine, at least in terms of their eating habits. They would eat in the morning, stop when they were done, come back, and eat some more when they got hungry.<br /><br />My housemate at the time was working for Hill's and assured me that this was the best food ever made, so great, so on and so forth. I now know that she is an utter buffoon, but I initially trusted her judgment, which is so unfortunate because she doesn't think. She also had plenty of coupons for free or deeply discounted bags, which made it a much more attractive choice.<br /><br />I first tried feeding the little Bean an unmeasured amount of Science Diet in a bowl, but that didn't work, as she would devour it in one sitting. So then I took to measuring it, and she did the same thing. Then I started parsing it out to twice a day. That didn't work either, because she would start going crazy in the middle of the day, running around, intentionally destroying things, deliberately spilling her water, crying, etc., until she got more food. So then I split it into three servings. Same thing. Then it got to be four servings. That was a little better, but it was too much maintenance and unrealistic to be around every day to feed her four times. So then it went back to three. All the while, I was trying to reduce the amount of food I was feeding her to less than 3/4 of a cup because she was a little chubby. Reducing was hell. She became even more hungry, but I figured she would get used to it. Not really.<br /><br />For over a year, she would wake me up every morning looking for food in a serious way, knocking things off my desk, ripping up any paper she could find, scratching at the door and committing general acts of mischief. As soon as she got food, she was back to her sweet self, but only for three or four hours.<br /><br />We thought she was bored, we thought she was a little nutty, and maybe even had a kitty eating disorder. She always wanted food. It was kind of funny but in the end it was just sad.<br /><br />A few weeks back, we took her to a new (good, non-money factory) vet for her second checkup since I've had her. I talked with him about her being always hungry. He asked what she ate, and I told him the adult indoor Science Diet. Without saying as much, he basically told me that this food is garbage and I should look for something else. He said cat food should have a protein followed by a carbohydrate as the first two ingredients. Science Diet does, in a very loose, by-product kind of way - ground up slaughterhouse leftovers and corn dust. Then they put a bunch of vitamins in it to make it \"healthy,\" instead of just using good ingredients from the beginning. Not that I care about spending money on the Bean, but this food is way too expensive for what it is.<br /><br />So we began transitioning her onto Wellness indoor formula about two weeks ago. She is still eating 50 percent Science Diet with 50 percent Wellness (you really shouldn't just give a cat different food one day out of the blue) but SHE NEVER FREAKS OUT ANYMORE. It's amazing. And it's 100 percent because she is eating real food now, along with that sawdust and chicken hearts I still regrettable have to feed her. We have her down to eating twice a day, only 1/3 cup in TOTAL. She was eating three times a day, 5/8 of a cup in total. Now she eats some in the morning, walks away, eats some more a few hours later, and then looks for dinner about twelve hours after her initial feeding. No more knocking things over, no more trashing Dad's papers on the desk, no more howling, no more deliberately spilled water on the floor. It's incredible.<br /><br />I feel so bad that I was doing this to her for so long. We really thought she was just being dramatic or whatever. But no, she was genuinely hungry because she wasn't eating any real food.<br /><br />Do your cat a favor - buy her or him so food made with real ingredients, things you would eat - Wellness, Halo, Innova, Evo, whatever. Figure it out for yourself, but please don't feed your cat this. It's garbage.\n",
      "This review will make me sound really stupid, but whatever. I don't really care as long as people find out what's real and can avoid my mistakes.<br /><br />I got my wonderful little sweet Bella Bean when she was a few days shy of three years old. She had been bounced around from house to house and eating whatever was cheap. I have had cats around me my entire life, for about twenty-five years now. My mother always just fed them whatever, the kinds of food you buy in the supermarket - Friskies, Nine Lives, Kit & Kaboodle, stuff like that. And our cats were always fine, at least in terms of their eating habits. They would eat in the morning, stop when they were done, come back, and eat some more when they got hungry.<br /><br />My housemate at the time was working for Hill's and assured me that this was the best food ever made, so great, so on and so forth. I now know that she is an utter buffoon, but I initially trusted her judgment, which is so unfortunate because she doesn't think. She also had plenty of coupons for free or deeply discounted bags, which made it a much more attractive choice.<br /><br />I first tried feeding the little Bean an unmeasured amount of Science Diet in a bowl, but that didn't work, as she would devour it in one sitting. So then I took to measuring it, and she did the same thing. Then I started parsing it out to twice a day. That didn't work either, because she would start going crazy in the middle of the day, running around, intentionally destroying things, deliberately spilling her water, crying, etc., until she got more food. So then I split it into three servings. Same thing. Then it got to be four servings. That was a little better, but it was too much maintenance and unrealistic to be around every day to feed her four times. So then it went back to three. All the while, I was trying to reduce the amount of food I was feeding her to less than 3/4 of a cup because she was a little chubby. Reducing was hell. She became even more hungry, but I figured she would get used to it. Not really.<br /><br />For over a year, she would wake me up every morning looking for food in a serious way, knocking things off my desk, ripping up any paper she could find, scratching at the door and committing general acts of mischief. As soon as she got food, she was back to her sweet self, but only for three or four hours.<br /><br />We thought she was bored, we thought she was a little nutty, and maybe even had a kitty eating disorder. She always wanted food. It was kind of funny but in the end it was just sad.<br /><br />A few weeks back, we took her to a new (good, non-money factory) vet for her second checkup since I've had her. I talked with him about her being always hungry. He asked what she ate, and I told him the adult indoor Science Diet. Without saying as much, he basically told me that this food is garbage and I should look for something else. He said cat food should have a protein followed by a carbohydrate as the first two ingredients. Science Diet does, in a very loose, by-product kind of way - ground up slaughterhouse leftovers and corn dust. Then they put a bunch of vitamins in it to make it \"healthy,\" instead of just using good ingredients from the beginning. Not that I care about spending money on the Bean, but this food is way too expensive for what it is.<br /><br />So we began transitioning her onto Wellness indoor formula about two weeks ago. She is still eating 50 percent Science Diet with 50 percent Wellness (you really shouldn't just give a cat different food one day out of the blue) but SHE NEVER FREAKS OUT ANYMORE. It's amazing. And it's 100 percent because she is eating real food now, along with that sawdust and chicken hearts I still regrettable have to feed her. We have her down to eating twice a day, only 1/3 cup in TOTAL. She was eating three times a day, 5/8 of a cup in total. Now she eats some in the morning, walks away, eats some more a few hours later, and then looks for dinner about twelve hours after her initial feeding. No more knocking things over, no more trashing Dad's papers on the desk, no more howling, no more deliberately spilled water on the floor. It's incredible.<br /><br />I feel so bad that I was doing this to her for so long. We really thought she was just being dramatic or whatever. But no, she was genuinely hungry because she wasn't eating any real food.<br /><br />Do your cat a favor - buy her or him so food made with real ingredients, things you would eat - Wellness, Halo, Innova, Evo, whatever. Figure it out for yourself, but please don't feed your cat this. It's garbage.\n",
      "Topic 3:\n",
      "br product tea amazon like taste good just box price\n",
      "\n",
      "I have tried many different types of Mate over the last few years. Flavored, unflavored, with herbs, with sweeteners, roasted, and organic. This is the first \"Unsmoked\" Mate that I can recall having tried and it has turned out to be the strangest Mate yet. My taste buds really hated me for sticking with this Mate. I can now say that the bag is finished, the damage is done, but man it really is bad tasting Mate. I gave this stuff and fair try and thought maybe it would grow on me, but like hell! This stuff tastes more like dirt and hay than it does Mate! As for why the taste is off, it is difficult to say what is actually going on. It is entirely different from the traditional taste of Mate. The bad taste has nothing to do with it being \"Organic\", that much I know. I've tried several \"Organic\" brands and this is the only one Ive had a problem with. I toyed with the idea that it may be a bad batch, but I know that's not the case as I've bought two bags of this stuff and it's the same taste. The only obvious problem with this Mate is it being unsmoked. So if you are looking to buy that traditional tasting Mate, look elsewhere. And another problem, perhaps, is a simple issue of it not being aged long enough? I don't know. I've heard that two years is the ideal length of time, but really don't know much about the subject of aging Mate. Anyways, I looked on the website for any information on how long it is aged but found nothing.<br /><br />As for recommendations on other Mate, and really I suggest finding another brand, here are some brands worth looking into; Titrayju (highly recommended), Roapipo (a personal favorite), Taragui, Cruz de Malta, Amanda, Nobleza Guacha, and Rosamante.<br /><br />Rosamante, Cruz de Malta, and Taraqui are all found on Amazon I believe. Good luck!\n",
      "First of all, the picture that Amazon has with this Organic tea is not the right picture. We are LONGTIME fans of the non-organic Stash Green Tea. In fact, we've probably tried more Green Teas than most people can even imagine. The non-organic Stash is the ONLY green tea that our family drinks.<br /><br />Now, about this organic. My mistake. I saw the picture and hit \"add to cart\" without reading the title. When it arrived, I thought \"oh, boy\" and quickly filled our tea jar with the bags of one of the six boxes. We eat/drink as much organic as possible, and I thought we were going to discover something new to add to our shopping list.<br /><br />What a disappointment. We've had two pots already and will discard what's left. It's much lighter in color than we're used to, which isn't normally an issue, but it does have the lack of body that comes with most light teas. It's very bitter, also. It tastes very similar to Celestial Seasonings Green Tea, in our opinion -- and that's about as poor a rating as we can give. Tastes very bitter and burnt. The \"burnt\" flavour stays in your mouth for a long time after drinking.<br /><br />So, we recommend that you try the non-organic Stash Green Tea. You won't find better. We recommend that you pass on their organic version.<br /><br />Please remember that this review is based on having used four teabags from one box. Perhaps, if we were willing to try another box, we'd change our minds . . . don't think it's going to happen . . .\n",
      "First of all, the picture that Amazon has with this Organic tea is not the right picture. We are LONGTIME fans of the non-organic Stash Green Tea. In fact, we've probably tried more Green Teas than most people can even imagine. The non-organic Stash is the ONLY green tea that our family drinks.<br /><br />Now, about this organic. My mistake. I saw the picture and hit \"add to cart\" without reading the title. When it arrived, I thought \"oh, boy\" and quickly filled our tea jar with the bags of one of the six boxes. We eat/drink as much organic as possible, and I thought we were going to discover something new to add to our shopping list.<br /><br />What a disappointment. We've had two pots already and will discard what's left. It's much lighter in color than we're used to, which isn't normally an issue, but it does have the lack of body that comes with most light teas. It's very bitter, also. It tastes very similar to Celestial Seasonings Green Tea, in our opinion -- and that's about as poor a rating as we can give. Tastes very bitter and burnt. The \"burnt\" flavour stays in your mouth for a long time after drinking.<br /><br />So, we recommend that you try the non-organic Stash Green Tea. You won't find better. We recommend that you pass on their organic version.<br /><br />Please remember that this review is based on having used four teabags from one box. Perhaps, if we were willing to try another box, we'd change our minds . . . don't think it's going to happen . . .\n",
      "First of all, the picture that Amazon has with this Organic tea is not the right picture. We are LONGTIME fans of the non-organic Stash Green Tea. In fact, we've probably tried more Green Teas than most people can even imagine. The non-organic Stash is the ONLY green tea that our family drinks.<br /><br />Now, about this organic. My mistake. I saw the picture and hit \"add to cart\" without reading the title. When it arrived, I thought \"oh, boy\" and quickly filled our tea jar with the bags of one of the six boxes. We eat/drink as much organic as possible, and I thought we were going to discover something new to add to our shopping list.<br /><br />What a disappointment. We've had two pots already and will discard what's left. It's much lighter in color than we're used to, which isn't normally an issue, but it does have the lack of body that comes with most light teas. It's very bitter, also. It tastes very similar to Celestial Seasonings Green Tea, in our opinion -- and that's about as poor a rating as we can give. Tastes very bitter and burnt. The \"burnt\" flavour stays in your mouth for a long time after drinking.<br /><br />So, we recommend that you try the non-organic Stash Green Tea. You won't find better. We recommend that you pass on their organic version.<br /><br />Please remember that this review is based on having used four teabags from one box. Perhaps, if we were willing to try another box, we'd change our minds . . . don't think it's going to happen . . .\n",
      "Topic 4:\n",
      "energy gum chews hair xylitol greenies hour shampoo trap flowers\n",
      "\n",
      "Are you supposed to avoid sugars if you have a urinary tract infection?\n",
      "Are you supposed to avoid sugars if you have a urinary tract infection?\n",
      "Are you supposed to avoid sugars if you have a urinary tract infection?\n",
      "I ordered it for healing purposes and it has no energy in that direction so I have one pound of useless cinnamon\n"
     ]
    }
   ],
   "source": [
    "print \"\\n\\nLDA Topics \\n\\n\"\n",
    "display_topics(lda_H, lda_W, tf_feature_names, documents, no_top_words, no_top_documents)\n"
   ]
  },
  {
   "cell_type": "code",
   "execution_count": 48,
   "metadata": {},
   "outputs": [
    {
     "name": "stdout",
     "output_type": "stream",
     "text": [
      "\n",
      "\n",
      "LSI Topics \n",
      "\n",
      "\n",
      "Topic 0:\n",
      "br like food product just taste good flavor coffee really\n",
      "\n",
      "The taste of SodaStream diet cola does not match that of mainstream brands.  This becomes especially noticeable for frequent drinkers of Diet Coke or Diet Pepsi.  Yet that isn't the main problem with the SodaStream offering.  The truth is simply that consumers are paying way too much for C02 refills -- sixteen times (16x) too much.<br /><br />While the general idea of at-home carbonation is solid, consumers should understand that they are grossly overpaying for SodaStream carbon dioxide refills. In fact, the prices charged are sixteen times (16x) wholesale costs or many, many times more expensive than the prices a restaurant would pay. In Europe, frugal consumers are aware of such markups and actually purchase their own restaurant-sized CO2 refills. In the US, we aren't so frugal.<br /><br />Other than the outrageous costs for the CO2 refills, there are other issues with the SodaStream Fountain Jet. One is the construction quality is quite low with very thin molded plastic and little weight. Additionally, the taste of generic soda flavors do not match that of the brand name products.<br /><br />Below is the calculated cost per two liter for the output of SodaStream soda. This includes the cost of the consumables AND the equipment costs. I have used very generous assumptions, including a low discount rate (i.e. cost of money).<br /><br />Transportation costs were not factored because 1) purchases of typical groceries should more or less overlap with soft drink purchases 2) grocery delivery has long been available in many areas 3) most people live closer to a grocery store than to a home furnishings store (I walk 100 ft. for groceries and drive one mile for BB&B) 4) the reverse logistics for the CO2 refills is an extra expense for the retailer that has to be factored into its profit margin and will ultimately be borne by the consumer.<br /><br />One of the reasons Bed Bath & Beyond, Macy's and Crate and Barrel choose to carry SodaStream is that they want the consumer to make MORE FREQUENT trips to their establishments for consumables. Instead of going to such establishments once every 3 to 6 months, customers will now visit once every 1 to 2 months. That makes an enormous difference for generating impulse purchases at such retailers. One could argue then that transportation costs could increase for the individual consumer.<br /><br />Total Costs = $1.73 per Two Liter -- More Expensive Than Retail<br /><br />*Concentrate<br />Flavor cost bottle of concentrate $4.99<br />Liters of product per container 12<br />Flavor/l $0.42<br /><br />*Carbonator<br />Volume of CO2 130<br />Cost of CO2 per refill (130 liters) 29.99<br />CO2 cost per liter $0.23<br /><br />*Sodastream Equipment Costs - Amortization Per Liter<br />Equipment cost $89.00<br />Equipment life (years) 5<br />Discount rate (cost of money) 8%<br />Liters per month 10.00<br />Monthly amortized cost $1.80<br />Cost of equipment per liter $0.18<br /><br />*Water Cost with Brita Filtration<br />Municipal water costs per liter in US $0.0004<br />Brita filter three pack (454 liters of water output) $16.95<br />Brita cost per liter $0.0373<br />Water and filter costs per liter $0.0377<br />(assumes you already own Brita Pitcher so no equipment costs, just incremental filtration)<br /><br />***TOTAL COSTS PER TWO LITER = (Flavor + CO2 + Equipment + Filtered Water) * 2<br />SodaStream Total Cost Per Two Liter = $1.73<br /><br />Without filtered water:<br />SodaStream Total Cost Per Two Liter = $1.65<br /><br />*****What does CO2 Really Cost????<br /><br />THE MATH BELOW IS WHAT SODASTREAM DOESN'T WANT THE CONSUMER TO KNOW<br /><br />*Restaurant Carbonation (note distributor prices, so there is still a distributor profit)<br />weight of CO2 contents of large restaurant CO2 tank: 50 lbs<br />weight in grams: 22,680 grams of CO2<br />cost to refill - Summer 2011: $35<br /><br />CO2 grams/liter of carbonated water: 7 grams<br /><br />*Efficiency of Restaurant CO2 Carbonation<br />losses: 10%<br />available CO2 in tank (residual is required for pressure): 85%<br />net accessible CO2 of total: 77%<br />usable grams of CO2: 17,350 grams<br /><br />*Output<br />carbonated liters of water: 2,479<br />cost per liter in USD$: $0.014<br /><br />*SodaStream Output<br />SodaStream Refill: 130 liters (quoted end product)<br />Cost per refill: $30.00<br />cost per SodaStream carbonated water: $0.231<br /><br />*SodaStream Markup Economics<br />ratio of SodaStream to Restaurant prices: 16.3x<br />SodaStream inflation price over restaurant pricing: 1534%<br />math: [y/x-x] to give increase over base case restaurant pricing<br /><br />This is an incredible 1500% markup<br /><br />Pros<br />Saves plastic<br />Allows flexible mixture of flavors<br /><br />Cons<br />Cost of output is not compelling<br />Grossly inflated CO2 refill costs<br />Another store trip required for refills separate from grocery store visit<br /><br />***Disclaimer: I am an investor who has used the product multiple times. At the time of this review, I did NOT have an investment in SodaStream either short or long. In the past, I have both owned the stock and shorted it (bet against it). I may be on either side of the trade by the time you read this -- I am not very sentimental.\n",
      "I bought these one day when I was craving a bagel, wanted something with whole grain, and I was, well, being lazy. I really wanted a bagel but I didn't feel like going to a bagel shop. I was already in the grocery store, walking through the bread isle, so it was an impulse buy pure and simple. In short, I was extremely disappointed. For my full review, see below.<br /><br />I have to think the only reasons anyone would give this product a good rating is either because they've never eaten a real bagel or they're in denial and are allowing themselves to think it's good because they're so desperate for a way to eat what they think is a bagel and still feel like they're eating healthy. Well, it's not a \"real\" bagel (not even close) and it's not even healthy. Why do I say this?<br /><br />~<br /><br />NOT A REAL BAGEL:<br /><br />The only similarities between Thomas' Bagels (or Bagel Thins) and real bagels is the round shape and the whole in the middle. Other than that these so-called bagels are nothing more than fluffy bread shaped like  a bagel. Upon close inspection and taste-testing it looks, tastes, and feels just like regular bread. It's extremely bland, even with the \"whole wheat\" it supposedly includes. I'm from an area of the country that makes REAL BAGELS (NYC and surrounding area) so I know what I speak of.<br /><br />True, traditional bagels should not be whole wheat, but I have eaten a whole wheat bagel made in a real bagel shop and these aren't even close to a real bagel. I've been eating true bagels made by hand for over 50 years. When you compare these things to real bagels it's almost a joke to call these things bagels.<br /><br />Bagels should be dense, chewy, and stiff. This is not. This is a limp, soft piece of floppy fluffy bread. I could ball one up in my hand like Wonder bread, that's how fluffy and soft they are. And bagels should be crispy when toasted. This is not, unless you over toast it to the point it's nearly burnt.<br /><br />~<br /><br />NOT HEALTHY:<br /><br />One of the reasons I bought these specific \"bagels\" was for the whole wheat. I thought it would be healthier than a regular bagel. WRONG! It contains stuff in it that I've never even heard of before and I'm sure are not \"healthy\" or wholesome ingredients. Like datem - what the heck is DATEM? It also contains stuff that shouldn't be in a bagel.<br /><br />~<br /><br />INGREDIENTS:<br /><br />Basic bagels should contain wheat flour, salt, water, and yeast leavening. That's it!<br /><br />REAL BAGELS CONTAIN:<br />Wheat Flour<br />Salt<br />Water<br />Yeast<br /><br />THOMAS' CONTAINS:<br />Wheat Flour<br />Water<br />Sugar<br />Wheat Gluten<br />Flaked Wheat<br />Cellulouse Fiber<br />Cornmeal<br />Yeast<br />Wheat Bran<br />Salt<br />Preservatives (calcium propionate, sorbic acid)<br />Monoglycerides<br />Guar Gum<br />Sodium Stearoyl Lactylate<br />Datem<br />Soybean Oil<br />Soy Flour<br /><br />Now, I do realize some of the non-traditional ingredients found in these \"bagels\" are there because they are supposed to be a \"whole wheat\" product (traditional bagels are not whole wheat), but that does not excuse the Cornmeal, Guar Gum, Datem, Soy Flour, Soy Oil, Sodium Stearoyl Lactylate, Monoglycerides, Calcium Propionate, and Sorbic Acid.<br /><br />~<br /><br />BOTTOM LINE:<br /><br />If you want a bagel go to a bagel shop. If you live in an area where they are not made (or not made correctly) I suggest you make friends with someone in NY and ask them to send you a box of bagels. Even if you freeze them and eat them later they'll taste 100% better than any grocery store bagel I'm sure.<br /><br />I'll most likely get myself some real bagels from a real bagel shop in the near future, and when I do I'll post photos or a video that shows the difference - which will tell you a lot because these things are so bad you can tell just from a photo, you don't even have to taste them (although I did).\n",
      "Unfortunately most people are ill informed about vegan cats, including most veterinarians.<br /><br />Wild cats are in fact obligate carnivores. However, in domesticating the house cat and bringing it into our homes we have effectively removed the cat from its natural prey of mice, insects, birds, lizards, and other small creatures. During the past 100 years or so, as the human food industry was searching for a way to salvage and use all the waste materials from its processing lines, it came upon a wonderful solution. Lets boil it all up and dry it out and add it to the food we make for cats and dogs. As a result, the vast majority of commercial pet foods contain what are euphemistically referred to as the four D's, dead, dying, disabled, and diseased animals, along with other quite undesirable materials. Quite frankly, if you are feeding this junk to your pets, you are effectively poisoning them. We are seeing diseases in pets today that we have never seen before because of the wide variety of contaminated ingredients that are finding their way into the food we feed our companion animals. You know \"garbage in, garbage out!\"<br /><br />Now the issue here is not meat; it is about providing all the essential and non-essential amino acids (the building blocks of proteins) and vitamins and minerals that are bio-available to the particularly unique physiology of felids (cats). The quality, quantity, and availability of these nutrients can come from any source, and for those of us who are vegan, the best source is vegetable based.<br /><br />Tens of thousands, perhaps hundreds of thousands, of cats around the world live quite well on one of the several available vegan cat foods that are recognized as nutritionally complete. I personally have had 3 1/2 years of experience in feeding the Evolution kibble product that this review is addressing. It is a high quality product that is AAFCO certified as nutritionally complete for all life stages in cats. Not only is this product safe to feed your cat, but if you follow the recommended feeding procedures, you will find many benefits to both your cat's health and your wallet.<br /><br />If you desire more detailed information, I invite you to do a google search on vegan cats. I would put my web page information about this issue on this review, but it is against the policy for writing reviews on Amazon.<br /><br />Just for everyone's edification, I have researched this issue for well over 500 hours, read hundreds of technical papers, visited hundreds of web sites, and have made a commitment to specialize in feline nutrition as part of my Veterinary Technician studies. I probably know more about feline nutrition than 95% of all the vets in the world.<br /><br />My feline son is a vegan and will remain so because I am absolutely certain that his quality of life will be enhanced by his diet and that this choice will not be a detriment to his health.<br /><br />-------------------------------------<br /><br />Since writing this review in 2006 I have had a change in position about this particular product after 4 years of personal experience. The manufacturer of the Evolution foods was changing the formulation of the food on a regular basis and during that time I found that the Feline Kibble was not able to maintain the pH level in the urine of cats that was promised on the label and in their literature. At least that wasn't the case with my former feline son and my current feline son. As a result I can no longer recommend the use of Evolution Feline Kibble for male cats. Since urinary issues are different between male and female cats the Evolution Kibble MAY be satisfactory for feeding to female cats. Nutritionally the Evolution foods seem to be fine for nutrients but not necessarily adequate for maintaining the proper pH levels to avoid urinary issues for male cats.<br /><br />Consequently I am now recommending male cats use the Vegecat pH diet provided by Harbingers of a New Age. My son has been eating this food supplement in a specially prepared gluten formulation I created called a vegan feline roast. It is 62% protein, 33% fat, and 5% carbs and has a moisture content of about 60%. Almost a perfect combination of ingredients to mimic natural prey. My son finds this product to be very palatable and his urinary pH has been consistently at 6.4 for the three years that we have been producing and consuming this food. The drawback is that it takes about a half hour every 3 days to make the food and the cost is equivalent to a premium cat food. But on the other hand my son is trim, full of energy at 6 1/2 years, enjoys great health, no longer has urinary tract issues, and no other animal had to die in order to provide my son with life-giving nutrition.<br /><br />UPDATE:  4/17/11<br /><br />For those of you who are still considering feeding the Evolution kibble, please heed this warning.  Kibble is only 10% moisture content.  If you follow the directions given by the manufacturer to soak the kibble prior to feeding, you will end up with a mushy material that your cats may or may not like.  The danger in feeding the dry kibble is that your cat will eventually become so dehydrated that no amount of drinking will be sufficient to avoid hydration related illnesses.  Cats do not naturally drink water, they almost exclusively obtain all of their hydration from the food that they consume.  If they are eating something that only has 10% moisture, upon consumption the moisture that is contained within the digestive tract of the cat will be sucked into the food in order to give it enough fluidity to pass through the intestines.  This will often lead to gastro-intestinal diseases. Your cat will be constantly drinking water to make up for that deficiency, but no amount of drinking is enough to avoid the dehydration problem.  So please remember that the best source of moisture for your cat's health, comes from a wet food diet that is around 70% moisture.<br /><br />In October 2008 I wrote an article about vegan cats published in VegFamily magazine.  This information and more will help those who are interested in a vegan diet for cats understand more of the issues.<br /><br />UPDATE:  8/27/12<br /><br />My vegan feline son is now 8 years old and still maintains an extremely healthy life with absolutely no issues of any kind.  He has been using our Vegan Feline Roast product for the past 5 and 1/2 years and his lab tests indicate that his nutritional needs are being adequately met by his vegan diet.<br /><br />For those who are sceptical about a vegan diet for house cats, there is ample evidence that several vegan products are available to satisfy the nutritional needs of cats.  I am still not convinced that Evolution is a good product to feed based on my past history.  There are thousands of customers that seem to successfully feed the Evolution product; however, I believe that our Vegan Feline Roast Mix is a superior product that will yield far better results over the lifetime of feeding any house cat.  Our product is based on the Vegecat phi supplement offered by HOANA, which I have found to be an excellent product for hitting all of the missing nutritional elements that would otherwise come from meat.  The Vegecat product line has been successfully feeding thousands of cats over a 27 year period and we highly recommend the use of Vegecat for those people who wish to formulate their own vegan cat food.  The only difference between our food product and the HOANA vegecat product is that our product is a ready-to-make mix that has been specifically formulated for a high protein/high fat food that is easy to make and highly palatable to the vast majority of cats.<br /><br />I would caution people feeding the Evolution kibble to reconsider doing so.  The problem with kibble in general, not just the Evolution product, is the 10% moisture content of the food.  Cats that eat kibble exclusively will invariably become dehydrated and will not be able to consume enough water by drinking to avoid the condition.  Evolution kibble that is soaked with water prior to feeding, as recommended by the manufacturer, is an attempt to avoid this issue.  However, by soaking the product you will reduce the palatability quality to most cats and will make it harder for them to continue to want to eat the product.  This is a strategy to fix a problem that is inherent to the product itself.<br /><br />As time goes on, I become more convinced that using our Vegan Feline Roast product may in fact be a cure for diseases in cats like FLUTD and diabetes.  At some point in time I would like to perform a long term double blind scientifically significant study to support my empirical observations.  When my son started out 7 years ago eating Evolution kibble, he quickly developed a FLUTD condition, after 18 months of use, that cost $1500 at the vet to fix.  The last 5 1/2 years of eating nothing but our Vegan Feline Roast he has remained FLUTD free and maintains excellent health.  Just the savings alone from avoiding annual teeth cleaning has more than paid for itself in the use of our product.<br /><br />So my bottom line is to recommend not using Evolution Kibble in favor of either the HOANA vegecat supplement or our Vegan Feline Roast Mix.\n",
      "Unfortunately most people are ill informed about vegan cats, including most veterinarians.<br /><br />Wild cats are in fact obligate carnivores. However, in domesticating the house cat and bringing it into our homes we have effectively removed the cat from its natural prey of mice, insects, birds, lizards, and other small creatures. During the past 100 years or so, as the human food industry was searching for a way to salvage and use all the waste materials from its processing lines, it came upon a wonderful solution. Lets boil it all up and dry it out and add it to the food we make for cats and dogs. As a result, the vast majority of commercial pet foods contain what are euphemistically referred to as the four D's, dead, dying, disabled, and diseased animals, along with other quite undesirable materials. Quite frankly, if you are feeding this junk to your pets, you are effectively poisoning them. We are seeing diseases in pets today that we have never seen before because of the wide variety of contaminated ingredients that are finding their way into the food we feed our companion animals. You know \"garbage in, garbage out!\"<br /><br />Now the issue here is not meat; it is about providing all the essential and non-essential amino acids (the building blocks of proteins) and vitamins and minerals that are bio-available to the particularly unique physiology of felids (cats). The quality, quantity, and availability of these nutrients can come from any source, and for those of us who are vegan, the best source is vegetable based.<br /><br />Tens of thousands, perhaps hundreds of thousands, of cats around the world live quite well on one of the several available vegan cat foods that are recognized as nutritionally complete. I personally have had 3 1/2 years of experience in feeding the Evolution kibble product that this review is addressing. It is a high quality product that is AAFCO certified as nutritionally complete for all life stages in cats. Not only is this product safe to feed your cat, but if you follow the recommended feeding procedures, you will find many benefits to both your cat's health and your wallet.<br /><br />If you desire more detailed information, I invite you to do a google search on vegan cats. I would put my web page information about this issue on this review, but it is against the policy for writing reviews on Amazon.<br /><br />Just for everyone's edification, I have researched this issue for well over 500 hours, read hundreds of technical papers, visited hundreds of web sites, and have made a commitment to specialize in feline nutrition as part of my Veterinary Technician studies. I probably know more about feline nutrition than 95% of all the vets in the world.<br /><br />My feline son is a vegan and will remain so because I am absolutely certain that his quality of life will be enhanced by his diet and that this choice will not be a detriment to his health.<br /><br />-------------------------------------<br /><br />Since writing this review in 2006 I have had a change in position about this particular product after 4 years of personal experience. The manufacturer of the Evolution foods was changing the formulation of the food on a regular basis and during that time I found that the Feline Kibble was not able to maintain the pH level in the urine of cats that was promised on the label and in their literature. At least that wasn't the case with my former feline son and my current feline son. As a result I can no longer recommend the use of Evolution Feline Kibble for male cats. Since urinary issues are different between male and female cats the Evolution Kibble MAY be satisfactory for feeding to female cats. Nutritionally the Evolution foods seem to be fine for nutrients but not necessarily adequate for maintaining the proper pH levels to avoid urinary issues for male cats.<br /><br />Consequently I am now recommending male cats use the Vegecat pH diet provided by Harbingers of a New Age. My son has been eating this food supplement in a specially prepared gluten formulation I created called a vegan feline roast. It is 62% protein, 33% fat, and 5% carbs and has a moisture content of about 60%. Almost a perfect combination of ingredients to mimic natural prey. My son finds this product to be very palatable and his urinary pH has been consistently at 6.4 for the three years that we have been producing and consuming this food. The drawback is that it takes about a half hour every 3 days to make the food and the cost is equivalent to a premium cat food. But on the other hand my son is trim, full of energy at 6 1/2 years, enjoys great health, no longer has urinary tract issues, and no other animal had to die in order to provide my son with life-giving nutrition.<br /><br />UPDATE:  4/17/11<br /><br />For those of you who are still considering feeding the Evolution kibble, please heed this warning.  Kibble is only 10% moisture content.  If you follow the directions given by the manufacturer to soak the kibble prior to feeding, you will end up with a mushy material that your cats may or may not like.  The danger in feeding the dry kibble is that your cat will eventually become so dehydrated that no amount of drinking will be sufficient to avoid hydration related illnesses.  Cats do not naturally drink water, they almost exclusively obtain all of their hydration from the food that they consume.  If they are eating something that only has 10% moisture, upon consumption the moisture that is contained within the digestive tract of the cat will be sucked into the food in order to give it enough fluidity to pass through the intestines.  This will often lead to gastro-intestinal diseases. Your cat will be constantly drinking water to make up for that deficiency, but no amount of drinking is enough to avoid the dehydration problem.  So please remember that the best source of moisture for your cat's health, comes from a wet food diet that is around 70% moisture.<br /><br />In October 2008 I wrote an article about vegan cats published in VegFamily magazine.  This information and more will help those who are interested in a vegan diet for cats understand more of the issues.<br /><br />UPDATE:  8/27/12<br /><br />My vegan feline son is now 8 years old and still maintains an extremely healthy life with absolutely no issues of any kind.  He has been using our Vegan Feline Roast product for the past 5 and 1/2 years and his lab tests indicate that his nutritional needs are being adequately met by his vegan diet.<br /><br />For those who are sceptical about a vegan diet for house cats, there is ample evidence that several vegan products are available to satisfy the nutritional needs of cats.  I am still not convinced that Evolution is a good product to feed based on my past history.  There are thousands of customers that seem to successfully feed the Evolution product; however, I believe that our Vegan Feline Roast Mix is a superior product that will yield far better results over the lifetime of feeding any house cat.  Our product is based on the Vegecat phi supplement offered by HOANA, which I have found to be an excellent product for hitting all of the missing nutritional elements that would otherwise come from meat.  The Vegecat product line has been successfully feeding thousands of cats over a 27 year period and we highly recommend the use of Vegecat for those people who wish to formulate their own vegan cat food.  The only difference between our food product and the HOANA vegecat product is that our product is a ready-to-make mix that has been specifically formulated for a high protein/high fat food that is easy to make and highly palatable to the vast majority of cats.<br /><br />I would caution people feeding the Evolution kibble to reconsider doing so.  The problem with kibble in general, not just the Evolution product, is the 10% moisture content of the food.  Cats that eat kibble exclusively will invariably become dehydrated and will not be able to consume enough water by drinking to avoid the condition.  Evolution kibble that is soaked with water prior to feeding, as recommended by the manufacturer, is an attempt to avoid this issue.  However, by soaking the product you will reduce the palatability quality to most cats and will make it harder for them to continue to want to eat the product.  This is a strategy to fix a problem that is inherent to the product itself.<br /><br />As time goes on, I become more convinced that using our Vegan Feline Roast product may in fact be a cure for diseases in cats like FLUTD and diabetes.  At some point in time I would like to perform a long term double blind scientifically significant study to support my empirical observations.  When my son started out 7 years ago eating Evolution kibble, he quickly developed a FLUTD condition, after 18 months of use, that cost $1500 at the vet to fix.  The last 5 1/2 years of eating nothing but our Vegan Feline Roast he has remained FLUTD free and maintains excellent health.  Just the savings alone from avoiding annual teeth cleaning has more than paid for itself in the use of our product.<br /><br />So my bottom line is to recommend not using Evolution Kibble in favor of either the HOANA vegecat supplement or our Vegan Feline Roast Mix.\n",
      "Topic 1:\n",
      "br co2 sodastream magnesium liter costs bagel cost bagels equipment\n",
      "\n",
      "The taste of SodaStream diet cola does not match that of mainstream brands.  This becomes especially noticeable for frequent drinkers of Diet Coke or Diet Pepsi.  Yet that isn't the main problem with the SodaStream offering.  The truth is simply that consumers are paying way too much for C02 refills -- sixteen times (16x) too much.<br /><br />While the general idea of at-home carbonation is solid, consumers should understand that they are grossly overpaying for SodaStream carbon dioxide refills. In fact, the prices charged are sixteen times (16x) wholesale costs or many, many times more expensive than the prices a restaurant would pay. In Europe, frugal consumers are aware of such markups and actually purchase their own restaurant-sized CO2 refills. In the US, we aren't so frugal.<br /><br />Other than the outrageous costs for the CO2 refills, there are other issues with the SodaStream Fountain Jet. One is the construction quality is quite low with very thin molded plastic and little weight. Additionally, the taste of generic soda flavors do not match that of the brand name products.<br /><br />Below is the calculated cost per two liter for the output of SodaStream soda. This includes the cost of the consumables AND the equipment costs. I have used very generous assumptions, including a low discount rate (i.e. cost of money).<br /><br />Transportation costs were not factored because 1) purchases of typical groceries should more or less overlap with soft drink purchases 2) grocery delivery has long been available in many areas 3) most people live closer to a grocery store than to a home furnishings store (I walk 100 ft. for groceries and drive one mile for BB&B) 4) the reverse logistics for the CO2 refills is an extra expense for the retailer that has to be factored into its profit margin and will ultimately be borne by the consumer.<br /><br />One of the reasons Bed Bath & Beyond, Macy's and Crate and Barrel choose to carry SodaStream is that they want the consumer to make MORE FREQUENT trips to their establishments for consumables. Instead of going to such establishments once every 3 to 6 months, customers will now visit once every 1 to 2 months. That makes an enormous difference for generating impulse purchases at such retailers. One could argue then that transportation costs could increase for the individual consumer.<br /><br />Total Costs = $1.73 per Two Liter -- More Expensive Than Retail<br /><br />*Concentrate<br />Flavor cost bottle of concentrate $4.99<br />Liters of product per container 12<br />Flavor/l $0.42<br /><br />*Carbonator<br />Volume of CO2 130<br />Cost of CO2 per refill (130 liters) 29.99<br />CO2 cost per liter $0.23<br /><br />*Sodastream Equipment Costs - Amortization Per Liter<br />Equipment cost $89.00<br />Equipment life (years) 5<br />Discount rate (cost of money) 8%<br />Liters per month 10.00<br />Monthly amortized cost $1.80<br />Cost of equipment per liter $0.18<br /><br />*Water Cost with Brita Filtration<br />Municipal water costs per liter in US $0.0004<br />Brita filter three pack (454 liters of water output) $16.95<br />Brita cost per liter $0.0373<br />Water and filter costs per liter $0.0377<br />(assumes you already own Brita Pitcher so no equipment costs, just incremental filtration)<br /><br />***TOTAL COSTS PER TWO LITER = (Flavor + CO2 + Equipment + Filtered Water) * 2<br />SodaStream Total Cost Per Two Liter = $1.73<br /><br />Without filtered water:<br />SodaStream Total Cost Per Two Liter = $1.65<br /><br />*****What does CO2 Really Cost????<br /><br />THE MATH BELOW IS WHAT SODASTREAM DOESN'T WANT THE CONSUMER TO KNOW<br /><br />*Restaurant Carbonation (note distributor prices, so there is still a distributor profit)<br />weight of CO2 contents of large restaurant CO2 tank: 50 lbs<br />weight in grams: 22,680 grams of CO2<br />cost to refill - Summer 2011: $35<br /><br />CO2 grams/liter of carbonated water: 7 grams<br /><br />*Efficiency of Restaurant CO2 Carbonation<br />losses: 10%<br />available CO2 in tank (residual is required for pressure): 85%<br />net accessible CO2 of total: 77%<br />usable grams of CO2: 17,350 grams<br /><br />*Output<br />carbonated liters of water: 2,479<br />cost per liter in USD$: $0.014<br /><br />*SodaStream Output<br />SodaStream Refill: 130 liters (quoted end product)<br />Cost per refill: $30.00<br />cost per SodaStream carbonated water: $0.231<br /><br />*SodaStream Markup Economics<br />ratio of SodaStream to Restaurant prices: 16.3x<br />SodaStream inflation price over restaurant pricing: 1534%<br />math: [y/x-x] to give increase over base case restaurant pricing<br /><br />This is an incredible 1500% markup<br /><br />Pros<br />Saves plastic<br />Allows flexible mixture of flavors<br /><br />Cons<br />Cost of output is not compelling<br />Grossly inflated CO2 refill costs<br />Another store trip required for refills separate from grocery store visit<br /><br />***Disclaimer: I am an investor who has used the product multiple times. At the time of this review, I did NOT have an investment in SodaStream either short or long. In the past, I have both owned the stock and shorted it (bet against it). I may be on either side of the trade by the time you read this -- I am not very sentimental.\n",
      "I bought these one day when I was craving a bagel, wanted something with whole grain, and I was, well, being lazy. I really wanted a bagel but I didn't feel like going to a bagel shop. I was already in the grocery store, walking through the bread isle, so it was an impulse buy pure and simple. In short, I was extremely disappointed. For my full review, see below.<br /><br />I have to think the only reasons anyone would give this product a good rating is either because they've never eaten a real bagel or they're in denial and are allowing themselves to think it's good because they're so desperate for a way to eat what they think is a bagel and still feel like they're eating healthy. Well, it's not a \"real\" bagel (not even close) and it's not even healthy. Why do I say this?<br /><br />~<br /><br />NOT A REAL BAGEL:<br /><br />The only similarities between Thomas' Bagels (or Bagel Thins) and real bagels is the round shape and the whole in the middle. Other than that these so-called bagels are nothing more than fluffy bread shaped like  a bagel. Upon close inspection and taste-testing it looks, tastes, and feels just like regular bread. It's extremely bland, even with the \"whole wheat\" it supposedly includes. I'm from an area of the country that makes REAL BAGELS (NYC and surrounding area) so I know what I speak of.<br /><br />True, traditional bagels should not be whole wheat, but I have eaten a whole wheat bagel made in a real bagel shop and these aren't even close to a real bagel. I've been eating true bagels made by hand for over 50 years. When you compare these things to real bagels it's almost a joke to call these things bagels.<br /><br />Bagels should be dense, chewy, and stiff. This is not. This is a limp, soft piece of floppy fluffy bread. I could ball one up in my hand like Wonder bread, that's how fluffy and soft they are. And bagels should be crispy when toasted. This is not, unless you over toast it to the point it's nearly burnt.<br /><br />~<br /><br />NOT HEALTHY:<br /><br />One of the reasons I bought these specific \"bagels\" was for the whole wheat. I thought it would be healthier than a regular bagel. WRONG! It contains stuff in it that I've never even heard of before and I'm sure are not \"healthy\" or wholesome ingredients. Like datem - what the heck is DATEM? It also contains stuff that shouldn't be in a bagel.<br /><br />~<br /><br />INGREDIENTS:<br /><br />Basic bagels should contain wheat flour, salt, water, and yeast leavening. That's it!<br /><br />REAL BAGELS CONTAIN:<br />Wheat Flour<br />Salt<br />Water<br />Yeast<br /><br />THOMAS' CONTAINS:<br />Wheat Flour<br />Water<br />Sugar<br />Wheat Gluten<br />Flaked Wheat<br />Cellulouse Fiber<br />Cornmeal<br />Yeast<br />Wheat Bran<br />Salt<br />Preservatives (calcium propionate, sorbic acid)<br />Monoglycerides<br />Guar Gum<br />Sodium Stearoyl Lactylate<br />Datem<br />Soybean Oil<br />Soy Flour<br /><br />Now, I do realize some of the non-traditional ingredients found in these \"bagels\" are there because they are supposed to be a \"whole wheat\" product (traditional bagels are not whole wheat), but that does not excuse the Cornmeal, Guar Gum, Datem, Soy Flour, Soy Oil, Sodium Stearoyl Lactylate, Monoglycerides, Calcium Propionate, and Sorbic Acid.<br /><br />~<br /><br />BOTTOM LINE:<br /><br />If you want a bagel go to a bagel shop. If you live in an area where they are not made (or not made correctly) I suggest you make friends with someone in NY and ask them to send you a box of bagels. Even if you freeze them and eat them later they'll taste 100% better than any grocery store bagel I'm sure.<br /><br />I'll most likely get myself some real bagels from a real bagel shop in the near future, and when I do I'll post photos or a video that shows the difference - which will tell you a lot because these things are so bad you can tell just from a photo, you don't even have to taste them (although I did).\n",
      "I saw the advertisements for these Kashi Bars on the back of my cereal boxes and knew I had to try them.<br /><br />I decided to buy one of each flavors at my local grocery store before I buy a pack of 12 here on amazon. In my opinion, the Chocolate Turtle ones are the best tasting and closest to an actually candy bar.<br /><br />The toasted pecans on the outside are what makes this bar my favorite. And its good for you health wise!! 6g of Fiber and 12g of Protein.<br /><br />Total Fat = 5g = 8%<br /><br />Sat. Fat = 1.5g = 8%<br /><br />Trans Fat = 0g<br /><br />Cholesterol = 0mg<br /><br />Sodium = 200mg = 8%<br /><br />Potassium = 60mg = 2%<br /><br />Total Carb. = 28g = 9%<br /><br />Fiber = 6g = 24%<br /><br />Soluble Fiber 3g<br /><br />Insoluble Fiber 3g<br /><br />Sugars 14g<br /><br />Protein = 12g = 20%<br /><br />190 Calories<br /><br />Everything based on a 2000 Calorie Diet, just so you guys know. Finally, no High Fructose Corn Syrup or Partially Hydrogenated Oils. Can't go wrong!!!!  My local grocery store charges $1.79 for each of these, so great deal here.<br /><br />Hope that helps and enjoy!!!!!\n",
      "I used this gelatin to make marshmallows. When it was hot it smelled VERY bad. I called the company and they said, \"the beef gelatin has always smelled more than the pork.\" The marshmallows came out very good, but the smell was so bad I remember it and it turned my stomach. It does not smell in the package at room temperature.<br /><br />Addition: After wondering why boiled cartilage would smell so bad, I looked at the FDA website. The production of gelatin seems to be completely un-inspected. The FDA has no jurisdiction over post food production items like this. The FDA says that this industry uses dropped cows and other items designated as not suitable for food.<br /><br />From the FDA:<br /><br />\"Domestically, generally human food that<br />contains meat only in a relatively small proportion or that<br />historically has not been considered by consumers to be products of the<br />meat food industry (e.g., soup stock, beef flavors and extracts,<br />gelatin), is not produced under USDA inspection (see definition of<br />``meat food product'' in 21 U.S.C. 601(j)) and may be physically<br />available for use in FDA-regulated human food and cosmetics. Further,<br />even when excluded from human food produced in USDA-inspected<br />establishments, prohibited cattle materials may leave the<br />establishments for inedible rendering or destruction. These materials,<br />which previously have not been explicitly prohibited in human food and<br />cosmetics by FDA, might then be used in FDA-regulated human food or<br />cosmetics. For example, prohibited cattle materials leaving a USDA-<br />inspected facility might not be denatured sufficiently to preclude<br />their use in FDA-regulated human food and cosmetics.<br />  Under the Food Safety and Inspection Services' (FSIS') rule, SRMs,<br />small intestine from all cattle, and material from nonambulatory<br />disabled cattle must be designated as inedible. However, certain<br />products, such as gelatin and collagen (which are both covered by the<br />provisions of this rule) used in FDA-regulated human food and<br />cosmetics, have traditionally been produced from cattle material deemed<br />inedible by the USDA. Therefore, such a designation by the USDA may not<br />be enough to preclude use of prohibited cattle materials in FDA-<br />regulated products without additional regulation by FDA. Further, some<br />cattle are not slaughtered under continuous USDA inspection (e.g., some<br />are sent directly to rendering). Cattle material from these animals,<br />such as brains or bones which include SRMs, could end up as starting<br />material for human food, such as meat extracts or gelatin,<br />respectively. Furthermore, if prohibited cattle materials were used in<br />FDA-regulated human food or cosmetics, the rule would facilitate FDA's<br />ability to use the enforcement mechanisms of the Federal Food, Drug,<br />and Cosmetic Act (the act) that apply to adulterated products (e.g.,<br />seizure) to prevent human exposure to the prohibited cattle materials.\"<br />Federal Register - 69FR 42255 July 14, 2004: Interim Final Rule -- Use of Materials Derived From Cattle in Human Food and Cosmetics<br /><br />[...]\n",
      "Topic 2:\n",
      "food cat cats eating dog eat feeding diet day feed\n",
      "\n",
      "Unfortunately most people are ill informed about vegan cats, including most veterinarians.<br /><br />Wild cats are in fact obligate carnivores. However, in domesticating the house cat and bringing it into our homes we have effectively removed the cat from its natural prey of mice, insects, birds, lizards, and other small creatures. During the past 100 years or so, as the human food industry was searching for a way to salvage and use all the waste materials from its processing lines, it came upon a wonderful solution. Lets boil it all up and dry it out and add it to the food we make for cats and dogs. As a result, the vast majority of commercial pet foods contain what are euphemistically referred to as the four D's, dead, dying, disabled, and diseased animals, along with other quite undesirable materials. Quite frankly, if you are feeding this junk to your pets, you are effectively poisoning them. We are seeing diseases in pets today that we have never seen before because of the wide variety of contaminated ingredients that are finding their way into the food we feed our companion animals. You know \"garbage in, garbage out!\"<br /><br />Now the issue here is not meat; it is about providing all the essential and non-essential amino acids (the building blocks of proteins) and vitamins and minerals that are bio-available to the particularly unique physiology of felids (cats). The quality, quantity, and availability of these nutrients can come from any source, and for those of us who are vegan, the best source is vegetable based.<br /><br />Tens of thousands, perhaps hundreds of thousands, of cats around the world live quite well on one of the several available vegan cat foods that are recognized as nutritionally complete. I personally have had 3 1/2 years of experience in feeding the Evolution kibble product that this review is addressing. It is a high quality product that is AAFCO certified as nutritionally complete for all life stages in cats. Not only is this product safe to feed your cat, but if you follow the recommended feeding procedures, you will find many benefits to both your cat's health and your wallet.<br /><br />If you desire more detailed information, I invite you to do a google search on vegan cats. I would put my web page information about this issue on this review, but it is against the policy for writing reviews on Amazon.<br /><br />Just for everyone's edification, I have researched this issue for well over 500 hours, read hundreds of technical papers, visited hundreds of web sites, and have made a commitment to specialize in feline nutrition as part of my Veterinary Technician studies. I probably know more about feline nutrition than 95% of all the vets in the world.<br /><br />My feline son is a vegan and will remain so because I am absolutely certain that his quality of life will be enhanced by his diet and that this choice will not be a detriment to his health.<br /><br />-------------------------------------<br /><br />Since writing this review in 2006 I have had a change in position about this particular product after 4 years of personal experience. The manufacturer of the Evolution foods was changing the formulation of the food on a regular basis and during that time I found that the Feline Kibble was not able to maintain the pH level in the urine of cats that was promised on the label and in their literature. At least that wasn't the case with my former feline son and my current feline son. As a result I can no longer recommend the use of Evolution Feline Kibble for male cats. Since urinary issues are different between male and female cats the Evolution Kibble MAY be satisfactory for feeding to female cats. Nutritionally the Evolution foods seem to be fine for nutrients but not necessarily adequate for maintaining the proper pH levels to avoid urinary issues for male cats.<br /><br />Consequently I am now recommending male cats use the Vegecat pH diet provided by Harbingers of a New Age. My son has been eating this food supplement in a specially prepared gluten formulation I created called a vegan feline roast. It is 62% protein, 33% fat, and 5% carbs and has a moisture content of about 60%. Almost a perfect combination of ingredients to mimic natural prey. My son finds this product to be very palatable and his urinary pH has been consistently at 6.4 for the three years that we have been producing and consuming this food. The drawback is that it takes about a half hour every 3 days to make the food and the cost is equivalent to a premium cat food. But on the other hand my son is trim, full of energy at 6 1/2 years, enjoys great health, no longer has urinary tract issues, and no other animal had to die in order to provide my son with life-giving nutrition.<br /><br />UPDATE:  4/17/11<br /><br />For those of you who are still considering feeding the Evolution kibble, please heed this warning.  Kibble is only 10% moisture content.  If you follow the directions given by the manufacturer to soak the kibble prior to feeding, you will end up with a mushy material that your cats may or may not like.  The danger in feeding the dry kibble is that your cat will eventually become so dehydrated that no amount of drinking will be sufficient to avoid hydration related illnesses.  Cats do not naturally drink water, they almost exclusively obtain all of their hydration from the food that they consume.  If they are eating something that only has 10% moisture, upon consumption the moisture that is contained within the digestive tract of the cat will be sucked into the food in order to give it enough fluidity to pass through the intestines.  This will often lead to gastro-intestinal diseases. Your cat will be constantly drinking water to make up for that deficiency, but no amount of drinking is enough to avoid the dehydration problem.  So please remember that the best source of moisture for your cat's health, comes from a wet food diet that is around 70% moisture.<br /><br />In October 2008 I wrote an article about vegan cats published in VegFamily magazine.  This information and more will help those who are interested in a vegan diet for cats understand more of the issues.<br /><br />UPDATE:  8/27/12<br /><br />My vegan feline son is now 8 years old and still maintains an extremely healthy life with absolutely no issues of any kind.  He has been using our Vegan Feline Roast product for the past 5 and 1/2 years and his lab tests indicate that his nutritional needs are being adequately met by his vegan diet.<br /><br />For those who are sceptical about a vegan diet for house cats, there is ample evidence that several vegan products are available to satisfy the nutritional needs of cats.  I am still not convinced that Evolution is a good product to feed based on my past history.  There are thousands of customers that seem to successfully feed the Evolution product; however, I believe that our Vegan Feline Roast Mix is a superior product that will yield far better results over the lifetime of feeding any house cat.  Our product is based on the Vegecat phi supplement offered by HOANA, which I have found to be an excellent product for hitting all of the missing nutritional elements that would otherwise come from meat.  The Vegecat product line has been successfully feeding thousands of cats over a 27 year period and we highly recommend the use of Vegecat for those people who wish to formulate their own vegan cat food.  The only difference between our food product and the HOANA vegecat product is that our product is a ready-to-make mix that has been specifically formulated for a high protein/high fat food that is easy to make and highly palatable to the vast majority of cats.<br /><br />I would caution people feeding the Evolution kibble to reconsider doing so.  The problem with kibble in general, not just the Evolution product, is the 10% moisture content of the food.  Cats that eat kibble exclusively will invariably become dehydrated and will not be able to consume enough water by drinking to avoid the condition.  Evolution kibble that is soaked with water prior to feeding, as recommended by the manufacturer, is an attempt to avoid this issue.  However, by soaking the product you will reduce the palatability quality to most cats and will make it harder for them to continue to want to eat the product.  This is a strategy to fix a problem that is inherent to the product itself.<br /><br />As time goes on, I become more convinced that using our Vegan Feline Roast product may in fact be a cure for diseases in cats like FLUTD and diabetes.  At some point in time I would like to perform a long term double blind scientifically significant study to support my empirical observations.  When my son started out 7 years ago eating Evolution kibble, he quickly developed a FLUTD condition, after 18 months of use, that cost $1500 at the vet to fix.  The last 5 1/2 years of eating nothing but our Vegan Feline Roast he has remained FLUTD free and maintains excellent health.  Just the savings alone from avoiding annual teeth cleaning has more than paid for itself in the use of our product.<br /><br />So my bottom line is to recommend not using Evolution Kibble in favor of either the HOANA vegecat supplement or our Vegan Feline Roast Mix.\n",
      "Unfortunately most people are ill informed about vegan cats, including most veterinarians.<br /><br />Wild cats are in fact obligate carnivores. However, in domesticating the house cat and bringing it into our homes we have effectively removed the cat from its natural prey of mice, insects, birds, lizards, and other small creatures. During the past 100 years or so, as the human food industry was searching for a way to salvage and use all the waste materials from its processing lines, it came upon a wonderful solution. Lets boil it all up and dry it out and add it to the food we make for cats and dogs. As a result, the vast majority of commercial pet foods contain what are euphemistically referred to as the four D's, dead, dying, disabled, and diseased animals, along with other quite undesirable materials. Quite frankly, if you are feeding this junk to your pets, you are effectively poisoning them. We are seeing diseases in pets today that we have never seen before because of the wide variety of contaminated ingredients that are finding their way into the food we feed our companion animals. You know \"garbage in, garbage out!\"<br /><br />Now the issue here is not meat; it is about providing all the essential and non-essential amino acids (the building blocks of proteins) and vitamins and minerals that are bio-available to the particularly unique physiology of felids (cats). The quality, quantity, and availability of these nutrients can come from any source, and for those of us who are vegan, the best source is vegetable based.<br /><br />Tens of thousands, perhaps hundreds of thousands, of cats around the world live quite well on one of the several available vegan cat foods that are recognized as nutritionally complete. I personally have had 3 1/2 years of experience in feeding the Evolution kibble product that this review is addressing. It is a high quality product that is AAFCO certified as nutritionally complete for all life stages in cats. Not only is this product safe to feed your cat, but if you follow the recommended feeding procedures, you will find many benefits to both your cat's health and your wallet.<br /><br />If you desire more detailed information, I invite you to do a google search on vegan cats. I would put my web page information about this issue on this review, but it is against the policy for writing reviews on Amazon.<br /><br />Just for everyone's edification, I have researched this issue for well over 500 hours, read hundreds of technical papers, visited hundreds of web sites, and have made a commitment to specialize in feline nutrition as part of my Veterinary Technician studies. I probably know more about feline nutrition than 95% of all the vets in the world.<br /><br />My feline son is a vegan and will remain so because I am absolutely certain that his quality of life will be enhanced by his diet and that this choice will not be a detriment to his health.<br /><br />-------------------------------------<br /><br />Since writing this review in 2006 I have had a change in position about this particular product after 4 years of personal experience. The manufacturer of the Evolution foods was changing the formulation of the food on a regular basis and during that time I found that the Feline Kibble was not able to maintain the pH level in the urine of cats that was promised on the label and in their literature. At least that wasn't the case with my former feline son and my current feline son. As a result I can no longer recommend the use of Evolution Feline Kibble for male cats. Since urinary issues are different between male and female cats the Evolution Kibble MAY be satisfactory for feeding to female cats. Nutritionally the Evolution foods seem to be fine for nutrients but not necessarily adequate for maintaining the proper pH levels to avoid urinary issues for male cats.<br /><br />Consequently I am now recommending male cats use the Vegecat pH diet provided by Harbingers of a New Age. My son has been eating this food supplement in a specially prepared gluten formulation I created called a vegan feline roast. It is 62% protein, 33% fat, and 5% carbs and has a moisture content of about 60%. Almost a perfect combination of ingredients to mimic natural prey. My son finds this product to be very palatable and his urinary pH has been consistently at 6.4 for the three years that we have been producing and consuming this food. The drawback is that it takes about a half hour every 3 days to make the food and the cost is equivalent to a premium cat food. But on the other hand my son is trim, full of energy at 6 1/2 years, enjoys great health, no longer has urinary tract issues, and no other animal had to die in order to provide my son with life-giving nutrition.<br /><br />UPDATE:  4/17/11<br /><br />For those of you who are still considering feeding the Evolution kibble, please heed this warning.  Kibble is only 10% moisture content.  If you follow the directions given by the manufacturer to soak the kibble prior to feeding, you will end up with a mushy material that your cats may or may not like.  The danger in feeding the dry kibble is that your cat will eventually become so dehydrated that no amount of drinking will be sufficient to avoid hydration related illnesses.  Cats do not naturally drink water, they almost exclusively obtain all of their hydration from the food that they consume.  If they are eating something that only has 10% moisture, upon consumption the moisture that is contained within the digestive tract of the cat will be sucked into the food in order to give it enough fluidity to pass through the intestines.  This will often lead to gastro-intestinal diseases. Your cat will be constantly drinking water to make up for that deficiency, but no amount of drinking is enough to avoid the dehydration problem.  So please remember that the best source of moisture for your cat's health, comes from a wet food diet that is around 70% moisture.<br /><br />In October 2008 I wrote an article about vegan cats published in VegFamily magazine.  This information and more will help those who are interested in a vegan diet for cats understand more of the issues.<br /><br />UPDATE:  8/27/12<br /><br />My vegan feline son is now 8 years old and still maintains an extremely healthy life with absolutely no issues of any kind.  He has been using our Vegan Feline Roast product for the past 5 and 1/2 years and his lab tests indicate that his nutritional needs are being adequately met by his vegan diet.<br /><br />For those who are sceptical about a vegan diet for house cats, there is ample evidence that several vegan products are available to satisfy the nutritional needs of cats.  I am still not convinced that Evolution is a good product to feed based on my past history.  There are thousands of customers that seem to successfully feed the Evolution product; however, I believe that our Vegan Feline Roast Mix is a superior product that will yield far better results over the lifetime of feeding any house cat.  Our product is based on the Vegecat phi supplement offered by HOANA, which I have found to be an excellent product for hitting all of the missing nutritional elements that would otherwise come from meat.  The Vegecat product line has been successfully feeding thousands of cats over a 27 year period and we highly recommend the use of Vegecat for those people who wish to formulate their own vegan cat food.  The only difference between our food product and the HOANA vegecat product is that our product is a ready-to-make mix that has been specifically formulated for a high protein/high fat food that is easy to make and highly palatable to the vast majority of cats.<br /><br />I would caution people feeding the Evolution kibble to reconsider doing so.  The problem with kibble in general, not just the Evolution product, is the 10% moisture content of the food.  Cats that eat kibble exclusively will invariably become dehydrated and will not be able to consume enough water by drinking to avoid the condition.  Evolution kibble that is soaked with water prior to feeding, as recommended by the manufacturer, is an attempt to avoid this issue.  However, by soaking the product you will reduce the palatability quality to most cats and will make it harder for them to continue to want to eat the product.  This is a strategy to fix a problem that is inherent to the product itself.<br /><br />As time goes on, I become more convinced that using our Vegan Feline Roast product may in fact be a cure for diseases in cats like FLUTD and diabetes.  At some point in time I would like to perform a long term double blind scientifically significant study to support my empirical observations.  When my son started out 7 years ago eating Evolution kibble, he quickly developed a FLUTD condition, after 18 months of use, that cost $1500 at the vet to fix.  The last 5 1/2 years of eating nothing but our Vegan Feline Roast he has remained FLUTD free and maintains excellent health.  Just the savings alone from avoiding annual teeth cleaning has more than paid for itself in the use of our product.<br /><br />So my bottom line is to recommend not using Evolution Kibble in favor of either the HOANA vegecat supplement or our Vegan Feline Roast Mix.\n",
      "This review will make me sound really stupid, but whatever. I don't really care as long as people find out what's real and can avoid my mistakes.<br /><br />I got my wonderful little sweet Bella Bean when she was a few days shy of three years old. She had been bounced around from house to house and eating whatever was cheap. I have had cats around me my entire life, for about twenty-five years now. My mother always just fed them whatever, the kinds of food you buy in the supermarket - Friskies, Nine Lives, Kit & Kaboodle, stuff like that. And our cats were always fine, at least in terms of their eating habits. They would eat in the morning, stop when they were done, come back, and eat some more when they got hungry.<br /><br />My housemate at the time was working for Hill's and assured me that this was the best food ever made, so great, so on and so forth. I now know that she is an utter buffoon, but I initially trusted her judgment, which is so unfortunate because she doesn't think. She also had plenty of coupons for free or deeply discounted bags, which made it a much more attractive choice.<br /><br />I first tried feeding the little Bean an unmeasured amount of Science Diet in a bowl, but that didn't work, as she would devour it in one sitting. So then I took to measuring it, and she did the same thing. Then I started parsing it out to twice a day. That didn't work either, because she would start going crazy in the middle of the day, running around, intentionally destroying things, deliberately spilling her water, crying, etc., until she got more food. So then I split it into three servings. Same thing. Then it got to be four servings. That was a little better, but it was too much maintenance and unrealistic to be around every day to feed her four times. So then it went back to three. All the while, I was trying to reduce the amount of food I was feeding her to less than 3/4 of a cup because she was a little chubby. Reducing was hell. She became even more hungry, but I figured she would get used to it. Not really.<br /><br />For over a year, she would wake me up every morning looking for food in a serious way, knocking things off my desk, ripping up any paper she could find, scratching at the door and committing general acts of mischief. As soon as she got food, she was back to her sweet self, but only for three or four hours.<br /><br />We thought she was bored, we thought she was a little nutty, and maybe even had a kitty eating disorder. She always wanted food. It was kind of funny but in the end it was just sad.<br /><br />A few weeks back, we took her to a new (good, non-money factory) vet for her second checkup since I've had her. I talked with him about her being always hungry. He asked what she ate, and I told him the adult indoor Science Diet. Without saying as much, he basically told me that this food is garbage and I should look for something else. He said cat food should have a protein followed by a carbohydrate as the first two ingredients. Science Diet does, in a very loose, by-product kind of way - ground up slaughterhouse leftovers and corn dust. Then they put a bunch of vitamins in it to make it \"healthy,\" instead of just using good ingredients from the beginning. Not that I care about spending money on the Bean, but this food is way too expensive for what it is.<br /><br />So we began transitioning her onto Wellness indoor formula about two weeks ago. She is still eating 50 percent Science Diet with 50 percent Wellness (you really shouldn't just give a cat different food one day out of the blue) but SHE NEVER FREAKS OUT ANYMORE. It's amazing. And it's 100 percent because she is eating real food now, along with that sawdust and chicken hearts I still regrettable have to feed her. We have her down to eating twice a day, only 1/3 cup in TOTAL. She was eating three times a day, 5/8 of a cup in total. Now she eats some in the morning, walks away, eats some more a few hours later, and then looks for dinner about twelve hours after her initial feeding. No more knocking things over, no more trashing Dad's papers on the desk, no more howling, no more deliberately spilled water on the floor. It's incredible.<br /><br />I feel so bad that I was doing this to her for so long. We really thought she was just being dramatic or whatever. But no, she was genuinely hungry because she wasn't eating any real food.<br /><br />Do your cat a favor - buy her or him so food made with real ingredients, things you would eat - Wellness, Halo, Innova, Evo, whatever. Figure it out for yourself, but please don't feed your cat this. It's garbage.\n",
      "This review will make me sound really stupid, but whatever. I don't really care as long as people find out what's real and can avoid my mistakes.<br /><br />I got my wonderful little sweet Bella Bean when she was a few days shy of three years old. She had been bounced around from house to house and eating whatever was cheap. I have had cats around me my entire life, for about twenty-five years now. My mother always just fed them whatever, the kinds of food you buy in the supermarket - Friskies, Nine Lives, Kit & Kaboodle, stuff like that. And our cats were always fine, at least in terms of their eating habits. They would eat in the morning, stop when they were done, come back, and eat some more when they got hungry.<br /><br />My housemate at the time was working for Hill's and assured me that this was the best food ever made, so great, so on and so forth. I now know that she is an utter buffoon, but I initially trusted her judgment, which is so unfortunate because she doesn't think. She also had plenty of coupons for free or deeply discounted bags, which made it a much more attractive choice.<br /><br />I first tried feeding the little Bean an unmeasured amount of Science Diet in a bowl, but that didn't work, as she would devour it in one sitting. So then I took to measuring it, and she did the same thing. Then I started parsing it out to twice a day. That didn't work either, because she would start going crazy in the middle of the day, running around, intentionally destroying things, deliberately spilling her water, crying, etc., until she got more food. So then I split it into three servings. Same thing. Then it got to be four servings. That was a little better, but it was too much maintenance and unrealistic to be around every day to feed her four times. So then it went back to three. All the while, I was trying to reduce the amount of food I was feeding her to less than 3/4 of a cup because she was a little chubby. Reducing was hell. She became even more hungry, but I figured she would get used to it. Not really.<br /><br />For over a year, she would wake me up every morning looking for food in a serious way, knocking things off my desk, ripping up any paper she could find, scratching at the door and committing general acts of mischief. As soon as she got food, she was back to her sweet self, but only for three or four hours.<br /><br />We thought she was bored, we thought she was a little nutty, and maybe even had a kitty eating disorder. She always wanted food. It was kind of funny but in the end it was just sad.<br /><br />A few weeks back, we took her to a new (good, non-money factory) vet for her second checkup since I've had her. I talked with him about her being always hungry. He asked what she ate, and I told him the adult indoor Science Diet. Without saying as much, he basically told me that this food is garbage and I should look for something else. He said cat food should have a protein followed by a carbohydrate as the first two ingredients. Science Diet does, in a very loose, by-product kind of way - ground up slaughterhouse leftovers and corn dust. Then they put a bunch of vitamins in it to make it \"healthy,\" instead of just using good ingredients from the beginning. Not that I care about spending money on the Bean, but this food is way too expensive for what it is.<br /><br />So we began transitioning her onto Wellness indoor formula about two weeks ago. She is still eating 50 percent Science Diet with 50 percent Wellness (you really shouldn't just give a cat different food one day out of the blue) but SHE NEVER FREAKS OUT ANYMORE. It's amazing. And it's 100 percent because she is eating real food now, along with that sawdust and chicken hearts I still regrettable have to feed her. We have her down to eating twice a day, only 1/3 cup in TOTAL. She was eating three times a day, 5/8 of a cup in total. Now she eats some in the morning, walks away, eats some more a few hours later, and then looks for dinner about twelve hours after her initial feeding. No more knocking things over, no more trashing Dad's papers on the desk, no more howling, no more deliberately spilled water on the floor. It's incredible.<br /><br />I feel so bad that I was doing this to her for so long. We really thought she was just being dramatic or whatever. But no, she was genuinely hungry because she wasn't eating any real food.<br /><br />Do your cat a favor - buy her or him so food made with real ingredients, things you would eat - Wellness, Halo, Innova, Evo, whatever. Figure it out for yourself, but please don't feed your cat this. It's garbage.\n",
      "Topic 3:\n",
      "tea product green amazon teas com organic cats http www\n",
      "\n",
      "*****<br /><br />This Organic Green Tea Kombucha Decaf from Yogi Tea is certainly unique. It tastes like a mixture of passion fruit, plum, ginger, and green tea. It is mild, and not bitter at all, even when you leave the tea bag in the whole time you drink the tea, as I do. Best of all, it is an easy, convenient way of benefiting from Kombucha, if you don't grow your own (and I don't anymore, as it is not easy or convenient for me). I have never before obtained my Kombucha from a tea; this is a tasty way to do so.<br /><br />I am definitely impressed with this tea and with Yogi Teas in general. Organic Green Tea Kombucha Decaf comes with an expiration date (a good thing, because it's not full of preservatives, plus you can tell if it is fresh). Yogi Tea seems to be another company (like Numi, Aspen, Traditional Medicinals) that values sustainable and healthy practices. Their web site has a helpful glossary of tea ingredients and is beautifully designed, with info about each tea they make.<br /><br />Yogi Tea writes this on the box about the tea's benefits: \"Green Tea Decaf Kombucha uses the same delicious recipe as our Green Tea Kombucha but is naturally decaffeinated. Our organically certified CO2 decaffeination method removes only the caffeine while leaving all of the beneficial polyphenolic elements of Organic Green Tea (Camellia sinensis) intact. This method also maintains the antioxidant properties and delicate flavor of our delicious, organically-grown Green Tea.* Unlike other green teas, this special organic Green Tea has a delicate flavor with no bitterness. This formula incorporates the natural antioxidant properties of Green Tea with a concentrated, purified extract of Kombucha-Pure(tm). This extract is made from Kombucha grown in a unique medium of 32 supporting Chinese herbs and is produced without the use of refined sugar or black tea. For centuries, practitioners of herbal medicine have used Kombucha to detoxify the body, enhance the immune system, fight fatigue and soothe an upset stomach.* This convenient form of Kombucha can be taken daily for maximum health benefits.\"<br /><br />Yogi Tea's use of \"Kombucha-Pure\", grown in 32 Chinese herbs and WITHOUT black tea or sugar is very, very appealing, and a new and exciting way of producing Kombucha.<br /><br />Note that Yogi Tea also makes a caffeinated version of this tea that has exactly the same ingredients except that the organic green tea does include caffeine.<br /><br />Highly recommended.<br /><br />*****\n",
      "Eager to jump on the green tea bandwagon, Unilever has created this awful chemical concoction and is marketing it as a healthy drink. If there is green tea in here, I cannot taste it. The distinctive and delicate flavor of green tea is completely masked by sweeteners and additives. All I taste is sugar, making this no better for you than any other sugary drink in the supermarket beverage aisle. Green tea is naturally greenish-yellow and you should have to do nothing else to it except bottle it and sell it. If you have to put dyes and colors in here (caramel color, FD&C Yellow #5, Blue #1), you are doing something very wrong. Whatever health benefits you might obtain from drinking green tea is negated by all the HFCS, preservatives, artificial colors, and junk Lipton has put in here.<br /><br />From Lipton's website, the ingredients in here: Water, high fructose corn syrup, natural flavor, citric acid, sodium hexametaphosphate (to protect flavor), green tea, ascorbic acid (to protect flavor), phosphoric acid, potassium sorbate (preserves freshness), potassium cinnamate (preserves freshness), honey, calcium disodium edta (to protect flavor), caramel color, yellow 5, blue 1. Ingredients are listed in order of most to least. \"Green tea\" isn't until the 6th item into the list. Why 2 food colorants in here? Because blue and yellow make green, like we were taught in nursery school. The \"green\" in this green tea is from chemicals, not natural pigments present in the tea.<br /><br />Green tea is naturally beneficial for you and should be incorporated into a daily lifestyle (improves cardiovascular health, fights cancer), but not this product. Do not be fooled by bottle's health claims or pretty green design. There are no less than 4 artificial preservatives in here and you are getting little more than colored sugary water. It also contains no fruit juice (as written on the label), so the citrus flavor is derived from something other than lemons and limes.<br /><br />In tea drinking cultures, green tea is almost always served unsweetened, either hot or cold. It has 0 calories and is loaded with Vitamin C. If you want to enjoy a truly healthy green tea, you can easily brew your own and refrigerate. You can sweeten with honey as desired. A wonderful brand available at Costco and Amazon is <a href=\"http://www.amazon.com/gp/product/B000WB1YSE\">Kirkland Signature Ito En Matcha Blend (Green Tea), 100% Japanese Green Tea Leaves, 100 Tea Bags</a>. Shoppers living near Asian stores will find boxes of bagged and loose leaf green teas for approx $2-10 depending on the size and quality.<br /><br />Avoid this tea. It's just bad, unless all you want is an overly-sweet beverage to quench your thirst. But even then there are better all-natural alternatives, like Arizona Ice Tea and Snapple.\n",
      "I love Iced Tea & always have two half-gallon bottles of tea in the fridge. I use <a href=\"http://www.amazon.com/gp/product/B0013Z9NY0\">Luminarc Quadro 2-Liter Glass Pitcher with Lid</a>. My favorites are <a href=\"http://www.amazon.com/gp/product/B004FELZLK\">Newman's Own Organic Tea, 4.95-Ounce Packages (Pack of 6)</a> & <a href=\"http://www.amazon.com/gp/product/B000SAPXGS\">Davidson's Tea Bulk, Moroccan Green with Mint, 16-Ounce Bag</a> which I brew in a <a href=\"http://www.amazon.com/gp/product/B000FQ7KLG\">Swissgold TF 200 Tea Ball</a>. So yes, I am a Major Tea Lover.  I ordered the Passion Tea, based on the reviews. It seemed expensive, but after using it for the past ten days, I am very impressed. It is refreshing & easy to brew. Be prepared for a packaging surprise; it arrived in a plain brown commercial box, the same one they send to the stores. Easy to prepare after the first batch.<br /><br />I like to have tea ready to go, so I fill my<a href=\"http://www.amazon.com/gp/product/B003XPISEO\">6-pack of Aquasana 18 Oz. Glass Bottles</a>and season my tea with<a href=\"http://www.amazon.com/gp/product/B00181YL7I\">Nellie & Joe's Famous Key LEMON Juice, The Original- 16 oz</a> and sip through a <a href=\"http://www.amazon.com/gp/product/B003YJMDCM\">Zak Reusable Polycarbonate Stripe Straws - Set of 12</a>  which I keep clean with a <a href=\"http://www.amazon.com/gp/product/B000QD5GAA\">Brushtech Sports Bottle Straw Washing Brush  B23C</a>. And YES, I am a PRIME shopper and love Amazon.  At 70, I am a mainly home bound caretaker for my mom, who is 96, so shopping at Amazon is efficient and economical.\n",
      "Let me preface this with a brief history of my tea addiction:  Until I was approximately 40ish I thought all tea came with ice and enough sugar to make it into the infamous \"brown kool-aid\".  Since I only drank tea at restaurants and my Mom's at obligatory dinners, no big deal.  Well as I slipped towards 50 I began to drink more coffee (which I liked) but which eventually led to a parting of ways due to the fact that the coffees I liked, did not return the favor and feeling slightly nauseous was not the desired effect I was looking to achieve.  One day a friend of mine suggested I try some quality tea (which meant nothing made by Tetley/Liptons/etc).  I tried <a href=\"http://www.amazon.com/gp/product/B0000DBN2F\">Tazo Passion Tea, 24 Tea Bags</a> and while good it was missing that elusive element combination of good taste and adequate energy boost.  So I stumbled into this item <a href=\"http://www.amazon.com/gp/product/B000F4H5FY\">Twinings Variety Pack of Four Flavors, Tea Bags, 20-Count Boxes (Pack of 6)</a> which gave me 4 choices (great idea).  So without any additional ramblings are my opinions:  English Breakfast Tea = 5 Star, this stuff is great  /  Irish Breakfast Tea = Again 5 Stars, maybe a infinitesimal edge over the English version / Earl Grey = 4 Stars, good taste and flavor, not as good as the breakfast teas (IMHO) but probably better for later in the evening  / Lady Grey = WTF??  This stuff was horrible, I tried to use 1 bag of it with 2 bags of the others to keep from pitching it into the trash but to no avail, I am gonna give it to someone who has no taste buds.  1 Star.<br /><br />Again, realize I am far from a connoisseur of fine tea but I know what I like and what I don't, I am going to buy a few boxes of the breakfast teas and enjoy them.  BTW I also bought a huge box of <a href=\"http://www.amazon.com/gp/product/B000XEV9YE\">Taylors of Harrogate, Yorkshire Gold Tea, 160-Count Tea Bags</a> and to prove my tastes are obviously out of the norm I hated it (I wanted to love it but alas it has something added to it that sure ain't tea)\n",
      "Topic 4:\n",
      "product amazon com http www gp href cats vegan pack\n",
      "\n",
      "In the Beginning there was Fruit Juice, and there was Soda Pop, and never the twain should meet... unless you mixed them yourself.  But then somebody got the Great Idea -- when reconstituting fruit juice after Pasteurization, why not reconstitute it with carbonated water?  Thus was born...<br /><br />Soda Juice!<br /><br />And I tasted it, and it was Good!  Apple and Blackberry were both rather mild tasting; Clementine and Grapefruit a little stronger and more tart; and Pomegranate had the strongest taste.  I'd say Pomegranate and Grapefruit were my favorites, but I enjoyed all of them.<br /><br />In the cans you have 5 flavor choices: <a href=\"http://www.amazon.com/gp/product/B0014WYY1E\">Izze All Natural Sparkling Juice, Apple, 8.4-Ounce Cans (Pack of 24)</a>, <a href=\"http://www.amazon.com/gp/product/B0014WYXYW\">Izze All Natural Sparkling Juice, Blackberry, 8.4-Ounce Cans (Pack of 24)</a>, <a href=\"http://www.amazon.com/gp/product/B0014X5O1C\">Izze All Natural Sparkling Juice, Clementine, 8.4-Ounce Cans (Pack of 24)</a>, <a href=\"http://www.amazon.com/gp/product/B0014WYXTC\">Izze All Natural Sparkling Juice, Grapefruit, 8.4-Ounce Cans (Pack of 24)</a>, and <a href=\"http://www.amazon.com/gp/product/B0014WYXQK\">Izze All Natural Sparkling Juice, Pomegranate, 8.4-Ounce Cans (Pack of 24)</a>.  The only difference between Izze in the cans and Izze in the bottles, other than the obvious of size and container, is that only Izze in the cans is fortified with vitamins: C, B6, and Niacin, plus the fact that currently <a href=\"http://www.amazon.com/gp/product/B000NUBTQQ\">Izze Sparkling Blueberry Soda (12 ounce)</a> and Izze Sparkling Peach Soda (12 ounce) are only available in bottles.<br /><br />Since virtually nothing is added, the slight nutritional differences must be due to the characteristics of the different juices being used.  Apple, Blackberry, and Grapefruit have the highest calories, 90, Clementine and Pomegranate the lowest, 80.  Apple, Blackberry, and Clementine have the highest sodium, 15mg; Grapefruit and Pomegranate the lowest, 10mg.  Apple and Blackberry have the highest total carbohydrates, 21; Clementine, Grapefruit, and Pomegranate the lowest, 20.  Finally Apple has the highest sugars, 21g; Blackberry and Grapefruit are next, 20g; and Clementine and Pomegranate the lowest, 19g.<br /><br />Note: as other reviewers have already mentioned, all of these are fruit juice blends so those with fruit juice health concerns need to be aware of more than just the title juice.  All contain white grape, apple, and lemon juice.  In addition to their title juices Blackberry contains raspberry; Grapefruit contains orange; and Pomegranate contains clarified pineapple and cranberry juice.<br /><br />Compare and Contrast: a similar product is worth considering: <a href=\"http://www.amazon.com/gp/product/B000BDDHPQ\">essn Sparkling Blood Orange & Cranberry Juice, 8.4-Ounce Cans (Pack of 24)</a>, <a href=\"http://www.amazon.com/gp/product/B000BDHBWG\">essn Sparkling Fuji Apple Juice, 8.4-Ounce Cans (Pack of 24)</a>, <a href=\"http://www.amazon.com/gp/product/B001687ZT4\">essn Sparkling Mango & Passion Fruit, 8.4-Ounce Cans (Pack of 24)</a>, <a href=\"http://www.amazon.com/gp/product/B000BDGA5A\">essn Sparkling Meyer Lemon Juice, 8.4-Ounce Cans (Pack of 24)</a>, essn Sparkling Minneola Tangerine Juice, 8.4-Ounce Cans (Pack of 24), and essn Sparkling Pomegranate & Montmorency Cherry Juice, 8.4-Ounce Cans (Pack of 24).  The difference?  The essn products lack the vitamin fortification, have a higher carbonated water to juice ratio, and have roughly twice the calories, total carbohydrates, and sugars of the Izze products, probably because they contain the fruit pulp, which the Izze products do not.\n",
      "Unfortunately most people are ill informed about vegan cats, including most veterinarians.<br /><br />Wild cats are in fact obligate carnivores. However, in domesticating the house cat and bringing it into our homes we have effectively removed the cat from its natural prey of mice, insects, birds, lizards, and other small creatures. During the past 100 years or so, as the human food industry was searching for a way to salvage and use all the waste materials from its processing lines, it came upon a wonderful solution. Lets boil it all up and dry it out and add it to the food we make for cats and dogs. As a result, the vast majority of commercial pet foods contain what are euphemistically referred to as the four D's, dead, dying, disabled, and diseased animals, along with other quite undesirable materials. Quite frankly, if you are feeding this junk to your pets, you are effectively poisoning them. We are seeing diseases in pets today that we have never seen before because of the wide variety of contaminated ingredients that are finding their way into the food we feed our companion animals. You know \"garbage in, garbage out!\"<br /><br />Now the issue here is not meat; it is about providing all the essential and non-essential amino acids (the building blocks of proteins) and vitamins and minerals that are bio-available to the particularly unique physiology of felids (cats). The quality, quantity, and availability of these nutrients can come from any source, and for those of us who are vegan, the best source is vegetable based.<br /><br />Tens of thousands, perhaps hundreds of thousands, of cats around the world live quite well on one of the several available vegan cat foods that are recognized as nutritionally complete. I personally have had 3 1/2 years of experience in feeding the Evolution kibble product that this review is addressing. It is a high quality product that is AAFCO certified as nutritionally complete for all life stages in cats. Not only is this product safe to feed your cat, but if you follow the recommended feeding procedures, you will find many benefits to both your cat's health and your wallet.<br /><br />If you desire more detailed information, I invite you to do a google search on vegan cats. I would put my web page information about this issue on this review, but it is against the policy for writing reviews on Amazon.<br /><br />Just for everyone's edification, I have researched this issue for well over 500 hours, read hundreds of technical papers, visited hundreds of web sites, and have made a commitment to specialize in feline nutrition as part of my Veterinary Technician studies. I probably know more about feline nutrition than 95% of all the vets in the world.<br /><br />My feline son is a vegan and will remain so because I am absolutely certain that his quality of life will be enhanced by his diet and that this choice will not be a detriment to his health.<br /><br />-------------------------------------<br /><br />Since writing this review in 2006 I have had a change in position about this particular product after 4 years of personal experience. The manufacturer of the Evolution foods was changing the formulation of the food on a regular basis and during that time I found that the Feline Kibble was not able to maintain the pH level in the urine of cats that was promised on the label and in their literature. At least that wasn't the case with my former feline son and my current feline son. As a result I can no longer recommend the use of Evolution Feline Kibble for male cats. Since urinary issues are different between male and female cats the Evolution Kibble MAY be satisfactory for feeding to female cats. Nutritionally the Evolution foods seem to be fine for nutrients but not necessarily adequate for maintaining the proper pH levels to avoid urinary issues for male cats.<br /><br />Consequently I am now recommending male cats use the Vegecat pH diet provided by Harbingers of a New Age. My son has been eating this food supplement in a specially prepared gluten formulation I created called a vegan feline roast. It is 62% protein, 33% fat, and 5% carbs and has a moisture content of about 60%. Almost a perfect combination of ingredients to mimic natural prey. My son finds this product to be very palatable and his urinary pH has been consistently at 6.4 for the three years that we have been producing and consuming this food. The drawback is that it takes about a half hour every 3 days to make the food and the cost is equivalent to a premium cat food. But on the other hand my son is trim, full of energy at 6 1/2 years, enjoys great health, no longer has urinary tract issues, and no other animal had to die in order to provide my son with life-giving nutrition.<br /><br />UPDATE:  4/17/11<br /><br />For those of you who are still considering feeding the Evolution kibble, please heed this warning.  Kibble is only 10% moisture content.  If you follow the directions given by the manufacturer to soak the kibble prior to feeding, you will end up with a mushy material that your cats may or may not like.  The danger in feeding the dry kibble is that your cat will eventually become so dehydrated that no amount of drinking will be sufficient to avoid hydration related illnesses.  Cats do not naturally drink water, they almost exclusively obtain all of their hydration from the food that they consume.  If they are eating something that only has 10% moisture, upon consumption the moisture that is contained within the digestive tract of the cat will be sucked into the food in order to give it enough fluidity to pass through the intestines.  This will often lead to gastro-intestinal diseases. Your cat will be constantly drinking water to make up for that deficiency, but no amount of drinking is enough to avoid the dehydration problem.  So please remember that the best source of moisture for your cat's health, comes from a wet food diet that is around 70% moisture.<br /><br />In October 2008 I wrote an article about vegan cats published in VegFamily magazine.  This information and more will help those who are interested in a vegan diet for cats understand more of the issues.<br /><br />UPDATE:  8/27/12<br /><br />My vegan feline son is now 8 years old and still maintains an extremely healthy life with absolutely no issues of any kind.  He has been using our Vegan Feline Roast product for the past 5 and 1/2 years and his lab tests indicate that his nutritional needs are being adequately met by his vegan diet.<br /><br />For those who are sceptical about a vegan diet for house cats, there is ample evidence that several vegan products are available to satisfy the nutritional needs of cats.  I am still not convinced that Evolution is a good product to feed based on my past history.  There are thousands of customers that seem to successfully feed the Evolution product; however, I believe that our Vegan Feline Roast Mix is a superior product that will yield far better results over the lifetime of feeding any house cat.  Our product is based on the Vegecat phi supplement offered by HOANA, which I have found to be an excellent product for hitting all of the missing nutritional elements that would otherwise come from meat.  The Vegecat product line has been successfully feeding thousands of cats over a 27 year period and we highly recommend the use of Vegecat for those people who wish to formulate their own vegan cat food.  The only difference between our food product and the HOANA vegecat product is that our product is a ready-to-make mix that has been specifically formulated for a high protein/high fat food that is easy to make and highly palatable to the vast majority of cats.<br /><br />I would caution people feeding the Evolution kibble to reconsider doing so.  The problem with kibble in general, not just the Evolution product, is the 10% moisture content of the food.  Cats that eat kibble exclusively will invariably become dehydrated and will not be able to consume enough water by drinking to avoid the condition.  Evolution kibble that is soaked with water prior to feeding, as recommended by the manufacturer, is an attempt to avoid this issue.  However, by soaking the product you will reduce the palatability quality to most cats and will make it harder for them to continue to want to eat the product.  This is a strategy to fix a problem that is inherent to the product itself.<br /><br />As time goes on, I become more convinced that using our Vegan Feline Roast product may in fact be a cure for diseases in cats like FLUTD and diabetes.  At some point in time I would like to perform a long term double blind scientifically significant study to support my empirical observations.  When my son started out 7 years ago eating Evolution kibble, he quickly developed a FLUTD condition, after 18 months of use, that cost $1500 at the vet to fix.  The last 5 1/2 years of eating nothing but our Vegan Feline Roast he has remained FLUTD free and maintains excellent health.  Just the savings alone from avoiding annual teeth cleaning has more than paid for itself in the use of our product.<br /><br />So my bottom line is to recommend not using Evolution Kibble in favor of either the HOANA vegecat supplement or our Vegan Feline Roast Mix.\n",
      "Unfortunately most people are ill informed about vegan cats, including most veterinarians.<br /><br />Wild cats are in fact obligate carnivores. However, in domesticating the house cat and bringing it into our homes we have effectively removed the cat from its natural prey of mice, insects, birds, lizards, and other small creatures. During the past 100 years or so, as the human food industry was searching for a way to salvage and use all the waste materials from its processing lines, it came upon a wonderful solution. Lets boil it all up and dry it out and add it to the food we make for cats and dogs. As a result, the vast majority of commercial pet foods contain what are euphemistically referred to as the four D's, dead, dying, disabled, and diseased animals, along with other quite undesirable materials. Quite frankly, if you are feeding this junk to your pets, you are effectively poisoning them. We are seeing diseases in pets today that we have never seen before because of the wide variety of contaminated ingredients that are finding their way into the food we feed our companion animals. You know \"garbage in, garbage out!\"<br /><br />Now the issue here is not meat; it is about providing all the essential and non-essential amino acids (the building blocks of proteins) and vitamins and minerals that are bio-available to the particularly unique physiology of felids (cats). The quality, quantity, and availability of these nutrients can come from any source, and for those of us who are vegan, the best source is vegetable based.<br /><br />Tens of thousands, perhaps hundreds of thousands, of cats around the world live quite well on one of the several available vegan cat foods that are recognized as nutritionally complete. I personally have had 3 1/2 years of experience in feeding the Evolution kibble product that this review is addressing. It is a high quality product that is AAFCO certified as nutritionally complete for all life stages in cats. Not only is this product safe to feed your cat, but if you follow the recommended feeding procedures, you will find many benefits to both your cat's health and your wallet.<br /><br />If you desire more detailed information, I invite you to do a google search on vegan cats. I would put my web page information about this issue on this review, but it is against the policy for writing reviews on Amazon.<br /><br />Just for everyone's edification, I have researched this issue for well over 500 hours, read hundreds of technical papers, visited hundreds of web sites, and have made a commitment to specialize in feline nutrition as part of my Veterinary Technician studies. I probably know more about feline nutrition than 95% of all the vets in the world.<br /><br />My feline son is a vegan and will remain so because I am absolutely certain that his quality of life will be enhanced by his diet and that this choice will not be a detriment to his health.<br /><br />-------------------------------------<br /><br />Since writing this review in 2006 I have had a change in position about this particular product after 4 years of personal experience. The manufacturer of the Evolution foods was changing the formulation of the food on a regular basis and during that time I found that the Feline Kibble was not able to maintain the pH level in the urine of cats that was promised on the label and in their literature. At least that wasn't the case with my former feline son and my current feline son. As a result I can no longer recommend the use of Evolution Feline Kibble for male cats. Since urinary issues are different between male and female cats the Evolution Kibble MAY be satisfactory for feeding to female cats. Nutritionally the Evolution foods seem to be fine for nutrients but not necessarily adequate for maintaining the proper pH levels to avoid urinary issues for male cats.<br /><br />Consequently I am now recommending male cats use the Vegecat pH diet provided by Harbingers of a New Age. My son has been eating this food supplement in a specially prepared gluten formulation I created called a vegan feline roast. It is 62% protein, 33% fat, and 5% carbs and has a moisture content of about 60%. Almost a perfect combination of ingredients to mimic natural prey. My son finds this product to be very palatable and his urinary pH has been consistently at 6.4 for the three years that we have been producing and consuming this food. The drawback is that it takes about a half hour every 3 days to make the food and the cost is equivalent to a premium cat food. But on the other hand my son is trim, full of energy at 6 1/2 years, enjoys great health, no longer has urinary tract issues, and no other animal had to die in order to provide my son with life-giving nutrition.<br /><br />UPDATE:  4/17/11<br /><br />For those of you who are still considering feeding the Evolution kibble, please heed this warning.  Kibble is only 10% moisture content.  If you follow the directions given by the manufacturer to soak the kibble prior to feeding, you will end up with a mushy material that your cats may or may not like.  The danger in feeding the dry kibble is that your cat will eventually become so dehydrated that no amount of drinking will be sufficient to avoid hydration related illnesses.  Cats do not naturally drink water, they almost exclusively obtain all of their hydration from the food that they consume.  If they are eating something that only has 10% moisture, upon consumption the moisture that is contained within the digestive tract of the cat will be sucked into the food in order to give it enough fluidity to pass through the intestines.  This will often lead to gastro-intestinal diseases. Your cat will be constantly drinking water to make up for that deficiency, but no amount of drinking is enough to avoid the dehydration problem.  So please remember that the best source of moisture for your cat's health, comes from a wet food diet that is around 70% moisture.<br /><br />In October 2008 I wrote an article about vegan cats published in VegFamily magazine.  This information and more will help those who are interested in a vegan diet for cats understand more of the issues.<br /><br />UPDATE:  8/27/12<br /><br />My vegan feline son is now 8 years old and still maintains an extremely healthy life with absolutely no issues of any kind.  He has been using our Vegan Feline Roast product for the past 5 and 1/2 years and his lab tests indicate that his nutritional needs are being adequately met by his vegan diet.<br /><br />For those who are sceptical about a vegan diet for house cats, there is ample evidence that several vegan products are available to satisfy the nutritional needs of cats.  I am still not convinced that Evolution is a good product to feed based on my past history.  There are thousands of customers that seem to successfully feed the Evolution product; however, I believe that our Vegan Feline Roast Mix is a superior product that will yield far better results over the lifetime of feeding any house cat.  Our product is based on the Vegecat phi supplement offered by HOANA, which I have found to be an excellent product for hitting all of the missing nutritional elements that would otherwise come from meat.  The Vegecat product line has been successfully feeding thousands of cats over a 27 year period and we highly recommend the use of Vegecat for those people who wish to formulate their own vegan cat food.  The only difference between our food product and the HOANA vegecat product is that our product is a ready-to-make mix that has been specifically formulated for a high protein/high fat food that is easy to make and highly palatable to the vast majority of cats.<br /><br />I would caution people feeding the Evolution kibble to reconsider doing so.  The problem with kibble in general, not just the Evolution product, is the 10% moisture content of the food.  Cats that eat kibble exclusively will invariably become dehydrated and will not be able to consume enough water by drinking to avoid the condition.  Evolution kibble that is soaked with water prior to feeding, as recommended by the manufacturer, is an attempt to avoid this issue.  However, by soaking the product you will reduce the palatability quality to most cats and will make it harder for them to continue to want to eat the product.  This is a strategy to fix a problem that is inherent to the product itself.<br /><br />As time goes on, I become more convinced that using our Vegan Feline Roast product may in fact be a cure for diseases in cats like FLUTD and diabetes.  At some point in time I would like to perform a long term double blind scientifically significant study to support my empirical observations.  When my son started out 7 years ago eating Evolution kibble, he quickly developed a FLUTD condition, after 18 months of use, that cost $1500 at the vet to fix.  The last 5 1/2 years of eating nothing but our Vegan Feline Roast he has remained FLUTD free and maintains excellent health.  Just the savings alone from avoiding annual teeth cleaning has more than paid for itself in the use of our product.<br /><br />So my bottom line is to recommend not using Evolution Kibble in favor of either the HOANA vegecat supplement or our Vegan Feline Roast Mix.\n",
      "I honestly don't get the popularity of this item. It is nothing more than B complex in liquid form. I guess it's something to take if you don't carry around a small bottle of B vitamins. Maybe I drink too much coffee and that is why I can't appreciate the energy effects of a B complex, I think taurine and guarana are much better energy sources. Whether you prefer B vits, caffeine, taurine or guarana, below are products that will give you what this product gives you(or more) at a much more reasonable price.<br /><br />B supplements:<br /><a href=\"http://www.amazon.com/gp/product/B00020HQAU\">B-100 Complex 100 caps</a><br />Super Stress B Complex 100 Caps<br /><br />Liquid B supplements:<br /><a href=\"http://www.amazon.com/gp/product/B0010NOUDE\">Nature's Bounty B-Complex Sublingual Liquid 2 fl oz (59 ml)</a><br /><a href=\"http://www.amazon.com/gp/product/B00125W1AO\">World Organic - Liquid B Complex, 16 fl oz liquid</a><br /><br />Caffeine, Taurine & Guarana:<br /><a href=\"http://www.amazon.com/gp/product/B000MTM0WK\">Red Bull Energy Drink, Sugarfree, 8.4 Ounce Can (Pack of 24)</a><br /><a href=\"http://www.amazon.com/gp/product/B000J2O4YC\">Diet Rockstar Energy Drink-Double Strength Energy Drink 16oz, 24 Pack</a><br /><a href=\"http://www.amazon.com/gp/product/B001DNBYXK\">Monster Lo-carb Energy 16-Ounce., 27.5 LBS Cans (Pack of 24)</a><br /><a href=\"http://www.amazon.com/gp/product/B000BQSQ68\">NOW Foods Taurine Pure Powder, 8-Ounce</a><br /><a href=\"http://www.amazon.com/gp/product/B000703AU0\">Super Guarana 1200mg - 90 tabs,(Good N' Natural)</a><br /><br />Personally, I  think it's silly to cough up two dollars for one shot of this when you can have the same level of energy, through the same vitamins at a much cheaper price.\n"
     ]
    }
   ],
   "source": [
    "print \"\\n\\nLSI Topics \\n\\n\"\n",
    "display_topics(lsi_H, lsi_W, tf_feature_names, documents, no_top_words, no_top_documents)"
   ]
  },
  {
   "cell_type": "code",
   "execution_count": null,
   "metadata": {},
   "outputs": [],
   "source": []
  }
 ],
 "metadata": {
  "kernelspec": {
   "display_name": "Python 2",
   "language": "python",
   "name": "python2"
  },
  "language_info": {
   "codemirror_mode": {
    "name": "ipython",
    "version": 2
   },
   "file_extension": ".py",
   "mimetype": "text/x-python",
   "name": "python",
   "nbconvert_exporter": "python",
   "pygments_lexer": "ipython2",
   "version": "2.7.10"
  }
 },
 "nbformat": 4,
 "nbformat_minor": 2
}
